{
 "cells": [
  {
   "cell_type": "markdown",
   "metadata": {},
   "source": [
    "<H1> SPIKE CHALLENGE \n",
    "    \n",
    "<h3> ISABEL MOSQUERA\n"
   ]
  },
  {
   "cell_type": "code",
   "execution_count": 24,
   "metadata": {},
   "outputs": [],
   "source": [
    "import pandas as pd\n",
    "import numpy as np\n",
    "import matplotlib.pyplot as plt\n",
    "import seaborn as sns\n",
    "import plotly\n",
    "import plotly.express as px\n",
    "import plotly.graph_objects as go\n",
    "import plotly.figure_factory as ff\n",
    "from plotly.subplots import make_subplots\n",
    "from datetime import datetime"
   ]
  },
  {
   "cell_type": "code",
   "execution_count": 8,
   "metadata": {},
   "outputs": [],
   "source": [
    "raw_data_banco = pd.read_csv(\"C:/Users/IM_ASUS/Spike/desafio_spike_precios-main/banco_central.csv\")"
   ]
  },
  {
   "cell_type": "code",
   "execution_count": 9,
   "metadata": {},
   "outputs": [],
   "source": [
    "df_banco = raw_data_banco.copy()"
   ]
  },
  {
   "cell_type": "code",
   "execution_count": 10,
   "metadata": {},
   "outputs": [],
   "source": [
    "pd.options.display.max_columns = None\n",
    "pd.options.display.max_rows = None"
   ]
  },
  {
   "cell_type": "markdown",
   "metadata": {},
   "source": [
    "Podemos usar la correlación para ver que variables estan más relacionadas de aqui podemos tomar variables interesantes para nuestro análisis"
   ]
  },
  {
   "cell_type": "code",
   "execution_count": 11,
   "metadata": {},
   "outputs": [
    {
     "data": {
      "text/html": [
       "<div>\n",
       "<style scoped>\n",
       "    .dataframe tbody tr th:only-of-type {\n",
       "        vertical-align: middle;\n",
       "    }\n",
       "\n",
       "    .dataframe tbody tr th {\n",
       "        vertical-align: top;\n",
       "    }\n",
       "\n",
       "    .dataframe thead th {\n",
       "        text-align: right;\n",
       "    }\n",
       "</style>\n",
       "<table border=\"1\" class=\"dataframe\">\n",
       "  <thead>\n",
       "    <tr style=\"text-align: right;\">\n",
       "      <th></th>\n",
       "      <th>Precio_de_la_onza_troy_de_oro_dolaresoz</th>\n",
       "      <th>Precio_de_la_onza_troy_de_plata_dolaresoz</th>\n",
       "      <th>Precio_del_diesel_centavos_de_dolargalon</th>\n",
       "      <th>Precio_del_gas_natural_dolaresmillon_de_unidades_termicas_britanicas</th>\n",
       "      <th>Precio_del_petroleo_Brent_dolaresbarril</th>\n",
       "      <th>Precio_del_petroleo_WTI_dolaresbarril</th>\n",
       "      <th>Precio_del_propano_centavos_de_dolargalon_DTN</th>\n",
       "      <th>Ventas_autos_nuevos</th>\n",
       "    </tr>\n",
       "  </thead>\n",
       "  <tbody>\n",
       "    <tr>\n",
       "      <th>Precio_de_la_onza_troy_de_oro_dolaresoz</th>\n",
       "      <td>1.000000</td>\n",
       "      <td>0.898270</td>\n",
       "      <td>0.110910</td>\n",
       "      <td>-0.201220</td>\n",
       "      <td>0.620488</td>\n",
       "      <td>0.738189</td>\n",
       "      <td>-0.107744</td>\n",
       "      <td>0.233700</td>\n",
       "    </tr>\n",
       "    <tr>\n",
       "      <th>Precio_de_la_onza_troy_de_plata_dolaresoz</th>\n",
       "      <td>0.898270</td>\n",
       "      <td>1.000000</td>\n",
       "      <td>0.400306</td>\n",
       "      <td>-0.165895</td>\n",
       "      <td>0.687023</td>\n",
       "      <td>0.762469</td>\n",
       "      <td>0.325925</td>\n",
       "      <td>0.173424</td>\n",
       "    </tr>\n",
       "    <tr>\n",
       "      <th>Precio_del_diesel_centavos_de_dolargalon</th>\n",
       "      <td>0.110910</td>\n",
       "      <td>0.400306</td>\n",
       "      <td>1.000000</td>\n",
       "      <td>0.455099</td>\n",
       "      <td>0.989138</td>\n",
       "      <td>0.970977</td>\n",
       "      <td>0.820823</td>\n",
       "      <td>0.343812</td>\n",
       "    </tr>\n",
       "    <tr>\n",
       "      <th>Precio_del_gas_natural_dolaresmillon_de_unidades_termicas_britanicas</th>\n",
       "      <td>-0.201220</td>\n",
       "      <td>-0.165895</td>\n",
       "      <td>0.455099</td>\n",
       "      <td>1.000000</td>\n",
       "      <td>0.005584</td>\n",
       "      <td>0.047865</td>\n",
       "      <td>0.693556</td>\n",
       "      <td>-0.074931</td>\n",
       "    </tr>\n",
       "    <tr>\n",
       "      <th>Precio_del_petroleo_Brent_dolaresbarril</th>\n",
       "      <td>0.620488</td>\n",
       "      <td>0.687023</td>\n",
       "      <td>0.989138</td>\n",
       "      <td>0.005584</td>\n",
       "      <td>1.000000</td>\n",
       "      <td>0.983324</td>\n",
       "      <td>0.825856</td>\n",
       "      <td>0.298365</td>\n",
       "    </tr>\n",
       "    <tr>\n",
       "      <th>Precio_del_petroleo_WTI_dolaresbarril</th>\n",
       "      <td>0.738189</td>\n",
       "      <td>0.762469</td>\n",
       "      <td>0.970977</td>\n",
       "      <td>0.047865</td>\n",
       "      <td>0.983324</td>\n",
       "      <td>1.000000</td>\n",
       "      <td>0.863986</td>\n",
       "      <td>0.253434</td>\n",
       "    </tr>\n",
       "    <tr>\n",
       "      <th>Precio_del_propano_centavos_de_dolargalon_DTN</th>\n",
       "      <td>-0.107744</td>\n",
       "      <td>0.325925</td>\n",
       "      <td>0.820823</td>\n",
       "      <td>0.693556</td>\n",
       "      <td>0.825856</td>\n",
       "      <td>0.863986</td>\n",
       "      <td>1.000000</td>\n",
       "      <td>0.159821</td>\n",
       "    </tr>\n",
       "    <tr>\n",
       "      <th>Ventas_autos_nuevos</th>\n",
       "      <td>0.233700</td>\n",
       "      <td>0.173424</td>\n",
       "      <td>0.343812</td>\n",
       "      <td>-0.074931</td>\n",
       "      <td>0.298365</td>\n",
       "      <td>0.253434</td>\n",
       "      <td>0.159821</td>\n",
       "      <td>1.000000</td>\n",
       "    </tr>\n",
       "  </tbody>\n",
       "</table>\n",
       "</div>"
      ],
      "text/plain": [
       "                                                    Precio_de_la_onza_troy_de_oro_dolaresoz  \\\n",
       "Precio_de_la_onza_troy_de_oro_dolaresoz                                            1.000000   \n",
       "Precio_de_la_onza_troy_de_plata_dolaresoz                                          0.898270   \n",
       "Precio_del_diesel_centavos_de_dolargalon                                           0.110910   \n",
       "Precio_del_gas_natural_dolaresmillon_de_unidade...                                -0.201220   \n",
       "Precio_del_petroleo_Brent_dolaresbarril                                            0.620488   \n",
       "Precio_del_petroleo_WTI_dolaresbarril                                              0.738189   \n",
       "Precio_del_propano_centavos_de_dolargalon_DTN                                     -0.107744   \n",
       "Ventas_autos_nuevos                                                                0.233700   \n",
       "\n",
       "                                                    Precio_de_la_onza_troy_de_plata_dolaresoz  \\\n",
       "Precio_de_la_onza_troy_de_oro_dolaresoz                                              0.898270   \n",
       "Precio_de_la_onza_troy_de_plata_dolaresoz                                            1.000000   \n",
       "Precio_del_diesel_centavos_de_dolargalon                                             0.400306   \n",
       "Precio_del_gas_natural_dolaresmillon_de_unidade...                                  -0.165895   \n",
       "Precio_del_petroleo_Brent_dolaresbarril                                              0.687023   \n",
       "Precio_del_petroleo_WTI_dolaresbarril                                                0.762469   \n",
       "Precio_del_propano_centavos_de_dolargalon_DTN                                        0.325925   \n",
       "Ventas_autos_nuevos                                                                  0.173424   \n",
       "\n",
       "                                                    Precio_del_diesel_centavos_de_dolargalon  \\\n",
       "Precio_de_la_onza_troy_de_oro_dolaresoz                                             0.110910   \n",
       "Precio_de_la_onza_troy_de_plata_dolaresoz                                           0.400306   \n",
       "Precio_del_diesel_centavos_de_dolargalon                                            1.000000   \n",
       "Precio_del_gas_natural_dolaresmillon_de_unidade...                                  0.455099   \n",
       "Precio_del_petroleo_Brent_dolaresbarril                                             0.989138   \n",
       "Precio_del_petroleo_WTI_dolaresbarril                                               0.970977   \n",
       "Precio_del_propano_centavos_de_dolargalon_DTN                                       0.820823   \n",
       "Ventas_autos_nuevos                                                                 0.343812   \n",
       "\n",
       "                                                    Precio_del_gas_natural_dolaresmillon_de_unidades_termicas_britanicas  \\\n",
       "Precio_de_la_onza_troy_de_oro_dolaresoz                                                     -0.201220                      \n",
       "Precio_de_la_onza_troy_de_plata_dolaresoz                                                   -0.165895                      \n",
       "Precio_del_diesel_centavos_de_dolargalon                                                     0.455099                      \n",
       "Precio_del_gas_natural_dolaresmillon_de_unidade...                                           1.000000                      \n",
       "Precio_del_petroleo_Brent_dolaresbarril                                                      0.005584                      \n",
       "Precio_del_petroleo_WTI_dolaresbarril                                                        0.047865                      \n",
       "Precio_del_propano_centavos_de_dolargalon_DTN                                                0.693556                      \n",
       "Ventas_autos_nuevos                                                                         -0.074931                      \n",
       "\n",
       "                                                    Precio_del_petroleo_Brent_dolaresbarril  \\\n",
       "Precio_de_la_onza_troy_de_oro_dolaresoz                                            0.620488   \n",
       "Precio_de_la_onza_troy_de_plata_dolaresoz                                          0.687023   \n",
       "Precio_del_diesel_centavos_de_dolargalon                                           0.989138   \n",
       "Precio_del_gas_natural_dolaresmillon_de_unidade...                                 0.005584   \n",
       "Precio_del_petroleo_Brent_dolaresbarril                                            1.000000   \n",
       "Precio_del_petroleo_WTI_dolaresbarril                                              0.983324   \n",
       "Precio_del_propano_centavos_de_dolargalon_DTN                                      0.825856   \n",
       "Ventas_autos_nuevos                                                                0.298365   \n",
       "\n",
       "                                                    Precio_del_petroleo_WTI_dolaresbarril  \\\n",
       "Precio_de_la_onza_troy_de_oro_dolaresoz                                          0.738189   \n",
       "Precio_de_la_onza_troy_de_plata_dolaresoz                                        0.762469   \n",
       "Precio_del_diesel_centavos_de_dolargalon                                         0.970977   \n",
       "Precio_del_gas_natural_dolaresmillon_de_unidade...                               0.047865   \n",
       "Precio_del_petroleo_Brent_dolaresbarril                                          0.983324   \n",
       "Precio_del_petroleo_WTI_dolaresbarril                                            1.000000   \n",
       "Precio_del_propano_centavos_de_dolargalon_DTN                                    0.863986   \n",
       "Ventas_autos_nuevos                                                              0.253434   \n",
       "\n",
       "                                                    Precio_del_propano_centavos_de_dolargalon_DTN  \\\n",
       "Precio_de_la_onza_troy_de_oro_dolaresoz                                                 -0.107744   \n",
       "Precio_de_la_onza_troy_de_plata_dolaresoz                                                0.325925   \n",
       "Precio_del_diesel_centavos_de_dolargalon                                                 0.820823   \n",
       "Precio_del_gas_natural_dolaresmillon_de_unidade...                                       0.693556   \n",
       "Precio_del_petroleo_Brent_dolaresbarril                                                  0.825856   \n",
       "Precio_del_petroleo_WTI_dolaresbarril                                                    0.863986   \n",
       "Precio_del_propano_centavos_de_dolargalon_DTN                                            1.000000   \n",
       "Ventas_autos_nuevos                                                                      0.159821   \n",
       "\n",
       "                                                    Ventas_autos_nuevos  \n",
       "Precio_de_la_onza_troy_de_oro_dolaresoz                        0.233700  \n",
       "Precio_de_la_onza_troy_de_plata_dolaresoz                      0.173424  \n",
       "Precio_del_diesel_centavos_de_dolargalon                       0.343812  \n",
       "Precio_del_gas_natural_dolaresmillon_de_unidade...            -0.074931  \n",
       "Precio_del_petroleo_Brent_dolaresbarril                        0.298365  \n",
       "Precio_del_petroleo_WTI_dolaresbarril                          0.253434  \n",
       "Precio_del_propano_centavos_de_dolargalon_DTN                  0.159821  \n",
       "Ventas_autos_nuevos                                            1.000000  "
      ]
     },
     "execution_count": 11,
     "metadata": {},
     "output_type": "execute_result"
    }
   ],
   "source": [
    "df_banco.corr()"
   ]
  },
  {
   "cell_type": "markdown",
   "metadata": {},
   "source": [
    "Estan muy relaciones el precio del oro con el de la plata"
   ]
  },
  {
   "cell_type": "markdown",
   "metadata": {},
   "source": [
    "Revisamos si hay valores nulos en la data, asi como describimos la data "
   ]
  },
  {
   "cell_type": "code",
   "execution_count": 12,
   "metadata": {},
   "outputs": [
    {
     "data": {
      "text/plain": [
       "(614, 85)"
      ]
     },
     "execution_count": 12,
     "metadata": {},
     "output_type": "execute_result"
    }
   ],
   "source": [
    "df_banco.shape"
   ]
  },
  {
   "cell_type": "code",
   "execution_count": 13,
   "metadata": {},
   "outputs": [
    {
     "data": {
      "text/plain": [
       "No_sabe__No_responde_Miles_de_personas                                                604\n",
       "Indice_de_ventas_comercio_real_no_durables_IVCM                                       530\n",
       "Indice_de_ventas_comercio_real_IVCM                                                   530\n",
       "Indice_de_produccion_industrial_electricidad__gas_y_agua                              530\n",
       "Indice_de_ventas_comercio_real_durables_IVCM                                          529\n",
       "Ocupacion_en_Industrias_manufactureras_INE                                            520\n",
       "Ocupacion_en_Actividades_de_atencion_de_la_salud_humana_y_de_asistencia_social_INE    520\n",
       "Ocupacion_en_Actividades_financieras_y_de_seguros_INE                                 520\n",
       "Ocupacion_en_Actividades_de_servicios_administrativos_y_de_apoyo_INE                  520\n",
       "Ocupacion_en_Transporte_y_almacenamiento_INE                                          520\n",
       "Ocupacion_en_Actividades_de_alojamiento_y_de_servicio_de_comidas_INE                  520\n",
       "Ocupacion_en_Construccion_INE                                                         520\n",
       "Ocupacion_en_Comercio_INE                                                             520\n",
       "Ocupacion_en_Administracion_publica_y_defensa_INE                                     520\n",
       "Ocupacion_en_Enseanza_INE                                                             520\n",
       "Ocupacion_en_Actividades_de_los_hogares_como_empleadores_INE                          520\n",
       "Ocupacion_en_Actividades_artisticas_INE                                               520\n",
       "Ocupacion_en_Actividades_profesionales_INE                                            520\n",
       "Ocupacion_en_Actividades_de_organizaciones_y_organos_extraterritoriales_INE           520\n",
       "Ocupacion_en_Agricultura_INE                                                          520\n",
       "Ocupacion_en_Actividades_inmobiliarias_INE                                            520\n",
       "PIB_a_costo_de_factores                                                               519\n",
       "PIB_Administracion_publica                                                            519\n",
       "Impuesto_al_valor_agregado                                                            519\n",
       "Derechos_de_Importacion                                                               519\n",
       "PIB                                                                                   519\n",
       "PIB_Refinacion_de_petroleo                                                            519\n",
       "PIB_Servicios_de_vivienda                                                             519\n",
       "PIB_Servicios_personales                                                              519\n",
       "PIB_Maderas_y_muebles                                                                 519\n",
       "PIB_Servicios_empresariales                                                           519\n",
       "PIB_Servicios_financieros                                                             519\n",
       "PIB_Comunicaciones                                                                    519\n",
       "PIB_Transporte                                                                        519\n",
       "PIB_Restaurantes_y_hoteles                                                            519\n",
       "PIB_Comercio                                                                          519\n",
       "PIB_Construccion                                                                      519\n",
       "PIB_Celulosa                                                                          519\n",
       "PIB_Electricidad                                                                      519\n",
       "PIB_Textil                                                                            519\n",
       "PIB_Productos_metalicos                                                               519\n",
       "PIB_Pesca                                                                             519\n",
       "PIB_Mineria                                                                           519\n",
       "PIB_Mineria_del_cobre                                                                 519\n",
       "Ocupacion_en_Otras_actividades_de_servicios_INE                                       519\n",
       "Ocupacion_en_Informacion_y_comunicaciones_INE                                         519\n",
       "PIB_Bebidas_y_tabaco                                                                  519\n",
       "Ocupacion_en_Suministro_de_electricidad_INE                                           519\n",
       "Ocupacion_en_Explotacion_de_minas_y_canteras_INE                                      519\n",
       "PIB_Alimentos                                                                         519\n",
       "PIB_Minerales_no_metalicos_y_metalica_basica                                          518\n",
       "PIB_Otras_actividades_mineras                                                         518\n",
       "PIB_Agropecuario_silvicola                                                            518\n",
       "Ocupacion_en_Suministro_de_agua_evacuacion_de_aguas_residuales_INE                    516\n",
       "PIB_Quimica                                                                           516\n",
       "PIB_Industria_Manufacturera                                                           515\n",
       "Ocupados                                                                              484\n",
       "Indice_de_produccion_industrial                                                       470\n",
       "Ventas_autos_nuevos                                                                   469\n",
       "Precio_del_propano_centavos_de_dolargalon_DTN                                         457\n",
       "Precio_del_diesel_centavos_de_dolargalon                                              442\n",
       "Precio_del_gas_natural_dolaresmillon_de_unidades_termicas_britanicas                  361\n",
       "Precio_del_petroleo_Brent_dolaresbarril                                               361\n",
       "Precio_del_kerosene_dolaresm3                                                         361\n",
       "Generacion_de_energia_electrica_CDEC_GWh                                              350\n",
       "Imacec_servicios                                                                      314\n",
       "Imacec_empalmado                                                                      314\n",
       "Imacec_minero                                                                         314\n",
       "Imacec_resto_de_bienes                                                                314\n",
       "Imacec_produccion_de_bienes                                                           314\n",
       "Imacec_no_minero                                                                      314\n",
       "Imacec_a_costo_de_factores                                                            314\n",
       "Imacec_industria                                                                      313\n",
       "Imacec_comercio                                                                       313\n",
       "Tipo_de_cambio_nominal_multilateral___TCM                                             301\n",
       "Indice_de_produccion_industrial__manufacturera                                        254\n",
       "Indice_de_produccion_industrial__mineria                                              242\n",
       "Indice_de_tipo_de_cambio_real___TCR_promedio_1986_100                                 194\n",
       "Precio_del_petroleo_WTI_dolaresbarril                                                 161\n",
       "Tipo_de_cambio_del_dolar_observado_diario                                             152\n",
       "Precio_de_la_gasolina_en_EEUU_dolaresm3                                                20\n",
       "Precio_de_la_onza_troy_de_plata_dolaresoz                                               1\n",
       "Precio_de_la_onza_troy_de_oro_dolaresoz                                                 1\n",
       "Precio_del_cobre_refinado_BML_dolareslibra                                              1\n",
       "Periodo                                                                                 0\n",
       "dtype: int64"
      ]
     },
     "execution_count": 13,
     "metadata": {},
     "output_type": "execute_result"
    }
   ],
   "source": [
    "df_banco.isnull().sum().sort_values(ascending=False)"
   ]
  },
  {
   "cell_type": "markdown",
   "metadata": {},
   "source": [
    "Podemos evidenciar que hay datos nulos"
   ]
  },
  {
   "cell_type": "markdown",
   "metadata": {},
   "source": [
    "Usamos describe para ver algunos detalles estadísticos básicos como el percentil, la media, la std, etc. "
   ]
  },
  {
   "cell_type": "code",
   "execution_count": 14,
   "metadata": {
    "scrolled": true
   },
   "outputs": [
    {
     "data": {
      "text/html": [
       "<div>\n",
       "<style scoped>\n",
       "    .dataframe tbody tr th:only-of-type {\n",
       "        vertical-align: middle;\n",
       "    }\n",
       "\n",
       "    .dataframe tbody tr th {\n",
       "        vertical-align: top;\n",
       "    }\n",
       "\n",
       "    .dataframe thead th {\n",
       "        text-align: right;\n",
       "    }\n",
       "</style>\n",
       "<table border=\"1\" class=\"dataframe\">\n",
       "  <thead>\n",
       "    <tr style=\"text-align: right;\">\n",
       "      <th></th>\n",
       "      <th>Precio_de_la_onza_troy_de_oro_dolaresoz</th>\n",
       "      <th>Precio_de_la_onza_troy_de_plata_dolaresoz</th>\n",
       "      <th>Precio_del_diesel_centavos_de_dolargalon</th>\n",
       "      <th>Precio_del_gas_natural_dolaresmillon_de_unidades_termicas_britanicas</th>\n",
       "      <th>Precio_del_petroleo_Brent_dolaresbarril</th>\n",
       "      <th>Precio_del_petroleo_WTI_dolaresbarril</th>\n",
       "      <th>Precio_del_propano_centavos_de_dolargalon_DTN</th>\n",
       "      <th>Ventas_autos_nuevos</th>\n",
       "    </tr>\n",
       "  </thead>\n",
       "  <tbody>\n",
       "    <tr>\n",
       "      <th>count</th>\n",
       "      <td>613.000000</td>\n",
       "      <td>613.000000</td>\n",
       "      <td>172.000000</td>\n",
       "      <td>253.000000</td>\n",
       "      <td>253.000000</td>\n",
       "      <td>453.000000</td>\n",
       "      <td>157.000000</td>\n",
       "      <td>145.000000</td>\n",
       "    </tr>\n",
       "    <tr>\n",
       "      <th>mean</th>\n",
       "      <td>578.706574</td>\n",
       "      <td>54.202123</td>\n",
       "      <td>215.337558</td>\n",
       "      <td>5.055426</td>\n",
       "      <td>63.673202</td>\n",
       "      <td>43.066137</td>\n",
       "      <td>88.528822</td>\n",
       "      <td>26694.082759</td>\n",
       "    </tr>\n",
       "    <tr>\n",
       "      <th>std</th>\n",
       "      <td>468.018646</td>\n",
       "      <td>89.493857</td>\n",
       "      <td>68.625224</td>\n",
       "      <td>8.580500</td>\n",
       "      <td>29.704824</td>\n",
       "      <td>28.014437</td>\n",
       "      <td>36.772454</td>\n",
       "      <td>7170.231956</td>\n",
       "    </tr>\n",
       "    <tr>\n",
       "      <th>min</th>\n",
       "      <td>34.940000</td>\n",
       "      <td>1.320000</td>\n",
       "      <td>79.490000</td>\n",
       "      <td>1.612800</td>\n",
       "      <td>18.600000</td>\n",
       "      <td>11.300000</td>\n",
       "      <td>29.233000</td>\n",
       "      <td>4658.000000</td>\n",
       "    </tr>\n",
       "    <tr>\n",
       "      <th>25%</th>\n",
       "      <td>292.540000</td>\n",
       "      <td>4.760000</td>\n",
       "      <td>162.447500</td>\n",
       "      <td>2.863800</td>\n",
       "      <td>39.930000</td>\n",
       "      <td>20.100000</td>\n",
       "      <td>54.888000</td>\n",
       "      <td>23701.000000</td>\n",
       "    </tr>\n",
       "    <tr>\n",
       "      <th>50%</th>\n",
       "      <td>385.040000</td>\n",
       "      <td>6.080000</td>\n",
       "      <td>200.340000</td>\n",
       "      <td>3.885100</td>\n",
       "      <td>59.370000</td>\n",
       "      <td>30.390000</td>\n",
       "      <td>88.043000</td>\n",
       "      <td>27912.000000</td>\n",
       "    </tr>\n",
       "    <tr>\n",
       "      <th>75%</th>\n",
       "      <td>828.800000</td>\n",
       "      <td>35.080000</td>\n",
       "      <td>286.392500</td>\n",
       "      <td>5.930000</td>\n",
       "      <td>79.270000</td>\n",
       "      <td>59.800000</td>\n",
       "      <td>110.738000</td>\n",
       "      <td>31800.000000</td>\n",
       "    </tr>\n",
       "    <tr>\n",
       "      <th>max</th>\n",
       "      <td>1969.780000</td>\n",
       "      <td>431.028000</td>\n",
       "      <td>384.380000</td>\n",
       "      <td>136.338000</td>\n",
       "      <td>133.900000</td>\n",
       "      <td>133.930000</td>\n",
       "      <td>187.875000</td>\n",
       "      <td>39263.000000</td>\n",
       "    </tr>\n",
       "  </tbody>\n",
       "</table>\n",
       "</div>"
      ],
      "text/plain": [
       "       Precio_de_la_onza_troy_de_oro_dolaresoz  \\\n",
       "count                               613.000000   \n",
       "mean                                578.706574   \n",
       "std                                 468.018646   \n",
       "min                                  34.940000   \n",
       "25%                                 292.540000   \n",
       "50%                                 385.040000   \n",
       "75%                                 828.800000   \n",
       "max                                1969.780000   \n",
       "\n",
       "       Precio_de_la_onza_troy_de_plata_dolaresoz  \\\n",
       "count                                 613.000000   \n",
       "mean                                   54.202123   \n",
       "std                                    89.493857   \n",
       "min                                     1.320000   \n",
       "25%                                     4.760000   \n",
       "50%                                     6.080000   \n",
       "75%                                    35.080000   \n",
       "max                                   431.028000   \n",
       "\n",
       "       Precio_del_diesel_centavos_de_dolargalon  \\\n",
       "count                                172.000000   \n",
       "mean                                 215.337558   \n",
       "std                                   68.625224   \n",
       "min                                   79.490000   \n",
       "25%                                  162.447500   \n",
       "50%                                  200.340000   \n",
       "75%                                  286.392500   \n",
       "max                                  384.380000   \n",
       "\n",
       "       Precio_del_gas_natural_dolaresmillon_de_unidades_termicas_britanicas  \\\n",
       "count                                         253.000000                      \n",
       "mean                                            5.055426                      \n",
       "std                                             8.580500                      \n",
       "min                                             1.612800                      \n",
       "25%                                             2.863800                      \n",
       "50%                                             3.885100                      \n",
       "75%                                             5.930000                      \n",
       "max                                           136.338000                      \n",
       "\n",
       "       Precio_del_petroleo_Brent_dolaresbarril  \\\n",
       "count                               253.000000   \n",
       "mean                                 63.673202   \n",
       "std                                  29.704824   \n",
       "min                                  18.600000   \n",
       "25%                                  39.930000   \n",
       "50%                                  59.370000   \n",
       "75%                                  79.270000   \n",
       "max                                 133.900000   \n",
       "\n",
       "       Precio_del_petroleo_WTI_dolaresbarril  \\\n",
       "count                             453.000000   \n",
       "mean                               43.066137   \n",
       "std                                28.014437   \n",
       "min                                11.300000   \n",
       "25%                                20.100000   \n",
       "50%                                30.390000   \n",
       "75%                                59.800000   \n",
       "max                               133.930000   \n",
       "\n",
       "       Precio_del_propano_centavos_de_dolargalon_DTN  Ventas_autos_nuevos  \n",
       "count                                     157.000000           145.000000  \n",
       "mean                                       88.528822         26694.082759  \n",
       "std                                        36.772454          7170.231956  \n",
       "min                                        29.233000          4658.000000  \n",
       "25%                                        54.888000         23701.000000  \n",
       "50%                                        88.043000         27912.000000  \n",
       "75%                                       110.738000         31800.000000  \n",
       "max                                       187.875000         39263.000000  "
      ]
     },
     "execution_count": 14,
     "metadata": {},
     "output_type": "execute_result"
    }
   ],
   "source": [
    "df_banco.describe()"
   ]
  },
  {
   "cell_type": "markdown",
   "metadata": {},
   "source": [
    "De esta data podemos concluir que: <br>\n",
    "*<br>\n",
    "*<br>\n",
    "*<br>\n",
    "*<br>\n"
   ]
  },
  {
   "cell_type": "code",
   "execution_count": 15,
   "metadata": {},
   "outputs": [
    {
     "data": {
      "text/html": [
       "<div>\n",
       "<style scoped>\n",
       "    .dataframe tbody tr th:only-of-type {\n",
       "        vertical-align: middle;\n",
       "    }\n",
       "\n",
       "    .dataframe tbody tr th {\n",
       "        vertical-align: top;\n",
       "    }\n",
       "\n",
       "    .dataframe thead th {\n",
       "        text-align: right;\n",
       "    }\n",
       "</style>\n",
       "<table border=\"1\" class=\"dataframe\">\n",
       "  <thead>\n",
       "    <tr style=\"text-align: right;\">\n",
       "      <th></th>\n",
       "      <th>Periodo</th>\n",
       "      <th>Imacec_empalmado</th>\n",
       "      <th>Imacec_produccion_de_bienes</th>\n",
       "      <th>Imacec_minero</th>\n",
       "      <th>Imacec_industria</th>\n",
       "      <th>Imacec_resto_de_bienes</th>\n",
       "      <th>Imacec_comercio</th>\n",
       "      <th>Imacec_servicios</th>\n",
       "      <th>Imacec_a_costo_de_factores</th>\n",
       "      <th>Imacec_no_minero</th>\n",
       "      <th>PIB_Agropecuario_silvicola</th>\n",
       "      <th>PIB_Pesca</th>\n",
       "      <th>PIB_Mineria</th>\n",
       "      <th>PIB_Mineria_del_cobre</th>\n",
       "      <th>PIB_Otras_actividades_mineras</th>\n",
       "      <th>PIB_Industria_Manufacturera</th>\n",
       "      <th>PIB_Alimentos</th>\n",
       "      <th>PIB_Bebidas_y_tabaco</th>\n",
       "      <th>PIB_Textil</th>\n",
       "      <th>PIB_Maderas_y_muebles</th>\n",
       "      <th>PIB_Celulosa</th>\n",
       "      <th>PIB_Refinacion_de_petroleo</th>\n",
       "      <th>PIB_Quimica</th>\n",
       "      <th>PIB_Minerales_no_metalicos_y_metalica_basica</th>\n",
       "      <th>PIB_Productos_metalicos</th>\n",
       "      <th>PIB_Electricidad</th>\n",
       "      <th>PIB_Construccion</th>\n",
       "      <th>PIB_Comercio</th>\n",
       "      <th>PIB_Restaurantes_y_hoteles</th>\n",
       "      <th>PIB_Transporte</th>\n",
       "      <th>PIB_Comunicaciones</th>\n",
       "      <th>PIB_Servicios_financieros</th>\n",
       "      <th>PIB_Servicios_empresariales</th>\n",
       "      <th>PIB_Servicios_de_vivienda</th>\n",
       "      <th>PIB_Servicios_personales</th>\n",
       "      <th>PIB_Administracion_publica</th>\n",
       "      <th>PIB_a_costo_de_factores</th>\n",
       "      <th>Impuesto_al_valor_agregado</th>\n",
       "      <th>Derechos_de_Importacion</th>\n",
       "      <th>PIB</th>\n",
       "      <th>Precio_de_la_gasolina_en_EEUU_dolaresm3</th>\n",
       "      <th>Precio_de_la_onza_troy_de_oro_dolaresoz</th>\n",
       "      <th>Precio_de_la_onza_troy_de_plata_dolaresoz</th>\n",
       "      <th>Precio_del_cobre_refinado_BML_dolareslibra</th>\n",
       "      <th>Precio_del_diesel_centavos_de_dolargalon</th>\n",
       "      <th>Precio_del_gas_natural_dolaresmillon_de_unidades_termicas_britanicas</th>\n",
       "      <th>Precio_del_petroleo_Brent_dolaresbarril</th>\n",
       "      <th>Precio_del_kerosene_dolaresm3</th>\n",
       "      <th>Precio_del_petroleo_WTI_dolaresbarril</th>\n",
       "      <th>Precio_del_propano_centavos_de_dolargalon_DTN</th>\n",
       "      <th>Tipo_de_cambio_del_dolar_observado_diario</th>\n",
       "      <th>Ocupados</th>\n",
       "      <th>Ocupacion_en_Agricultura_INE</th>\n",
       "      <th>Ocupacion_en_Explotacion_de_minas_y_canteras_INE</th>\n",
       "      <th>Ocupacion_en_Industrias_manufactureras_INE</th>\n",
       "      <th>Ocupacion_en_Suministro_de_electricidad_INE</th>\n",
       "      <th>Ocupacion_en_Actividades_de_servicios_administrativos_y_de_apoyo_INE</th>\n",
       "      <th>Ocupacion_en_Actividades_profesionales_INE</th>\n",
       "      <th>Ocupacion_en_Actividades_inmobiliarias_INE</th>\n",
       "      <th>Ocupacion_en_Actividades_financieras_y_de_seguros_INE</th>\n",
       "      <th>Ocupacion_en_Informacion_y_comunicaciones_INE</th>\n",
       "      <th>Ocupacion_en_Transporte_y_almacenamiento_INE</th>\n",
       "      <th>Ocupacion_en_Actividades_de_alojamiento_y_de_servicio_de_comidas_INE</th>\n",
       "      <th>Ocupacion_en_Construccion_INE</th>\n",
       "      <th>Ocupacion_en_Comercio_INE</th>\n",
       "      <th>Ocupacion_en_Suministro_de_agua_evacuacion_de_aguas_residuales_INE</th>\n",
       "      <th>Ocupacion_en_Administracion_publica_y_defensa_INE</th>\n",
       "      <th>Ocupacion_en_Enseanza_INE</th>\n",
       "      <th>Ocupacion_en_Actividades_de_atencion_de_la_salud_humana_y_de_asistencia_social_INE</th>\n",
       "      <th>Ocupacion_en_Actividades_artisticas_INE</th>\n",
       "      <th>Ocupacion_en_Otras_actividades_de_servicios_INE</th>\n",
       "      <th>Ocupacion_en_Actividades_de_los_hogares_como_empleadores_INE</th>\n",
       "      <th>Ocupacion_en_Actividades_de_organizaciones_y_organos_extraterritoriales_INE</th>\n",
       "      <th>No_sabe__No_responde_Miles_de_personas</th>\n",
       "      <th>Tipo_de_cambio_nominal_multilateral___TCM</th>\n",
       "      <th>Indice_de_tipo_de_cambio_real___TCR_promedio_1986_100</th>\n",
       "      <th>Indice_de_produccion_industrial</th>\n",
       "      <th>Indice_de_produccion_industrial__mineria</th>\n",
       "      <th>Indice_de_produccion_industrial_electricidad__gas_y_agua</th>\n",
       "      <th>Indice_de_produccion_industrial__manufacturera</th>\n",
       "      <th>Generacion_de_energia_electrica_CDEC_GWh</th>\n",
       "      <th>Indice_de_ventas_comercio_real_IVCM</th>\n",
       "      <th>Indice_de_ventas_comercio_real_no_durables_IVCM</th>\n",
       "      <th>Indice_de_ventas_comercio_real_durables_IVCM</th>\n",
       "      <th>Ventas_autos_nuevos</th>\n",
       "    </tr>\n",
       "  </thead>\n",
       "  <tbody>\n",
       "    <tr>\n",
       "      <th>66</th>\n",
       "      <td>2018-08-01 00:00:00 UTC</td>\n",
       "      <td>109.690.834</td>\n",
       "      <td>994.693.267</td>\n",
       "      <td>101.027.633</td>\n",
       "      <td>1.051.861</td>\n",
       "      <td>931.900.957</td>\n",
       "      <td>106.248.833</td>\n",
       "      <td>117.404.143</td>\n",
       "      <td>109.458.386</td>\n",
       "      <td>110.578.221</td>\n",
       "      <td>167.218.756</td>\n",
       "      <td>618.107.584</td>\n",
       "      <td>127.494.583</td>\n",
       "      <td>114.044.798</td>\n",
       "      <td>135.911.049</td>\n",
       "      <td>134.337.385</td>\n",
       "      <td>352.713.059</td>\n",
       "      <td>155.499.282</td>\n",
       "      <td>282.857.251</td>\n",
       "      <td>761.910.666</td>\n",
       "      <td>10.666.085</td>\n",
       "      <td>113.232.043</td>\n",
       "      <td>205.964.209</td>\n",
       "      <td>753.121.123</td>\n",
       "      <td>229.592.623</td>\n",
       "      <td>341.668.896</td>\n",
       "      <td>771.082.628</td>\n",
       "      <td>110.815.907</td>\n",
       "      <td>240.435.294</td>\n",
       "      <td>648.893.077</td>\n",
       "      <td>417.627.795</td>\n",
       "      <td>686.888.472</td>\n",
       "      <td>120.587.594</td>\n",
       "      <td>945.484.562</td>\n",
       "      <td>17.263.425</td>\n",
       "      <td>585.841.147</td>\n",
       "      <td>11.510.209</td>\n",
       "      <td>104.105.171</td>\n",
       "      <td>515.511.264</td>\n",
       "      <td>12.603.131</td>\n",
       "      <td>53.532.204</td>\n",
       "      <td>1200.36</td>\n",
       "      <td>149.571</td>\n",
       "      <td>273.961.263</td>\n",
       "      <td>211.37</td>\n",
       "      <td>2.9677</td>\n",
       "      <td>73.13</td>\n",
       "      <td>5.319.667</td>\n",
       "      <td>67.99</td>\n",
       "      <td>97.452</td>\n",
       "      <td>656.250.909</td>\n",
       "      <td>870.719.435</td>\n",
       "      <td>641.968.676</td>\n",
       "      <td>216.799.913</td>\n",
       "      <td>918.492.209</td>\n",
       "      <td>423.859.029</td>\n",
       "      <td>216.848.578</td>\n",
       "      <td>293.308</td>\n",
       "      <td>827.010.405</td>\n",
       "      <td>163.289.707</td>\n",
       "      <td>166.817.299</td>\n",
       "      <td>589.477.133</td>\n",
       "      <td>452.211.964</td>\n",
       "      <td>742.884.096</td>\n",
       "      <td>164.123.096</td>\n",
       "      <td>388.556.009</td>\n",
       "      <td>470.714.131</td>\n",
       "      <td>788.049.995</td>\n",
       "      <td>489.831.763</td>\n",
       "      <td>113.514.038</td>\n",
       "      <td>27.638.401</td>\n",
       "      <td>359.984.869</td>\n",
       "      <td>144.446.086</td>\n",
       "      <td>NaN</td>\n",
       "      <td>102.822.273</td>\n",
       "      <td>911.086.301</td>\n",
       "      <td>102.691.109</td>\n",
       "      <td>983.228.221</td>\n",
       "      <td>108.792.744</td>\n",
       "      <td>105.596.535</td>\n",
       "      <td>654.060.172</td>\n",
       "      <td>113.525.936</td>\n",
       "      <td>103.995.337</td>\n",
       "      <td>15.375.472</td>\n",
       "      <td>38729.0</td>\n",
       "    </tr>\n",
       "    <tr>\n",
       "      <th>79</th>\n",
       "      <td>2019-08-01 00:00:00 UTC</td>\n",
       "      <td>113.886.371</td>\n",
       "      <td>103.237.519</td>\n",
       "      <td>106.828.407</td>\n",
       "      <td>105.153.122</td>\n",
       "      <td>984.395.274</td>\n",
       "      <td>106.901.816</td>\n",
       "      <td>122.596.004</td>\n",
       "      <td>113.695.907</td>\n",
       "      <td>114.580.893</td>\n",
       "      <td>167.076.841</td>\n",
       "      <td>558.930.237</td>\n",
       "      <td>134.815.028</td>\n",
       "      <td>121.692.348</td>\n",
       "      <td>132.265.047</td>\n",
       "      <td>134.295.268</td>\n",
       "      <td>353.208.152</td>\n",
       "      <td>154.888.657</td>\n",
       "      <td>256.242.589</td>\n",
       "      <td>728.401.461</td>\n",
       "      <td>107.719.529</td>\n",
       "      <td>120.020.403</td>\n",
       "      <td>201.510.245</td>\n",
       "      <td>733.229.359</td>\n",
       "      <td>232.194.383</td>\n",
       "      <td>358.780.323</td>\n",
       "      <td>818.881.759</td>\n",
       "      <td>111.496.958</td>\n",
       "      <td>25.457.964</td>\n",
       "      <td>677.710.328</td>\n",
       "      <td>422.758.463</td>\n",
       "      <td>721.694.151</td>\n",
       "      <td>125.273.783</td>\n",
       "      <td>967.408.358</td>\n",
       "      <td>183.739.178</td>\n",
       "      <td>602.606.484</td>\n",
       "      <td>11955.81</td>\n",
       "      <td>107.485.012</td>\n",
       "      <td>541.399.162</td>\n",
       "      <td>130.851.849</td>\n",
       "      <td>43.529.592</td>\n",
       "      <td>1503.50</td>\n",
       "      <td>172.056</td>\n",
       "      <td>258.912.274</td>\n",
       "      <td>178.74</td>\n",
       "      <td>2.2262</td>\n",
       "      <td>59.25</td>\n",
       "      <td>44.221.796</td>\n",
       "      <td>54.84</td>\n",
       "      <td>40.375</td>\n",
       "      <td>713.703.333</td>\n",
       "      <td>892.804.918</td>\n",
       "      <td>640.428.548</td>\n",
       "      <td>234.861.489</td>\n",
       "      <td>856.467.155</td>\n",
       "      <td>435.285.983</td>\n",
       "      <td>241.649.229</td>\n",
       "      <td>297.915.329</td>\n",
       "      <td>77.525.851</td>\n",
       "      <td>164.612.138</td>\n",
       "      <td>162.758.745</td>\n",
       "      <td>560.102.952</td>\n",
       "      <td>452.651.215</td>\n",
       "      <td>759.290.823</td>\n",
       "      <td>172.267.313</td>\n",
       "      <td>530.643.655</td>\n",
       "      <td>532.961.264</td>\n",
       "      <td>819.048.173</td>\n",
       "      <td>556.868.981</td>\n",
       "      <td>128.238.355</td>\n",
       "      <td>268.749.784</td>\n",
       "      <td>353.145.094</td>\n",
       "      <td>150.795.138</td>\n",
       "      <td>NaN</td>\n",
       "      <td>106.596.667</td>\n",
       "      <td>948.715.254</td>\n",
       "      <td>104.034.103</td>\n",
       "      <td>102.619.922</td>\n",
       "      <td>107.666.732</td>\n",
       "      <td>104.591.452</td>\n",
       "      <td>6598</td>\n",
       "      <td>116.203.109</td>\n",
       "      <td>107.385.297</td>\n",
       "      <td>15.342.321</td>\n",
       "      <td>33059.0</td>\n",
       "    </tr>\n",
       "  </tbody>\n",
       "</table>\n",
       "</div>"
      ],
      "text/plain": [
       "                    Periodo Imacec_empalmado Imacec_produccion_de_bienes  \\\n",
       "66  2018-08-01 00:00:00 UTC      109.690.834                 994.693.267   \n",
       "79  2019-08-01 00:00:00 UTC      113.886.371                 103.237.519   \n",
       "\n",
       "   Imacec_minero Imacec_industria Imacec_resto_de_bienes Imacec_comercio  \\\n",
       "66   101.027.633        1.051.861            931.900.957     106.248.833   \n",
       "79   106.828.407      105.153.122            984.395.274     106.901.816   \n",
       "\n",
       "   Imacec_servicios Imacec_a_costo_de_factores Imacec_no_minero  \\\n",
       "66      117.404.143                109.458.386      110.578.221   \n",
       "79      122.596.004                113.695.907      114.580.893   \n",
       "\n",
       "   PIB_Agropecuario_silvicola    PIB_Pesca  PIB_Mineria PIB_Mineria_del_cobre  \\\n",
       "66                167.218.756  618.107.584  127.494.583           114.044.798   \n",
       "79                167.076.841  558.930.237  134.815.028           121.692.348   \n",
       "\n",
       "   PIB_Otras_actividades_mineras PIB_Industria_Manufacturera PIB_Alimentos  \\\n",
       "66                   135.911.049                 134.337.385   352.713.059   \n",
       "79                   132.265.047                 134.295.268   353.208.152   \n",
       "\n",
       "   PIB_Bebidas_y_tabaco   PIB_Textil PIB_Maderas_y_muebles PIB_Celulosa  \\\n",
       "66          155.499.282  282.857.251           761.910.666   10.666.085   \n",
       "79          154.888.657  256.242.589           728.401.461  107.719.529   \n",
       "\n",
       "   PIB_Refinacion_de_petroleo  PIB_Quimica  \\\n",
       "66                113.232.043  205.964.209   \n",
       "79                120.020.403  201.510.245   \n",
       "\n",
       "   PIB_Minerales_no_metalicos_y_metalica_basica PIB_Productos_metalicos  \\\n",
       "66                                  753.121.123             229.592.623   \n",
       "79                                  733.229.359             232.194.383   \n",
       "\n",
       "   PIB_Electricidad PIB_Construccion PIB_Comercio PIB_Restaurantes_y_hoteles  \\\n",
       "66      341.668.896      771.082.628  110.815.907                240.435.294   \n",
       "79      358.780.323      818.881.759  111.496.958                 25.457.964   \n",
       "\n",
       "   PIB_Transporte PIB_Comunicaciones PIB_Servicios_financieros  \\\n",
       "66    648.893.077        417.627.795               686.888.472   \n",
       "79    677.710.328        422.758.463               721.694.151   \n",
       "\n",
       "   PIB_Servicios_empresariales PIB_Servicios_de_vivienda  \\\n",
       "66                 120.587.594               945.484.562   \n",
       "79                 125.273.783               967.408.358   \n",
       "\n",
       "   PIB_Servicios_personales PIB_Administracion_publica  \\\n",
       "66               17.263.425                585.841.147   \n",
       "79              183.739.178                602.606.484   \n",
       "\n",
       "   PIB_a_costo_de_factores Impuesto_al_valor_agregado Derechos_de_Importacion  \\\n",
       "66              11.510.209                104.105.171             515.511.264   \n",
       "79                11955.81                107.485.012             541.399.162   \n",
       "\n",
       "            PIB Precio_de_la_gasolina_en_EEUU_dolaresm3  \\\n",
       "66   12.603.131                              53.532.204   \n",
       "79  130.851.849                              43.529.592   \n",
       "\n",
       "    Precio_de_la_onza_troy_de_oro_dolaresoz  \\\n",
       "66                                  1200.36   \n",
       "79                                  1503.50   \n",
       "\n",
       "    Precio_de_la_onza_troy_de_plata_dolaresoz  \\\n",
       "66                                    149.571   \n",
       "79                                    172.056   \n",
       "\n",
       "   Precio_del_cobre_refinado_BML_dolareslibra  \\\n",
       "66                                273.961.263   \n",
       "79                                258.912.274   \n",
       "\n",
       "    Precio_del_diesel_centavos_de_dolargalon  \\\n",
       "66                                    211.37   \n",
       "79                                    178.74   \n",
       "\n",
       "    Precio_del_gas_natural_dolaresmillon_de_unidades_termicas_britanicas  \\\n",
       "66                                             2.9677                      \n",
       "79                                             2.2262                      \n",
       "\n",
       "    Precio_del_petroleo_Brent_dolaresbarril Precio_del_kerosene_dolaresm3  \\\n",
       "66                                    73.13                     5.319.667   \n",
       "79                                    59.25                    44.221.796   \n",
       "\n",
       "    Precio_del_petroleo_WTI_dolaresbarril  \\\n",
       "66                                  67.99   \n",
       "79                                  54.84   \n",
       "\n",
       "    Precio_del_propano_centavos_de_dolargalon_DTN  \\\n",
       "66                                         97.452   \n",
       "79                                         40.375   \n",
       "\n",
       "   Tipo_de_cambio_del_dolar_observado_diario     Ocupados  \\\n",
       "66                               656.250.909  870.719.435   \n",
       "79                               713.703.333  892.804.918   \n",
       "\n",
       "   Ocupacion_en_Agricultura_INE  \\\n",
       "66                  641.968.676   \n",
       "79                  640.428.548   \n",
       "\n",
       "   Ocupacion_en_Explotacion_de_minas_y_canteras_INE  \\\n",
       "66                                      216.799.913   \n",
       "79                                      234.861.489   \n",
       "\n",
       "   Ocupacion_en_Industrias_manufactureras_INE  \\\n",
       "66                                918.492.209   \n",
       "79                                856.467.155   \n",
       "\n",
       "   Ocupacion_en_Suministro_de_electricidad_INE  \\\n",
       "66                                 423.859.029   \n",
       "79                                 435.285.983   \n",
       "\n",
       "   Ocupacion_en_Actividades_de_servicios_administrativos_y_de_apoyo_INE  \\\n",
       "66                                        216.848.578                     \n",
       "79                                        241.649.229                     \n",
       "\n",
       "   Ocupacion_en_Actividades_profesionales_INE  \\\n",
       "66                                    293.308   \n",
       "79                                297.915.329   \n",
       "\n",
       "   Ocupacion_en_Actividades_inmobiliarias_INE  \\\n",
       "66                                827.010.405   \n",
       "79                                 77.525.851   \n",
       "\n",
       "   Ocupacion_en_Actividades_financieras_y_de_seguros_INE  \\\n",
       "66                                        163.289.707      \n",
       "79                                        164.612.138      \n",
       "\n",
       "   Ocupacion_en_Informacion_y_comunicaciones_INE  \\\n",
       "66                                   166.817.299   \n",
       "79                                   162.758.745   \n",
       "\n",
       "   Ocupacion_en_Transporte_y_almacenamiento_INE  \\\n",
       "66                                  589.477.133   \n",
       "79                                  560.102.952   \n",
       "\n",
       "   Ocupacion_en_Actividades_de_alojamiento_y_de_servicio_de_comidas_INE  \\\n",
       "66                                        452.211.964                     \n",
       "79                                        452.651.215                     \n",
       "\n",
       "   Ocupacion_en_Construccion_INE Ocupacion_en_Comercio_INE  \\\n",
       "66                   742.884.096               164.123.096   \n",
       "79                   759.290.823               172.267.313   \n",
       "\n",
       "   Ocupacion_en_Suministro_de_agua_evacuacion_de_aguas_residuales_INE  \\\n",
       "66                                        388.556.009                   \n",
       "79                                        530.643.655                   \n",
       "\n",
       "   Ocupacion_en_Administracion_publica_y_defensa_INE  \\\n",
       "66                                       470.714.131   \n",
       "79                                       532.961.264   \n",
       "\n",
       "   Ocupacion_en_Enseanza_INE  \\\n",
       "66               788.049.995   \n",
       "79               819.048.173   \n",
       "\n",
       "   Ocupacion_en_Actividades_de_atencion_de_la_salud_humana_y_de_asistencia_social_INE  \\\n",
       "66                                        489.831.763                                   \n",
       "79                                        556.868.981                                   \n",
       "\n",
       "   Ocupacion_en_Actividades_artisticas_INE  \\\n",
       "66                             113.514.038   \n",
       "79                             128.238.355   \n",
       "\n",
       "   Ocupacion_en_Otras_actividades_de_servicios_INE  \\\n",
       "66                                      27.638.401   \n",
       "79                                     268.749.784   \n",
       "\n",
       "   Ocupacion_en_Actividades_de_los_hogares_como_empleadores_INE  \\\n",
       "66                                        359.984.869             \n",
       "79                                        353.145.094             \n",
       "\n",
       "   Ocupacion_en_Actividades_de_organizaciones_y_organos_extraterritoriales_INE  \\\n",
       "66                                        144.446.086                            \n",
       "79                                        150.795.138                            \n",
       "\n",
       "   No_sabe__No_responde_Miles_de_personas  \\\n",
       "66                                    NaN   \n",
       "79                                    NaN   \n",
       "\n",
       "   Tipo_de_cambio_nominal_multilateral___TCM  \\\n",
       "66                               102.822.273   \n",
       "79                               106.596.667   \n",
       "\n",
       "   Indice_de_tipo_de_cambio_real___TCR_promedio_1986_100  \\\n",
       "66                                        911.086.301      \n",
       "79                                        948.715.254      \n",
       "\n",
       "   Indice_de_produccion_industrial Indice_de_produccion_industrial__mineria  \\\n",
       "66                     102.691.109                              983.228.221   \n",
       "79                     104.034.103                              102.619.922   \n",
       "\n",
       "   Indice_de_produccion_industrial_electricidad__gas_y_agua  \\\n",
       "66                                        108.792.744         \n",
       "79                                        107.666.732         \n",
       "\n",
       "   Indice_de_produccion_industrial__manufacturera  \\\n",
       "66                                    105.596.535   \n",
       "79                                    104.591.452   \n",
       "\n",
       "   Generacion_de_energia_electrica_CDEC_GWh  \\\n",
       "66                              654.060.172   \n",
       "79                                     6598   \n",
       "\n",
       "   Indice_de_ventas_comercio_real_IVCM  \\\n",
       "66                         113.525.936   \n",
       "79                         116.203.109   \n",
       "\n",
       "   Indice_de_ventas_comercio_real_no_durables_IVCM  \\\n",
       "66                                     103.995.337   \n",
       "79                                     107.385.297   \n",
       "\n",
       "   Indice_de_ventas_comercio_real_durables_IVCM  Ventas_autos_nuevos  \n",
       "66                                   15.375.472              38729.0  \n",
       "79                                   15.342.321              33059.0  "
      ]
     },
     "execution_count": 15,
     "metadata": {},
     "output_type": "execute_result"
    }
   ],
   "source": [
    "df_banco[df_banco.duplicated()]"
   ]
  },
  {
   "cell_type": "markdown",
   "metadata": {},
   "source": [
    "Tenemos 2 valores duplicados"
   ]
  },
  {
   "cell_type": "code",
   "execution_count": 16,
   "metadata": {},
   "outputs": [
    {
     "name": "stdout",
     "output_type": "stream",
     "text": [
      "<class 'pandas.core.frame.DataFrame'>\n",
      "RangeIndex: 614 entries, 0 to 613\n",
      "Data columns (total 85 columns):\n",
      " #   Column                                                                              Non-Null Count  Dtype  \n",
      "---  ------                                                                              --------------  -----  \n",
      " 0   Periodo                                                                             614 non-null    object \n",
      " 1   Imacec_empalmado                                                                    300 non-null    object \n",
      " 2   Imacec_produccion_de_bienes                                                         300 non-null    object \n",
      " 3   Imacec_minero                                                                       300 non-null    object \n",
      " 4   Imacec_industria                                                                    301 non-null    object \n",
      " 5   Imacec_resto_de_bienes                                                              300 non-null    object \n",
      " 6   Imacec_comercio                                                                     301 non-null    object \n",
      " 7   Imacec_servicios                                                                    300 non-null    object \n",
      " 8   Imacec_a_costo_de_factores                                                          300 non-null    object \n",
      " 9   Imacec_no_minero                                                                    300 non-null    object \n",
      " 10  PIB_Agropecuario_silvicola                                                          96 non-null     object \n",
      " 11  PIB_Pesca                                                                           95 non-null     object \n",
      " 12  PIB_Mineria                                                                         95 non-null     object \n",
      " 13  PIB_Mineria_del_cobre                                                               95 non-null     object \n",
      " 14  PIB_Otras_actividades_mineras                                                       96 non-null     object \n",
      " 15  PIB_Industria_Manufacturera                                                         99 non-null     object \n",
      " 16  PIB_Alimentos                                                                       95 non-null     object \n",
      " 17  PIB_Bebidas_y_tabaco                                                                95 non-null     object \n",
      " 18  PIB_Textil                                                                          95 non-null     object \n",
      " 19  PIB_Maderas_y_muebles                                                               95 non-null     object \n",
      " 20  PIB_Celulosa                                                                        95 non-null     object \n",
      " 21  PIB_Refinacion_de_petroleo                                                          95 non-null     object \n",
      " 22  PIB_Quimica                                                                         98 non-null     object \n",
      " 23  PIB_Minerales_no_metalicos_y_metalica_basica                                        96 non-null     object \n",
      " 24  PIB_Productos_metalicos                                                             95 non-null     object \n",
      " 25  PIB_Electricidad                                                                    95 non-null     object \n",
      " 26  PIB_Construccion                                                                    95 non-null     object \n",
      " 27  PIB_Comercio                                                                        95 non-null     object \n",
      " 28  PIB_Restaurantes_y_hoteles                                                          95 non-null     object \n",
      " 29  PIB_Transporte                                                                      95 non-null     object \n",
      " 30  PIB_Comunicaciones                                                                  95 non-null     object \n",
      " 31  PIB_Servicios_financieros                                                           95 non-null     object \n",
      " 32  PIB_Servicios_empresariales                                                         95 non-null     object \n",
      " 33  PIB_Servicios_de_vivienda                                                           95 non-null     object \n",
      " 34  PIB_Servicios_personales                                                            95 non-null     object \n",
      " 35  PIB_Administracion_publica                                                          95 non-null     object \n",
      " 36  PIB_a_costo_de_factores                                                             95 non-null     object \n",
      " 37  Impuesto_al_valor_agregado                                                          95 non-null     object \n",
      " 38  Derechos_de_Importacion                                                             95 non-null     object \n",
      " 39  PIB                                                                                 95 non-null     object \n",
      " 40  Precio_de_la_gasolina_en_EEUU_dolaresm3                                             594 non-null    object \n",
      " 41  Precio_de_la_onza_troy_de_oro_dolaresoz                                             613 non-null    float64\n",
      " 42  Precio_de_la_onza_troy_de_plata_dolaresoz                                           613 non-null    float64\n",
      " 43  Precio_del_cobre_refinado_BML_dolareslibra                                          613 non-null    object \n",
      " 44  Precio_del_diesel_centavos_de_dolargalon                                            172 non-null    float64\n",
      " 45  Precio_del_gas_natural_dolaresmillon_de_unidades_termicas_britanicas                253 non-null    float64\n",
      " 46  Precio_del_petroleo_Brent_dolaresbarril                                             253 non-null    float64\n",
      " 47  Precio_del_kerosene_dolaresm3                                                       253 non-null    object \n",
      " 48  Precio_del_petroleo_WTI_dolaresbarril                                               453 non-null    float64\n",
      " 49  Precio_del_propano_centavos_de_dolargalon_DTN                                       157 non-null    float64\n",
      " 50  Tipo_de_cambio_del_dolar_observado_diario                                           462 non-null    object \n",
      " 51  Ocupados                                                                            130 non-null    object \n",
      " 52  Ocupacion_en_Agricultura_INE                                                        94 non-null     object \n",
      " 53  Ocupacion_en_Explotacion_de_minas_y_canteras_INE                                    95 non-null     object \n",
      " 54  Ocupacion_en_Industrias_manufactureras_INE                                          94 non-null     object \n",
      " 55  Ocupacion_en_Suministro_de_electricidad_INE                                         95 non-null     object \n",
      " 56  Ocupacion_en_Actividades_de_servicios_administrativos_y_de_apoyo_INE                94 non-null     object \n",
      " 57  Ocupacion_en_Actividades_profesionales_INE                                          94 non-null     object \n",
      " 58  Ocupacion_en_Actividades_inmobiliarias_INE                                          94 non-null     object \n",
      " 59  Ocupacion_en_Actividades_financieras_y_de_seguros_INE                               94 non-null     object \n",
      " 60  Ocupacion_en_Informacion_y_comunicaciones_INE                                       95 non-null     object \n",
      " 61  Ocupacion_en_Transporte_y_almacenamiento_INE                                        94 non-null     object \n",
      " 62  Ocupacion_en_Actividades_de_alojamiento_y_de_servicio_de_comidas_INE                94 non-null     object \n",
      " 63  Ocupacion_en_Construccion_INE                                                       94 non-null     object \n",
      " 64  Ocupacion_en_Comercio_INE                                                           94 non-null     object \n",
      " 65  Ocupacion_en_Suministro_de_agua_evacuacion_de_aguas_residuales_INE                  98 non-null     object \n",
      " 66  Ocupacion_en_Administracion_publica_y_defensa_INE                                   94 non-null     object \n",
      " 67  Ocupacion_en_Enseanza_INE                                                           94 non-null     object \n",
      " 68  Ocupacion_en_Actividades_de_atencion_de_la_salud_humana_y_de_asistencia_social_INE  94 non-null     object \n",
      " 69  Ocupacion_en_Actividades_artisticas_INE                                             94 non-null     object \n",
      " 70  Ocupacion_en_Otras_actividades_de_servicios_INE                                     95 non-null     object \n",
      " 71  Ocupacion_en_Actividades_de_los_hogares_como_empleadores_INE                        94 non-null     object \n",
      " 72  Ocupacion_en_Actividades_de_organizaciones_y_organos_extraterritoriales_INE         94 non-null     object \n",
      " 73  No_sabe__No_responde_Miles_de_personas                                              10 non-null     object \n",
      " 74  Tipo_de_cambio_nominal_multilateral___TCM                                           313 non-null    object \n",
      " 75  Indice_de_tipo_de_cambio_real___TCR_promedio_1986_100                               420 non-null    object \n",
      " 76  Indice_de_produccion_industrial                                                     144 non-null    object \n",
      " 77  Indice_de_produccion_industrial__mineria                                            372 non-null    object \n",
      " 78  Indice_de_produccion_industrial_electricidad__gas_y_agua                            84 non-null     object \n",
      " 79  Indice_de_produccion_industrial__manufacturera                                      360 non-null    object \n",
      " 80  Generacion_de_energia_electrica_CDEC_GWh                                            264 non-null    object \n",
      " 81  Indice_de_ventas_comercio_real_IVCM                                                 84 non-null     object \n",
      " 82  Indice_de_ventas_comercio_real_no_durables_IVCM                                     84 non-null     object \n",
      " 83  Indice_de_ventas_comercio_real_durables_IVCM                                        85 non-null     object \n",
      " 84  Ventas_autos_nuevos                                                                 145 non-null    float64\n",
      "dtypes: float64(8), object(77)\n",
      "memory usage: 407.9+ KB\n"
     ]
    }
   ],
   "source": [
    "df_banco.info()"
   ]
  },
  {
   "cell_type": "markdown",
   "metadata": {},
   "source": [
    "Ahora hagamos lo mismo pero con el archivo de precipitaciones"
   ]
  },
  {
   "cell_type": "code",
   "execution_count": 17,
   "metadata": {},
   "outputs": [],
   "source": [
    "raw_data_precipitaciones = pd.read_csv(\"C:/Users/IM_ASUS/Spike/desafio_spike_precios-main/precipitaciones.csv\")"
   ]
  },
  {
   "cell_type": "code",
   "execution_count": 18,
   "metadata": {},
   "outputs": [],
   "source": [
    "df_precipitaciones = raw_data_precipitaciones.copy()"
   ]
  },
  {
   "cell_type": "markdown",
   "metadata": {},
   "source": [
    "Podemos usar la correlación para ver que variables estan más relacionadas de aqui podemos tomar variables interesantes para nuestro análisis"
   ]
  },
  {
   "cell_type": "code",
   "execution_count": 19,
   "metadata": {},
   "outputs": [
    {
     "data": {
      "text/html": [
       "<div>\n",
       "<style scoped>\n",
       "    .dataframe tbody tr th:only-of-type {\n",
       "        vertical-align: middle;\n",
       "    }\n",
       "\n",
       "    .dataframe tbody tr th {\n",
       "        vertical-align: top;\n",
       "    }\n",
       "\n",
       "    .dataframe thead th {\n",
       "        text-align: right;\n",
       "    }\n",
       "</style>\n",
       "<table border=\"1\" class=\"dataframe\">\n",
       "  <thead>\n",
       "    <tr style=\"text-align: right;\">\n",
       "      <th></th>\n",
       "      <th>Coquimbo</th>\n",
       "      <th>Valparaiso</th>\n",
       "      <th>Metropolitana_de_Santiago</th>\n",
       "      <th>Libertador_Gral__Bernardo_O_Higgins</th>\n",
       "      <th>Maule</th>\n",
       "      <th>Biobio</th>\n",
       "      <th>La_Araucania</th>\n",
       "      <th>Los_Rios</th>\n",
       "    </tr>\n",
       "  </thead>\n",
       "  <tbody>\n",
       "    <tr>\n",
       "      <th>Coquimbo</th>\n",
       "      <td>1.000000</td>\n",
       "      <td>0.912864</td>\n",
       "      <td>0.813478</td>\n",
       "      <td>0.756140</td>\n",
       "      <td>0.656834</td>\n",
       "      <td>0.543010</td>\n",
       "      <td>0.477211</td>\n",
       "      <td>0.446142</td>\n",
       "    </tr>\n",
       "    <tr>\n",
       "      <th>Valparaiso</th>\n",
       "      <td>0.912864</td>\n",
       "      <td>1.000000</td>\n",
       "      <td>0.967567</td>\n",
       "      <td>0.927210</td>\n",
       "      <td>0.839412</td>\n",
       "      <td>0.730340</td>\n",
       "      <td>0.655924</td>\n",
       "      <td>0.609245</td>\n",
       "    </tr>\n",
       "    <tr>\n",
       "      <th>Metropolitana_de_Santiago</th>\n",
       "      <td>0.813478</td>\n",
       "      <td>0.967567</td>\n",
       "      <td>1.000000</td>\n",
       "      <td>0.976389</td>\n",
       "      <td>0.904947</td>\n",
       "      <td>0.804073</td>\n",
       "      <td>0.729807</td>\n",
       "      <td>0.677950</td>\n",
       "    </tr>\n",
       "    <tr>\n",
       "      <th>Libertador_Gral__Bernardo_O_Higgins</th>\n",
       "      <td>0.756140</td>\n",
       "      <td>0.927210</td>\n",
       "      <td>0.976389</td>\n",
       "      <td>1.000000</td>\n",
       "      <td>0.966663</td>\n",
       "      <td>0.884383</td>\n",
       "      <td>0.811158</td>\n",
       "      <td>0.757401</td>\n",
       "    </tr>\n",
       "    <tr>\n",
       "      <th>Maule</th>\n",
       "      <td>0.656834</td>\n",
       "      <td>0.839412</td>\n",
       "      <td>0.904947</td>\n",
       "      <td>0.966663</td>\n",
       "      <td>1.000000</td>\n",
       "      <td>0.956756</td>\n",
       "      <td>0.889200</td>\n",
       "      <td>0.834228</td>\n",
       "    </tr>\n",
       "    <tr>\n",
       "      <th>Biobio</th>\n",
       "      <td>0.543010</td>\n",
       "      <td>0.730340</td>\n",
       "      <td>0.804073</td>\n",
       "      <td>0.884383</td>\n",
       "      <td>0.956756</td>\n",
       "      <td>1.000000</td>\n",
       "      <td>0.970236</td>\n",
       "      <td>0.920731</td>\n",
       "    </tr>\n",
       "    <tr>\n",
       "      <th>La_Araucania</th>\n",
       "      <td>0.477211</td>\n",
       "      <td>0.655924</td>\n",
       "      <td>0.729807</td>\n",
       "      <td>0.811158</td>\n",
       "      <td>0.889200</td>\n",
       "      <td>0.970236</td>\n",
       "      <td>1.000000</td>\n",
       "      <td>0.974393</td>\n",
       "    </tr>\n",
       "    <tr>\n",
       "      <th>Los_Rios</th>\n",
       "      <td>0.446142</td>\n",
       "      <td>0.609245</td>\n",
       "      <td>0.677950</td>\n",
       "      <td>0.757401</td>\n",
       "      <td>0.834228</td>\n",
       "      <td>0.920731</td>\n",
       "      <td>0.974393</td>\n",
       "      <td>1.000000</td>\n",
       "    </tr>\n",
       "  </tbody>\n",
       "</table>\n",
       "</div>"
      ],
      "text/plain": [
       "                                     Coquimbo  Valparaiso  \\\n",
       "Coquimbo                             1.000000    0.912864   \n",
       "Valparaiso                           0.912864    1.000000   \n",
       "Metropolitana_de_Santiago            0.813478    0.967567   \n",
       "Libertador_Gral__Bernardo_O_Higgins  0.756140    0.927210   \n",
       "Maule                                0.656834    0.839412   \n",
       "Biobio                               0.543010    0.730340   \n",
       "La_Araucania                         0.477211    0.655924   \n",
       "Los_Rios                             0.446142    0.609245   \n",
       "\n",
       "                                     Metropolitana_de_Santiago  \\\n",
       "Coquimbo                                              0.813478   \n",
       "Valparaiso                                            0.967567   \n",
       "Metropolitana_de_Santiago                             1.000000   \n",
       "Libertador_Gral__Bernardo_O_Higgins                   0.976389   \n",
       "Maule                                                 0.904947   \n",
       "Biobio                                                0.804073   \n",
       "La_Araucania                                          0.729807   \n",
       "Los_Rios                                              0.677950   \n",
       "\n",
       "                                     Libertador_Gral__Bernardo_O_Higgins  \\\n",
       "Coquimbo                                                        0.756140   \n",
       "Valparaiso                                                      0.927210   \n",
       "Metropolitana_de_Santiago                                       0.976389   \n",
       "Libertador_Gral__Bernardo_O_Higgins                             1.000000   \n",
       "Maule                                                           0.966663   \n",
       "Biobio                                                          0.884383   \n",
       "La_Araucania                                                    0.811158   \n",
       "Los_Rios                                                        0.757401   \n",
       "\n",
       "                                        Maule    Biobio  La_Araucania  \\\n",
       "Coquimbo                             0.656834  0.543010      0.477211   \n",
       "Valparaiso                           0.839412  0.730340      0.655924   \n",
       "Metropolitana_de_Santiago            0.904947  0.804073      0.729807   \n",
       "Libertador_Gral__Bernardo_O_Higgins  0.966663  0.884383      0.811158   \n",
       "Maule                                1.000000  0.956756      0.889200   \n",
       "Biobio                               0.956756  1.000000      0.970236   \n",
       "La_Araucania                         0.889200  0.970236      1.000000   \n",
       "Los_Rios                             0.834228  0.920731      0.974393   \n",
       "\n",
       "                                     Los_Rios  \n",
       "Coquimbo                             0.446142  \n",
       "Valparaiso                           0.609245  \n",
       "Metropolitana_de_Santiago            0.677950  \n",
       "Libertador_Gral__Bernardo_O_Higgins  0.757401  \n",
       "Maule                                0.834228  \n",
       "Biobio                               0.920731  \n",
       "La_Araucania                         0.974393  \n",
       "Los_Rios                             1.000000  "
      ]
     },
     "execution_count": 19,
     "metadata": {},
     "output_type": "execute_result"
    }
   ],
   "source": [
    "df_precipitaciones.corr()"
   ]
  },
  {
   "cell_type": "markdown",
   "metadata": {},
   "source": [
    "Hay una fuerte correlacion entre las regiones de: [Coquimbo,Valparaiso] [Metropolitana_de_Santiago,Valparaiso] esto puede significar que cuando llueva en una muy capaz llueve en la otra <br>\n",
    "Me imagino que tiene que ver con que sean limites entre ellos (no soy de chile)"
   ]
  },
  {
   "cell_type": "markdown",
   "metadata": {},
   "source": [
    "Revisamos si hay valores nulos en la data, asi como describimos la data "
   ]
  },
  {
   "cell_type": "code",
   "execution_count": 20,
   "metadata": {},
   "outputs": [
    {
     "data": {
      "text/plain": [
       "(496, 9)"
      ]
     },
     "execution_count": 20,
     "metadata": {},
     "output_type": "execute_result"
    }
   ],
   "source": [
    "df_precipitaciones.shape"
   ]
  },
  {
   "cell_type": "code",
   "execution_count": 21,
   "metadata": {},
   "outputs": [
    {
     "data": {
      "text/plain": [
       "Los_Rios                               0\n",
       "La_Araucania                           0\n",
       "Biobio                                 0\n",
       "Maule                                  0\n",
       "Libertador_Gral__Bernardo_O_Higgins    0\n",
       "Metropolitana_de_Santiago              0\n",
       "Valparaiso                             0\n",
       "Coquimbo                               0\n",
       "date                                   0\n",
       "dtype: int64"
      ]
     },
     "execution_count": 21,
     "metadata": {},
     "output_type": "execute_result"
    }
   ],
   "source": [
    "df_precipitaciones.isnull().sum().sort_values(ascending=False)"
   ]
  },
  {
   "cell_type": "markdown",
   "metadata": {},
   "source": [
    "Podemos evidenciar que no hay datos nulos <br> Usamos describe para ver algunos detalles estadísticos básicos como el percentil, la media, la std, etc. "
   ]
  },
  {
   "cell_type": "code",
   "execution_count": 27,
   "metadata": {},
   "outputs": [
    {
     "data": {
      "text/html": [
       "<div>\n",
       "<style scoped>\n",
       "    .dataframe tbody tr th:only-of-type {\n",
       "        vertical-align: middle;\n",
       "    }\n",
       "\n",
       "    .dataframe tbody tr th {\n",
       "        vertical-align: top;\n",
       "    }\n",
       "\n",
       "    .dataframe thead th {\n",
       "        text-align: right;\n",
       "    }\n",
       "</style>\n",
       "<table border=\"1\" class=\"dataframe\">\n",
       "  <thead>\n",
       "    <tr style=\"text-align: right;\">\n",
       "      <th></th>\n",
       "      <th>Coquimbo</th>\n",
       "      <th>Valparaiso</th>\n",
       "      <th>Metropolitana_de_Santiago</th>\n",
       "      <th>Libertador_Gral__Bernardo_O_Higgins</th>\n",
       "      <th>Maule</th>\n",
       "      <th>Biobio</th>\n",
       "      <th>La_Araucania</th>\n",
       "      <th>Los_Rios</th>\n",
       "    </tr>\n",
       "  </thead>\n",
       "  <tbody>\n",
       "    <tr>\n",
       "      <th>count</th>\n",
       "      <td>496.000000</td>\n",
       "      <td>496.000000</td>\n",
       "      <td>496.000000</td>\n",
       "      <td>496.000000</td>\n",
       "      <td>496.000000</td>\n",
       "      <td>496.000000</td>\n",
       "      <td>496.000000</td>\n",
       "      <td>496.000000</td>\n",
       "    </tr>\n",
       "    <tr>\n",
       "      <th>mean</th>\n",
       "      <td>16.154691</td>\n",
       "      <td>32.450980</td>\n",
       "      <td>49.666682</td>\n",
       "      <td>72.249805</td>\n",
       "      <td>98.662773</td>\n",
       "      <td>128.113406</td>\n",
       "      <td>151.486456</td>\n",
       "      <td>199.451789</td>\n",
       "    </tr>\n",
       "    <tr>\n",
       "      <th>std</th>\n",
       "      <td>32.629286</td>\n",
       "      <td>55.434330</td>\n",
       "      <td>74.361099</td>\n",
       "      <td>101.426112</td>\n",
       "      <td>122.766771</td>\n",
       "      <td>130.056094</td>\n",
       "      <td>126.628503</td>\n",
       "      <td>140.073615</td>\n",
       "    </tr>\n",
       "    <tr>\n",
       "      <th>min</th>\n",
       "      <td>0.000000</td>\n",
       "      <td>0.000000</td>\n",
       "      <td>0.000000</td>\n",
       "      <td>0.000000</td>\n",
       "      <td>0.000000</td>\n",
       "      <td>0.001170</td>\n",
       "      <td>0.005331</td>\n",
       "      <td>0.748127</td>\n",
       "    </tr>\n",
       "    <tr>\n",
       "      <th>25%</th>\n",
       "      <td>0.821521</td>\n",
       "      <td>1.538162</td>\n",
       "      <td>5.297546</td>\n",
       "      <td>5.343992</td>\n",
       "      <td>11.897363</td>\n",
       "      <td>29.356684</td>\n",
       "      <td>52.930343</td>\n",
       "      <td>89.805643</td>\n",
       "    </tr>\n",
       "    <tr>\n",
       "      <th>50%</th>\n",
       "      <td>4.071036</td>\n",
       "      <td>9.037825</td>\n",
       "      <td>19.087592</td>\n",
       "      <td>25.995969</td>\n",
       "      <td>45.649888</td>\n",
       "      <td>79.558557</td>\n",
       "      <td>110.570990</td>\n",
       "      <td>159.467940</td>\n",
       "    </tr>\n",
       "    <tr>\n",
       "      <th>75%</th>\n",
       "      <td>16.137600</td>\n",
       "      <td>38.409213</td>\n",
       "      <td>63.408364</td>\n",
       "      <td>101.875093</td>\n",
       "      <td>142.230716</td>\n",
       "      <td>184.751307</td>\n",
       "      <td>208.316243</td>\n",
       "      <td>274.594590</td>\n",
       "    </tr>\n",
       "    <tr>\n",
       "      <th>max</th>\n",
       "      <td>347.133889</td>\n",
       "      <td>441.048604</td>\n",
       "      <td>524.592667</td>\n",
       "      <td>645.515752</td>\n",
       "      <td>759.177712</td>\n",
       "      <td>702.434707</td>\n",
       "      <td>661.211203</td>\n",
       "      <td>717.735673</td>\n",
       "    </tr>\n",
       "  </tbody>\n",
       "</table>\n",
       "</div>"
      ],
      "text/plain": [
       "         Coquimbo  Valparaiso  Metropolitana_de_Santiago  \\\n",
       "count  496.000000  496.000000                 496.000000   \n",
       "mean    16.154691   32.450980                  49.666682   \n",
       "std     32.629286   55.434330                  74.361099   \n",
       "min      0.000000    0.000000                   0.000000   \n",
       "25%      0.821521    1.538162                   5.297546   \n",
       "50%      4.071036    9.037825                  19.087592   \n",
       "75%     16.137600   38.409213                  63.408364   \n",
       "max    347.133889  441.048604                 524.592667   \n",
       "\n",
       "       Libertador_Gral__Bernardo_O_Higgins       Maule      Biobio  \\\n",
       "count                           496.000000  496.000000  496.000000   \n",
       "mean                             72.249805   98.662773  128.113406   \n",
       "std                             101.426112  122.766771  130.056094   \n",
       "min                               0.000000    0.000000    0.001170   \n",
       "25%                               5.343992   11.897363   29.356684   \n",
       "50%                              25.995969   45.649888   79.558557   \n",
       "75%                             101.875093  142.230716  184.751307   \n",
       "max                             645.515752  759.177712  702.434707   \n",
       "\n",
       "       La_Araucania    Los_Rios  \n",
       "count    496.000000  496.000000  \n",
       "mean     151.486456  199.451789  \n",
       "std      126.628503  140.073615  \n",
       "min        0.005331    0.748127  \n",
       "25%       52.930343   89.805643  \n",
       "50%      110.570990  159.467940  \n",
       "75%      208.316243  274.594590  \n",
       "max      661.211203  717.735673  "
      ]
     },
     "execution_count": 27,
     "metadata": {},
     "output_type": "execute_result"
    }
   ],
   "source": [
    "df_precipitaciones.describe()"
   ]
  },
  {
   "cell_type": "markdown",
   "metadata": {},
   "source": [
    "La zona en la que mas llueve es Los Rios"
   ]
  },
  {
   "cell_type": "code",
   "execution_count": 28,
   "metadata": {},
   "outputs": [
    {
     "data": {
      "text/html": [
       "<div>\n",
       "<style scoped>\n",
       "    .dataframe tbody tr th:only-of-type {\n",
       "        vertical-align: middle;\n",
       "    }\n",
       "\n",
       "    .dataframe tbody tr th {\n",
       "        vertical-align: top;\n",
       "    }\n",
       "\n",
       "    .dataframe thead th {\n",
       "        text-align: right;\n",
       "    }\n",
       "</style>\n",
       "<table border=\"1\" class=\"dataframe\">\n",
       "  <thead>\n",
       "    <tr style=\"text-align: right;\">\n",
       "      <th></th>\n",
       "      <th>date</th>\n",
       "      <th>Coquimbo</th>\n",
       "      <th>Valparaiso</th>\n",
       "      <th>Metropolitana_de_Santiago</th>\n",
       "      <th>Libertador_Gral__Bernardo_O_Higgins</th>\n",
       "      <th>Maule</th>\n",
       "      <th>Biobio</th>\n",
       "      <th>La_Araucania</th>\n",
       "      <th>Los_Rios</th>\n",
       "    </tr>\n",
       "  </thead>\n",
       "  <tbody>\n",
       "  </tbody>\n",
       "</table>\n",
       "</div>"
      ],
      "text/plain": [
       "Empty DataFrame\n",
       "Columns: [date, Coquimbo, Valparaiso, Metropolitana_de_Santiago, Libertador_Gral__Bernardo_O_Higgins, Maule, Biobio, La_Araucania, Los_Rios]\n",
       "Index: []"
      ]
     },
     "execution_count": 28,
     "metadata": {},
     "output_type": "execute_result"
    }
   ],
   "source": [
    "df_precipitaciones[df_precipitaciones.duplicated()]"
   ]
  },
  {
   "cell_type": "markdown",
   "metadata": {},
   "source": [
    "Y no hay datos duplicados, solo tenemos que hacer la limpieza de data en el dataframe de banco"
   ]
  },
  {
   "cell_type": "code",
   "execution_count": 31,
   "metadata": {},
   "outputs": [
    {
     "name": "stdout",
     "output_type": "stream",
     "text": [
      "<class 'pandas.core.frame.DataFrame'>\n",
      "RangeIndex: 496 entries, 0 to 495\n",
      "Data columns (total 9 columns):\n",
      " #   Column                               Non-Null Count  Dtype  \n",
      "---  ------                               --------------  -----  \n",
      " 0   date                                 496 non-null    object \n",
      " 1   Coquimbo                             496 non-null    float64\n",
      " 2   Valparaiso                           496 non-null    float64\n",
      " 3   Metropolitana_de_Santiago            496 non-null    float64\n",
      " 4   Libertador_Gral__Bernardo_O_Higgins  496 non-null    float64\n",
      " 5   Maule                                496 non-null    float64\n",
      " 6   Biobio                               496 non-null    float64\n",
      " 7   La_Araucania                         496 non-null    float64\n",
      " 8   Los_Rios                             496 non-null    float64\n",
      "dtypes: float64(8), object(1)\n",
      "memory usage: 35.0+ KB\n"
     ]
    }
   ],
   "source": [
    "df_precipitaciones.info()"
   ]
  },
  {
   "cell_type": "markdown",
   "metadata": {},
   "source": [
    "Removemos los valores en blanco"
   ]
  },
  {
   "cell_type": "code",
   "execution_count": 51,
   "metadata": {},
   "outputs": [],
   "source": [
    " df_banco.dropna(axis=0,inplace=True)  \n",
    "# for column  in df_banco.columns:\n",
    "#     df_banco[column].fillna(df_banco[column].median(), inplace=True)\n",
    "# #     print(df_banco[column])"
   ]
  },
  {
   "cell_type": "code",
   "execution_count": 33,
   "metadata": {},
   "outputs": [
    {
     "name": "stdout",
     "output_type": "stream",
     "text": [
      "<class 'pandas.core.frame.DataFrame'>\n",
      "Int64Index: 9 entries, 84 to 93\n",
      "Data columns (total 85 columns):\n",
      " #   Column                                                                              Non-Null Count  Dtype  \n",
      "---  ------                                                                              --------------  -----  \n",
      " 0   Periodo                                                                             9 non-null      object \n",
      " 1   Imacec_empalmado                                                                    9 non-null      object \n",
      " 2   Imacec_produccion_de_bienes                                                         9 non-null      object \n",
      " 3   Imacec_minero                                                                       9 non-null      object \n",
      " 4   Imacec_industria                                                                    9 non-null      object \n",
      " 5   Imacec_resto_de_bienes                                                              9 non-null      object \n",
      " 6   Imacec_comercio                                                                     9 non-null      object \n",
      " 7   Imacec_servicios                                                                    9 non-null      object \n",
      " 8   Imacec_a_costo_de_factores                                                          9 non-null      object \n",
      " 9   Imacec_no_minero                                                                    9 non-null      object \n",
      " 10  PIB_Agropecuario_silvicola                                                          9 non-null      object \n",
      " 11  PIB_Pesca                                                                           9 non-null      object \n",
      " 12  PIB_Mineria                                                                         9 non-null      object \n",
      " 13  PIB_Mineria_del_cobre                                                               9 non-null      object \n",
      " 14  PIB_Otras_actividades_mineras                                                       9 non-null      object \n",
      " 15  PIB_Industria_Manufacturera                                                         9 non-null      object \n",
      " 16  PIB_Alimentos                                                                       9 non-null      object \n",
      " 17  PIB_Bebidas_y_tabaco                                                                9 non-null      object \n",
      " 18  PIB_Textil                                                                          9 non-null      object \n",
      " 19  PIB_Maderas_y_muebles                                                               9 non-null      object \n",
      " 20  PIB_Celulosa                                                                        9 non-null      object \n",
      " 21  PIB_Refinacion_de_petroleo                                                          9 non-null      object \n",
      " 22  PIB_Quimica                                                                         9 non-null      object \n",
      " 23  PIB_Minerales_no_metalicos_y_metalica_basica                                        9 non-null      object \n",
      " 24  PIB_Productos_metalicos                                                             9 non-null      object \n",
      " 25  PIB_Electricidad                                                                    9 non-null      object \n",
      " 26  PIB_Construccion                                                                    9 non-null      object \n",
      " 27  PIB_Comercio                                                                        9 non-null      object \n",
      " 28  PIB_Restaurantes_y_hoteles                                                          9 non-null      object \n",
      " 29  PIB_Transporte                                                                      9 non-null      object \n",
      " 30  PIB_Comunicaciones                                                                  9 non-null      object \n",
      " 31  PIB_Servicios_financieros                                                           9 non-null      object \n",
      " 32  PIB_Servicios_empresariales                                                         9 non-null      object \n",
      " 33  PIB_Servicios_de_vivienda                                                           9 non-null      object \n",
      " 34  PIB_Servicios_personales                                                            9 non-null      object \n",
      " 35  PIB_Administracion_publica                                                          9 non-null      object \n",
      " 36  PIB_a_costo_de_factores                                                             9 non-null      object \n",
      " 37  Impuesto_al_valor_agregado                                                          9 non-null      object \n",
      " 38  Derechos_de_Importacion                                                             9 non-null      object \n",
      " 39  PIB                                                                                 9 non-null      object \n",
      " 40  Precio_de_la_gasolina_en_EEUU_dolaresm3                                             9 non-null      object \n",
      " 41  Precio_de_la_onza_troy_de_oro_dolaresoz                                             9 non-null      float64\n",
      " 42  Precio_de_la_onza_troy_de_plata_dolaresoz                                           9 non-null      float64\n",
      " 43  Precio_del_cobre_refinado_BML_dolareslibra                                          9 non-null      object \n",
      " 44  Precio_del_diesel_centavos_de_dolargalon                                            9 non-null      float64\n",
      " 45  Precio_del_gas_natural_dolaresmillon_de_unidades_termicas_britanicas                9 non-null      float64\n",
      " 46  Precio_del_petroleo_Brent_dolaresbarril                                             9 non-null      float64\n",
      " 47  Precio_del_kerosene_dolaresm3                                                       9 non-null      object \n",
      " 48  Precio_del_petroleo_WTI_dolaresbarril                                               9 non-null      float64\n",
      " 49  Precio_del_propano_centavos_de_dolargalon_DTN                                       9 non-null      float64\n",
      " 50  Tipo_de_cambio_del_dolar_observado_diario                                           9 non-null      object \n",
      " 51  Ocupados                                                                            9 non-null      object \n",
      " 52  Ocupacion_en_Agricultura_INE                                                        9 non-null      object \n",
      " 53  Ocupacion_en_Explotacion_de_minas_y_canteras_INE                                    9 non-null      object \n",
      " 54  Ocupacion_en_Industrias_manufactureras_INE                                          9 non-null      object \n",
      " 55  Ocupacion_en_Suministro_de_electricidad_INE                                         9 non-null      object \n",
      " 56  Ocupacion_en_Actividades_de_servicios_administrativos_y_de_apoyo_INE                9 non-null      object \n",
      " 57  Ocupacion_en_Actividades_profesionales_INE                                          9 non-null      object \n",
      " 58  Ocupacion_en_Actividades_inmobiliarias_INE                                          9 non-null      object \n",
      " 59  Ocupacion_en_Actividades_financieras_y_de_seguros_INE                               9 non-null      object \n",
      " 60  Ocupacion_en_Informacion_y_comunicaciones_INE                                       9 non-null      object \n",
      " 61  Ocupacion_en_Transporte_y_almacenamiento_INE                                        9 non-null      object \n",
      " 62  Ocupacion_en_Actividades_de_alojamiento_y_de_servicio_de_comidas_INE                9 non-null      object \n",
      " 63  Ocupacion_en_Construccion_INE                                                       9 non-null      object \n",
      " 64  Ocupacion_en_Comercio_INE                                                           9 non-null      object \n",
      " 65  Ocupacion_en_Suministro_de_agua_evacuacion_de_aguas_residuales_INE                  9 non-null      object \n",
      " 66  Ocupacion_en_Administracion_publica_y_defensa_INE                                   9 non-null      object \n",
      " 67  Ocupacion_en_Enseanza_INE                                                           9 non-null      object \n",
      " 68  Ocupacion_en_Actividades_de_atencion_de_la_salud_humana_y_de_asistencia_social_INE  9 non-null      object \n",
      " 69  Ocupacion_en_Actividades_artisticas_INE                                             9 non-null      object \n",
      " 70  Ocupacion_en_Otras_actividades_de_servicios_INE                                     9 non-null      object \n",
      " 71  Ocupacion_en_Actividades_de_los_hogares_como_empleadores_INE                        9 non-null      object \n",
      " 72  Ocupacion_en_Actividades_de_organizaciones_y_organos_extraterritoriales_INE         9 non-null      object \n",
      " 73  No_sabe__No_responde_Miles_de_personas                                              9 non-null      object \n",
      " 74  Tipo_de_cambio_nominal_multilateral___TCM                                           9 non-null      object \n",
      " 75  Indice_de_tipo_de_cambio_real___TCR_promedio_1986_100                               9 non-null      object \n",
      " 76  Indice_de_produccion_industrial                                                     9 non-null      object \n",
      " 77  Indice_de_produccion_industrial__mineria                                            9 non-null      object \n",
      " 78  Indice_de_produccion_industrial_electricidad__gas_y_agua                            9 non-null      object \n",
      " 79  Indice_de_produccion_industrial__manufacturera                                      9 non-null      object \n",
      " 80  Generacion_de_energia_electrica_CDEC_GWh                                            9 non-null      object \n",
      " 81  Indice_de_ventas_comercio_real_IVCM                                                 9 non-null      object \n",
      " 82  Indice_de_ventas_comercio_real_no_durables_IVCM                                     9 non-null      object \n",
      " 83  Indice_de_ventas_comercio_real_durables_IVCM                                        9 non-null      object \n",
      " 84  Ventas_autos_nuevos                                                                 9 non-null      float64\n",
      "dtypes: float64(8), object(77)\n",
      "memory usage: 6.0+ KB\n"
     ]
    }
   ],
   "source": [
    "df_banco.info()"
   ]
  },
  {
   "cell_type": "code",
   "execution_count": 34,
   "metadata": {},
   "outputs": [
    {
     "data": {
      "text/html": [
       "<div>\n",
       "<style scoped>\n",
       "    .dataframe tbody tr th:only-of-type {\n",
       "        vertical-align: middle;\n",
       "    }\n",
       "\n",
       "    .dataframe tbody tr th {\n",
       "        vertical-align: top;\n",
       "    }\n",
       "\n",
       "    .dataframe thead th {\n",
       "        text-align: right;\n",
       "    }\n",
       "</style>\n",
       "<table border=\"1\" class=\"dataframe\">\n",
       "  <thead>\n",
       "    <tr style=\"text-align: right;\">\n",
       "      <th></th>\n",
       "      <th>Periodo</th>\n",
       "      <th>Imacec_empalmado</th>\n",
       "      <th>Imacec_produccion_de_bienes</th>\n",
       "      <th>Imacec_minero</th>\n",
       "      <th>Imacec_industria</th>\n",
       "      <th>Imacec_resto_de_bienes</th>\n",
       "      <th>Imacec_comercio</th>\n",
       "      <th>Imacec_servicios</th>\n",
       "      <th>Imacec_a_costo_de_factores</th>\n",
       "      <th>Imacec_no_minero</th>\n",
       "      <th>PIB_Agropecuario_silvicola</th>\n",
       "      <th>PIB_Pesca</th>\n",
       "      <th>PIB_Mineria</th>\n",
       "      <th>PIB_Mineria_del_cobre</th>\n",
       "      <th>PIB_Otras_actividades_mineras</th>\n",
       "      <th>PIB_Industria_Manufacturera</th>\n",
       "      <th>PIB_Alimentos</th>\n",
       "      <th>PIB_Bebidas_y_tabaco</th>\n",
       "      <th>PIB_Textil</th>\n",
       "      <th>PIB_Maderas_y_muebles</th>\n",
       "      <th>PIB_Celulosa</th>\n",
       "      <th>PIB_Refinacion_de_petroleo</th>\n",
       "      <th>PIB_Quimica</th>\n",
       "      <th>PIB_Minerales_no_metalicos_y_metalica_basica</th>\n",
       "      <th>PIB_Productos_metalicos</th>\n",
       "      <th>PIB_Electricidad</th>\n",
       "      <th>PIB_Construccion</th>\n",
       "      <th>PIB_Comercio</th>\n",
       "      <th>PIB_Restaurantes_y_hoteles</th>\n",
       "      <th>PIB_Transporte</th>\n",
       "      <th>PIB_Comunicaciones</th>\n",
       "      <th>PIB_Servicios_financieros</th>\n",
       "      <th>PIB_Servicios_empresariales</th>\n",
       "      <th>PIB_Servicios_de_vivienda</th>\n",
       "      <th>PIB_Servicios_personales</th>\n",
       "      <th>PIB_Administracion_publica</th>\n",
       "      <th>PIB_a_costo_de_factores</th>\n",
       "      <th>Impuesto_al_valor_agregado</th>\n",
       "      <th>Derechos_de_Importacion</th>\n",
       "      <th>PIB</th>\n",
       "      <th>Precio_de_la_gasolina_en_EEUU_dolaresm3</th>\n",
       "      <th>Precio_de_la_onza_troy_de_oro_dolaresoz</th>\n",
       "      <th>Precio_de_la_onza_troy_de_plata_dolaresoz</th>\n",
       "      <th>Precio_del_cobre_refinado_BML_dolareslibra</th>\n",
       "      <th>Precio_del_diesel_centavos_de_dolargalon</th>\n",
       "      <th>Precio_del_gas_natural_dolaresmillon_de_unidades_termicas_britanicas</th>\n",
       "      <th>Precio_del_petroleo_Brent_dolaresbarril</th>\n",
       "      <th>Precio_del_kerosene_dolaresm3</th>\n",
       "      <th>Precio_del_petroleo_WTI_dolaresbarril</th>\n",
       "      <th>Precio_del_propano_centavos_de_dolargalon_DTN</th>\n",
       "      <th>Tipo_de_cambio_del_dolar_observado_diario</th>\n",
       "      <th>Ocupados</th>\n",
       "      <th>Ocupacion_en_Agricultura_INE</th>\n",
       "      <th>Ocupacion_en_Explotacion_de_minas_y_canteras_INE</th>\n",
       "      <th>Ocupacion_en_Industrias_manufactureras_INE</th>\n",
       "      <th>Ocupacion_en_Suministro_de_electricidad_INE</th>\n",
       "      <th>Ocupacion_en_Actividades_de_servicios_administrativos_y_de_apoyo_INE</th>\n",
       "      <th>Ocupacion_en_Actividades_profesionales_INE</th>\n",
       "      <th>Ocupacion_en_Actividades_inmobiliarias_INE</th>\n",
       "      <th>Ocupacion_en_Actividades_financieras_y_de_seguros_INE</th>\n",
       "      <th>Ocupacion_en_Informacion_y_comunicaciones_INE</th>\n",
       "      <th>Ocupacion_en_Transporte_y_almacenamiento_INE</th>\n",
       "      <th>Ocupacion_en_Actividades_de_alojamiento_y_de_servicio_de_comidas_INE</th>\n",
       "      <th>Ocupacion_en_Construccion_INE</th>\n",
       "      <th>Ocupacion_en_Comercio_INE</th>\n",
       "      <th>Ocupacion_en_Suministro_de_agua_evacuacion_de_aguas_residuales_INE</th>\n",
       "      <th>Ocupacion_en_Administracion_publica_y_defensa_INE</th>\n",
       "      <th>Ocupacion_en_Enseanza_INE</th>\n",
       "      <th>Ocupacion_en_Actividades_de_atencion_de_la_salud_humana_y_de_asistencia_social_INE</th>\n",
       "      <th>Ocupacion_en_Actividades_artisticas_INE</th>\n",
       "      <th>Ocupacion_en_Otras_actividades_de_servicios_INE</th>\n",
       "      <th>Ocupacion_en_Actividades_de_los_hogares_como_empleadores_INE</th>\n",
       "      <th>Ocupacion_en_Actividades_de_organizaciones_y_organos_extraterritoriales_INE</th>\n",
       "      <th>No_sabe__No_responde_Miles_de_personas</th>\n",
       "      <th>Tipo_de_cambio_nominal_multilateral___TCM</th>\n",
       "      <th>Indice_de_tipo_de_cambio_real___TCR_promedio_1986_100</th>\n",
       "      <th>Indice_de_produccion_industrial</th>\n",
       "      <th>Indice_de_produccion_industrial__mineria</th>\n",
       "      <th>Indice_de_produccion_industrial_electricidad__gas_y_agua</th>\n",
       "      <th>Indice_de_produccion_industrial__manufacturera</th>\n",
       "      <th>Generacion_de_energia_electrica_CDEC_GWh</th>\n",
       "      <th>Indice_de_ventas_comercio_real_IVCM</th>\n",
       "      <th>Indice_de_ventas_comercio_real_no_durables_IVCM</th>\n",
       "      <th>Indice_de_ventas_comercio_real_durables_IVCM</th>\n",
       "      <th>Ventas_autos_nuevos</th>\n",
       "    </tr>\n",
       "  </thead>\n",
       "  <tbody>\n",
       "  </tbody>\n",
       "</table>\n",
       "</div>"
      ],
      "text/plain": [
       "Empty DataFrame\n",
       "Columns: [Periodo, Imacec_empalmado, Imacec_produccion_de_bienes, Imacec_minero, Imacec_industria, Imacec_resto_de_bienes, Imacec_comercio, Imacec_servicios, Imacec_a_costo_de_factores, Imacec_no_minero, PIB_Agropecuario_silvicola, PIB_Pesca, PIB_Mineria, PIB_Mineria_del_cobre, PIB_Otras_actividades_mineras, PIB_Industria_Manufacturera, PIB_Alimentos, PIB_Bebidas_y_tabaco, PIB_Textil, PIB_Maderas_y_muebles, PIB_Celulosa, PIB_Refinacion_de_petroleo, PIB_Quimica, PIB_Minerales_no_metalicos_y_metalica_basica, PIB_Productos_metalicos, PIB_Electricidad, PIB_Construccion, PIB_Comercio, PIB_Restaurantes_y_hoteles, PIB_Transporte, PIB_Comunicaciones, PIB_Servicios_financieros, PIB_Servicios_empresariales, PIB_Servicios_de_vivienda, PIB_Servicios_personales, PIB_Administracion_publica, PIB_a_costo_de_factores, Impuesto_al_valor_agregado, Derechos_de_Importacion, PIB, Precio_de_la_gasolina_en_EEUU_dolaresm3, Precio_de_la_onza_troy_de_oro_dolaresoz, Precio_de_la_onza_troy_de_plata_dolaresoz, Precio_del_cobre_refinado_BML_dolareslibra, Precio_del_diesel_centavos_de_dolargalon, Precio_del_gas_natural_dolaresmillon_de_unidades_termicas_britanicas, Precio_del_petroleo_Brent_dolaresbarril, Precio_del_kerosene_dolaresm3, Precio_del_petroleo_WTI_dolaresbarril, Precio_del_propano_centavos_de_dolargalon_DTN, Tipo_de_cambio_del_dolar_observado_diario, Ocupados, Ocupacion_en_Agricultura_INE, Ocupacion_en_Explotacion_de_minas_y_canteras_INE, Ocupacion_en_Industrias_manufactureras_INE, Ocupacion_en_Suministro_de_electricidad_INE, Ocupacion_en_Actividades_de_servicios_administrativos_y_de_apoyo_INE, Ocupacion_en_Actividades_profesionales_INE, Ocupacion_en_Actividades_inmobiliarias_INE, Ocupacion_en_Actividades_financieras_y_de_seguros_INE, Ocupacion_en_Informacion_y_comunicaciones_INE, Ocupacion_en_Transporte_y_almacenamiento_INE, Ocupacion_en_Actividades_de_alojamiento_y_de_servicio_de_comidas_INE, Ocupacion_en_Construccion_INE, Ocupacion_en_Comercio_INE, Ocupacion_en_Suministro_de_agua_evacuacion_de_aguas_residuales_INE, Ocupacion_en_Administracion_publica_y_defensa_INE, Ocupacion_en_Enseanza_INE, Ocupacion_en_Actividades_de_atencion_de_la_salud_humana_y_de_asistencia_social_INE, Ocupacion_en_Actividades_artisticas_INE, Ocupacion_en_Otras_actividades_de_servicios_INE, Ocupacion_en_Actividades_de_los_hogares_como_empleadores_INE, Ocupacion_en_Actividades_de_organizaciones_y_organos_extraterritoriales_INE, No_sabe__No_responde_Miles_de_personas, Tipo_de_cambio_nominal_multilateral___TCM, Indice_de_tipo_de_cambio_real___TCR_promedio_1986_100, Indice_de_produccion_industrial, Indice_de_produccion_industrial__mineria, Indice_de_produccion_industrial_electricidad__gas_y_agua, Indice_de_produccion_industrial__manufacturera, Generacion_de_energia_electrica_CDEC_GWh, Indice_de_ventas_comercio_real_IVCM, Indice_de_ventas_comercio_real_no_durables_IVCM, Indice_de_ventas_comercio_real_durables_IVCM, Ventas_autos_nuevos]\n",
       "Index: []"
      ]
     },
     "execution_count": 34,
     "metadata": {},
     "output_type": "execute_result"
    }
   ],
   "source": [
    "df_banco[df_banco.duplicated()]"
   ]
  },
  {
   "cell_type": "markdown",
   "metadata": {},
   "source": [
    "Ya no hay duplicados"
   ]
  },
  {
   "cell_type": "code",
   "execution_count": 78,
   "metadata": {},
   "outputs": [
    {
     "data": {
      "application/vnd.plotly.v1+json": {
       "config": {
        "plotlyServerURL": "https://plot.ly"
       },
       "data": [
        {
         "hovertemplate": "date=%{x}<br>Libertador_Gral__Bernardo_O_Higgins=%{y}<extra></extra>",
         "legendgroup": "",
         "line": {
          "color": "#636efa",
          "dash": "solid"
         },
         "mode": "lines",
         "name": "",
         "orientation": "v",
         "showlegend": false,
         "type": "scatter",
         "x": [
          "1989-02-01",
          "1998-10-01",
          "2001-02-01",
          "2008-11-01",
          "2009-04-01",
          "2015-01-01",
          "2016-03-01",
          "2020-03-01",
          "1988-12-01",
          "2015-12-01",
          "2009-09-01",
          "2003-01-01",
          "1989-03-01",
          "2000-11-01",
          "2008-03-01",
          "2000-01-01",
          "2006-08-01",
          "1989-07-01",
          "1984-12-01",
          "2001-04-01",
          "1997-04-01",
          "1997-03-01",
          "1982-12-01",
          "1998-12-01",
          "2007-10-01",
          "1996-06-01",
          "2015-03-01",
          "1992-08-01",
          "1998-01-01",
          "2006-03-01",
          "1985-03-01",
          "2011-09-01",
          "1983-01-01",
          "2010-03-01",
          "1979-10-01",
          "2005-08-01",
          "1999-04-01",
          "1986-11-01",
          "2020-01-01",
          "2008-01-01",
          "2003-04-01",
          "2016-01-01",
          "2008-12-01",
          "2002-06-01",
          "2003-12-01",
          "1994-03-01",
          "2011-12-01",
          "2001-11-01",
          "2016-11-01",
          "1984-10-01",
          "2013-05-01",
          "2018-11-01",
          "2002-04-01",
          "1999-01-01",
          "2019-05-01",
          "1990-04-01",
          "2012-03-01",
          "1982-06-01",
          "2003-08-01",
          "1995-07-01",
          "1999-06-01",
          "1989-08-01",
          "1990-06-01",
          "2018-02-01",
          "2000-10-01",
          "2005-02-01",
          "2005-12-01",
          "1985-11-01",
          "2015-07-01",
          "2001-06-01",
          "1993-09-01",
          "2017-04-01",
          "2008-10-01",
          "2017-02-01",
          "1996-09-01",
          "2009-12-01",
          "1992-02-01",
          "2013-11-01",
          "1995-03-01",
          "2007-12-01",
          "2007-02-01",
          "1993-12-01",
          "1990-10-01",
          "1999-09-01",
          "2004-04-01",
          "2000-06-01",
          "2006-07-01",
          "1979-11-01",
          "2006-01-01",
          "2001-09-01",
          "1997-07-01",
          "2019-04-01",
          "2013-09-01",
          "2006-02-01",
          "1988-05-01",
          "2008-07-01",
          "2002-03-01",
          "2011-01-01",
          "1992-04-01",
          "2010-09-01",
          "1992-11-01",
          "1999-07-01",
          "1982-03-01",
          "2009-07-01",
          "2001-08-01",
          "2004-07-01",
          "1996-10-01",
          "2019-01-01",
          "1994-02-01",
          "1990-12-01",
          "2008-08-01",
          "2019-11-01",
          "1991-09-01",
          "2003-10-01",
          "2004-08-01",
          "2013-12-01",
          "2017-01-01",
          "2017-05-01",
          "1995-11-01",
          "1980-05-01",
          "1988-07-01",
          "2019-03-01",
          "1993-03-01",
          "2005-10-01",
          "1991-07-01",
          "2014-07-01",
          "2018-01-01",
          "1985-10-01",
          "1991-08-01",
          "1980-11-01",
          "1983-12-01",
          "1981-02-01",
          "1981-04-01",
          "1982-01-01",
          "1996-04-01",
          "1997-01-01",
          "2004-09-01",
          "2012-01-01",
          "1994-04-01",
          "2012-12-01",
          "1983-11-01",
          "1980-12-01",
          "2000-12-01",
          "1997-02-01",
          "2020-04-01",
          "2001-07-01",
          "2010-05-01",
          "2005-09-01",
          "1989-10-01",
          "2010-06-01",
          "2016-07-01",
          "1996-11-01",
          "1985-12-01",
          "1986-03-01",
          "1989-04-01",
          "2018-04-01",
          "2018-09-01",
          "2017-08-01",
          "2009-05-01",
          "2016-05-01",
          "2004-01-01",
          "2017-12-01",
          "2014-05-01",
          "2010-10-01",
          "1983-08-01",
          "1983-10-01",
          "2020-02-01",
          "2016-08-01",
          "2009-03-01",
          "1990-11-01",
          "1979-01-01",
          "2004-06-01",
          "1998-03-01",
          "1994-06-01",
          "1995-10-01",
          "1982-07-01",
          "1998-11-01",
          "2014-03-01",
          "1988-01-01",
          "1997-08-01",
          "1984-02-01",
          "2005-04-01",
          "1988-03-01",
          "2007-11-01",
          "1985-08-01",
          "1983-03-01",
          "1981-11-01",
          "1999-08-01",
          "2004-10-01",
          "1981-07-01",
          "2004-05-01",
          "2015-04-01",
          "1995-12-01",
          "1987-02-01",
          "1992-12-01",
          "1996-05-01",
          "1996-01-01",
          "1981-03-01",
          "2019-07-01",
          "2000-03-01",
          "1993-06-01",
          "2000-05-01",
          "2003-05-01",
          "1984-03-01",
          "2014-12-01",
          "1983-02-01",
          "2010-01-01",
          "2017-03-01",
          "1990-05-01",
          "2008-09-01",
          "2009-08-01",
          "1986-04-01",
          "1995-01-01",
          "1995-06-01",
          "2001-10-01",
          "2012-02-01",
          "2005-07-01",
          "1979-05-01",
          "2005-03-01",
          "2007-06-01",
          "1986-08-01",
          "1992-07-01",
          "1999-03-01",
          "1997-10-01",
          "2012-04-01",
          "2018-12-01",
          "2012-05-01",
          "2012-09-01",
          "2007-08-01",
          "1984-04-01",
          "2018-08-01",
          "1992-01-01",
          "1993-07-01",
          "2017-09-01",
          "1993-10-01",
          "1992-10-01",
          "1982-05-01",
          "2013-03-01",
          "1986-10-01",
          "1994-10-01",
          "1991-12-01",
          "1980-03-01",
          "2013-06-01",
          "1989-01-01",
          "2008-02-01",
          "2014-02-01",
          "1987-06-01",
          "1984-08-01",
          "1995-02-01",
          "1990-01-01",
          "1980-04-01",
          "2000-09-01",
          "2004-03-01",
          "2005-05-01",
          "2001-05-01",
          "2015-05-01",
          "1981-10-01",
          "1990-09-01",
          "2010-02-01",
          "2013-07-01",
          "1981-09-01",
          "2009-10-01",
          "1985-06-01",
          "1993-08-01",
          "1991-06-01",
          "2007-01-01",
          "1994-05-01",
          "1994-12-01",
          "1987-07-01",
          "2003-09-01",
          "2013-04-01",
          "1993-01-01",
          "1979-07-01",
          "1979-08-01",
          "2000-07-01",
          "1992-09-01",
          "2016-02-01",
          "1989-12-01",
          "2009-06-01",
          "2010-08-01",
          "1991-04-01",
          "2014-09-01",
          "1980-08-01",
          "1990-08-01",
          "2018-10-01",
          "1981-01-01",
          "1982-08-01",
          "1985-09-01",
          "1990-03-01",
          "1992-05-01",
          "1983-05-01",
          "1984-11-01",
          "1993-04-01",
          "2010-04-01",
          "2015-02-01",
          "1999-10-01",
          "1979-09-01",
          "2019-02-01",
          "1994-07-01",
          "2001-12-01",
          "1996-08-01",
          "1988-02-01",
          "2012-08-01",
          "2009-01-01",
          "1998-09-01",
          "1979-03-01",
          "2011-06-01",
          "1985-04-01",
          "2014-10-01",
          "2005-06-01",
          "1980-10-01",
          "2004-11-01",
          "1998-05-01",
          "1982-02-01",
          "2014-08-01",
          "2008-04-01",
          "1991-02-01",
          "2007-04-01",
          "1996-03-01",
          "1984-05-01",
          "2017-10-01",
          "1998-07-01",
          "1979-06-01",
          "1991-01-01",
          "2006-09-01",
          "2007-07-01",
          "2002-07-01",
          "2002-08-01",
          "1982-10-01",
          "1985-01-01",
          "2006-05-01",
          "1995-05-01",
          "1987-08-01",
          "1993-02-01",
          "2011-04-01",
          "2007-05-01",
          "1989-06-01",
          "2006-06-01",
          "2012-06-01",
          "1988-09-01",
          "1986-09-01",
          "1994-11-01",
          "1980-09-01",
          "1982-11-01",
          "2014-06-01",
          "2017-11-01",
          "1986-07-01",
          "1987-03-01",
          "2016-04-01",
          "1983-06-01",
          "1996-07-01",
          "2010-12-01",
          "1988-06-01",
          "1993-11-01",
          "1980-07-01",
          "1989-11-01",
          "1981-06-01",
          "2006-10-01",
          "1982-09-01",
          "2013-10-01",
          "1981-12-01",
          "1984-07-01",
          "1980-06-01",
          "1997-12-01",
          "2000-02-01",
          "2007-03-01",
          "1986-02-01",
          "2015-08-01",
          "1992-03-01",
          "1985-05-01",
          "2002-05-01",
          "1997-11-01",
          "2016-06-01",
          "2016-10-01",
          "2009-11-01",
          "1980-01-01",
          "1988-04-01",
          "1998-06-01",
          "2012-07-01",
          "2006-12-01",
          "2013-01-01",
          "2001-03-01",
          "2018-05-01",
          "2005-11-01",
          "2010-11-01",
          "2018-07-01",
          "1986-05-01",
          "1991-11-01",
          "2003-11-01",
          "2002-12-01",
          "2003-03-01",
          "1996-12-01",
          "1999-12-01",
          "1984-09-01",
          "1994-08-01",
          "1993-05-01",
          "2012-11-01",
          "1980-02-01",
          "1992-06-01",
          "2008-06-01",
          "1988-11-01",
          "2014-11-01",
          "1983-09-01",
          "2002-01-01",
          "1986-06-01",
          "1999-11-01",
          "2017-07-01",
          "1989-09-01",
          "1979-12-01",
          "2011-05-01",
          "2019-12-01",
          "1999-02-01",
          "2019-10-01",
          "1984-01-01",
          "1985-07-01",
          "1990-02-01",
          "2001-01-01",
          "1998-08-01",
          "2016-12-01",
          "1986-12-01",
          "1988-08-01",
          "1989-05-01",
          "2014-04-01",
          "1981-05-01",
          "2002-09-01",
          "1999-05-01",
          "1995-09-01",
          "1987-11-01",
          "1994-09-01",
          "1984-06-01",
          "1985-02-01",
          "1981-08-01",
          "2002-02-01",
          "1997-09-01",
          "2006-04-01",
          "1990-07-01",
          "2000-08-01",
          "2011-10-01",
          "1991-03-01",
          "1998-02-01",
          "2002-11-01",
          "1979-04-01",
          "2011-11-01",
          "1987-10-01",
          "1997-06-01",
          "1986-01-01",
          "1987-01-01",
          "1983-07-01",
          "2007-09-01",
          "2008-05-01",
          "2003-06-01",
          "1997-05-01",
          "2010-07-01",
          "2012-10-01",
          "2019-09-01",
          "1995-04-01",
          "1987-12-01",
          "2002-10-01",
          "2004-02-01",
          "2014-01-01",
          "2015-11-01",
          "1991-05-01",
          "2006-11-01",
          "2000-04-01",
          "1994-01-01",
          "1979-02-01",
          "1995-08-01",
          "2003-02-01",
          "2009-02-01",
          "2013-02-01",
          "2011-02-01",
          "1987-05-01",
          "2011-08-01",
          "2017-06-01",
          "1996-02-01",
          "2013-08-01",
          "1983-04-01",
          "1987-04-01",
          "2011-07-01",
          "2018-06-01",
          "2003-07-01",
          "2015-09-01",
          "2005-01-01",
          "1987-09-01",
          "2015-10-01",
          "2019-06-01",
          "2004-12-01",
          "1998-04-01",
          "1991-10-01",
          "2011-03-01",
          "2018-03-01",
          "1988-10-01",
          "2019-08-01",
          "2015-06-01",
          "2016-09-01",
          "1982-04-01"
         ],
         "xaxis": "x",
         "y": [
          0,
          0,
          0,
          0,
          0,
          0,
          0,
          0,
          1.35336434706295,
          0.410341083079345,
          123.31043393038999,
          36.6756123661071,
          4.73079069407527,
          39.3993178728015,
          17.0795503950858,
          0.0854108526378639,
          150.059844929303,
          179.701565575415,
          0.11134883908973599,
          47.6907595996709,
          64.28440311195311,
          15.4206511887469,
          4.2358604660012205,
          4.03051162962766,
          3.7863100656532,
          126.425116215196,
          6.081255806416499,
          150.273131851078,
          0.00235658921012583,
          0.625457364251447,
          20.0996589165325,
          21.0063255647356,
          6.07404651922253,
          0.0530542632290559,
          14.5570077502912,
          321.506883913972,
          16.072790698487598,
          42.74995351540029,
          6.1542790697674405,
          0.0597209301625573,
          2.83716279018757,
          12.815767415734198,
          0.923906977786574,
          222.80900734598302,
          5.91406201139786,
          9.012759690610471,
          0.0204186047059159,
          8.00440308661886,
          6.39207751479491,
          52.544341047420104,
          185.615612733826,
          21.831472857238698,
          25.9549147383187,
          2.32987596557815,
          91.0927131475404,
          30.3546977139259,
          0.0110697673734768,
          615.003363841449,
          21.8320464984391,
          245.9079534368,
          179.73452703195,
          263.945876436455,
          24.246310057566102,
          4.835333343208299,
          13.497891451430002,
          0.00305426351783812,
          2.2497519390181098,
          15.173519406254,
          203.59730254180698,
          57.106263552525206,
          25.212837244096697,
          54.9472402971844,
          8.35657363330671,
          14.810279091846098,
          10.3731627910434,
          0.0253643409399561,
          15.6117984587832,
          2.22537984575412,
          0.591767440233813,
          2.00235658543285,
          30.522372171121003,
          27.2973953616712,
          25.872759719966897,
          194.295457541296,
          104.97275951888201,
          645.515751612464,
          364.78607743137604,
          68.4668216779251,
          0.45316279203912496,
          23.57817055717,
          122.32141099086999,
          7.04727132077827,
          45.0719689420951,
          7.0805271339971,
          23.3588992683,
          131.103333536784,
          29.376992308446603,
          6.43705427303852,
          83.56336441927179,
          22.735705441294304,
          27.4005581168241,
          55.1709921223249,
          24.9510077587394,
          75.04586062172591,
          191.928759777454,
          178.213178412859,
          22.1232868582703,
          4.79491472576073,
          1.16283721051128,
          13.6236279234059,
          243.503612275826,
          4.30713179624358,
          110.55415518708901,
          16.648930241710502,
          93.26164327813672,
          1.42378294762484,
          1.12601550439474,
          156.639922575248,
          2.91130231997763,
          274.686837957811,
          132.75331771613997,
          3.2850697710763597,
          0.000558139557062193,
          31.016883706676897,
          226.575922494341,
          112.247054225715,
          1.59302325877975,
          79.6457518703254,
          26.637178316781696,
          16.8508216984512,
          0.68936434184858,
          3.61172092481004,
          61.075596875922606,
          0.7574418597934091,
          38.467333358942106,
          3.07055812897377,
          95.75697676192881,
          4.68705425684362,
          86.96744208520701,
          88.8579379946686,
          0.594403102647426,
          9.52643412078998,
          0.17567441820694,
          3.35452712857446,
          19.795751937984498,
          459.34776784024496,
          70.85576743192449,
          48.9373022626537,
          17.0383100912552,
          207.66324020503998,
          213.601643265125,
          7.4302790905154,
          0.25618604330360395,
          5.415581391948139,
          15.1180464717769,
          24.4216589521068,
          110.891984558105,
          166.62404627837,
          90.8710234087567,
          100.714759862146,
          3.8472558120539904,
          6.81803100959275,
          134.375286522207,
          30.9545891591745,
          141.555224928745,
          9.62713178460912,
          0.0176279069767438,
          35.6973178950853,
          0.13254263558129,
          16.868542603559302,
          1.6089922492673898,
          115.460449408006,
          1.6146046491960702,
          157.23341085153,
          31.8725270966227,
          283.408837287371,
          0.047596899079260006,
          15.025209344819501,
          0.287953486507253,
          207.316340838292,
          0.338139533185104,
          14.900387606140301,
          22.832434087206202,
          8.61733334009037,
          10.621100800444,
          2.0028061988395303,
          7.82683721757674,
          179.001379926815,
          39.144666688017104,
          87.53744191605921,
          36.537860503677294,
          6.038031004819761,
          1.3619379795105901,
          5.129224794098111,
          0.545085269463963,
          31.6376123857129,
          2.9279069695072995,
          3.2067286870738303,
          37.600418618668,
          0.0493333335532699,
          278.805860747108,
          37.2153023461039,
          126.049193697197,
          24.961581378389695,
          10.908620161418801,
          4.520077516268509,
          0.166728682512807,
          11.853612389352,
          61.828093033428296,
          23.0118759177452,
          182.32671334909801,
          127.274666613202,
          0.583596894500214,
          246.924697627578,
          10.692914726487,
          8.05203099368617,
          128.679798386448,
          104.451550287054,
          20.714015457242,
          155.661162726824,
          185.69327170201998,
          67.9503567215084,
          13.4695658824241,
          152.13441855260598,
          29.8259069827176,
          4.59040310265309,
          160.620527270413,
          4.876403095544309,
          93.6942169071168,
          22.212248048116997,
          47.779007780089906,
          0.00967441852702651,
          109.109550529303,
          58.35031007574511,
          25.816496119388297,
          9.64294572333957,
          269.117674645712,
          1.39412403876005,
          25.4003720148243,
          24.066682193815197,
          72.62257362779721,
          0.65826356327811,
          91.17088374056559,
          1.13669767172993,
          2.9197829437175,
          7.295178298057281,
          72.9969613097435,
          116.855860575595,
          2.24482170753759,
          4.985767448413401,
          312.417581578927,
          247.16418616716302,
          50.2859845065331,
          298.822232789032,
          204.77874431758,
          10.4554573726284,
          15.581193819711402,
          106.972372105325,
          0.13168992280613498,
          81.7925580904465,
          44.7134573781213,
          39.860387482754,
          101.34336425426399,
          40.4695969071499,
          254.162666734799,
          0.6285736442940639,
          118.014325654969,
          16.2335969370465,
          580.155519234118,
          76.977906994487,
          3.5774883606637204,
          6.04756589345345,
          301.256558251196,
          200.21038749753998,
          58.596186092288,
          59.218465062814204,
          0.00668217060120069,
          9.15894574319669,
          200.523876054158,
          36.441162834241396,
          95.74226352780359,
          121.37781368521799,
          41.4363100155379,
          89.6844029862751,
          73.20984483467521,
          4.60902325076939,
          199.31516259954898,
          78.5953644124112,
          59.1348837475444,
          373.55727099041604,
          121.873658906212,
          21.4929146788841,
          132.053224915497,
          6.73609303069669,
          1.28812402974265,
          27.8003720963648,
          156.477457280122,
          0.48922480986157596,
          267.445875537488,
          0.564992248157198,
          149.087240293044,
          0.556170544377709,
          108.01037216777901,
          1.36365891185611,
          57.6328526371209,
          0.0554883720338807,
          143.22719363427,
          29.1007442001224,
          10.7474883784619,
          418.606635373138,
          3.5501550443181698,
          60.66764334449471,
          88.8923874374508,
          2.45446511761163,
          113.3990234375,
          56.9524650810301,
          2.62747286674819,
          18.476542670932396,
          3.3399534955101,
          283.928325564362,
          62.832868147266,
          0.0129767440548239,
          7.37855816338529,
          6.114511642232539,
          53.40099232843679,
          173.646480578046,
          162.913255925142,
          346.471612312258,
          89.45860468250841,
          7.46209301361742,
          97.82624786140379,
          28.1420000407585,
          334.114124836293,
          3.48857364147439,
          85.7662946242695,
          39.3210542161335,
          91.17899219010229,
          248.16336458191398,
          271.111008033457,
          36.2806356208269,
          26.1767131365547,
          2.17564340312352,
          94.13085283382921,
          5.897829446404481,
          186.488790822584,
          30.157860447639603,
          36.319922484908,
          20.848558137583197,
          257.698635556716,
          212.603783138778,
          64.13336424125261,
          8.05702326514924,
          90.296697681634,
          20.2715813710708,
          217.40021708880298,
          4.33407751589782,
          72.5399688898131,
          92.6875968873963,
          301.841751749201,
          12.7633333244065,
          0.44150387982065403,
          491.21671336565805,
          176.57474397171399,
          6.549131808863129,
          37.463519295980795,
          23.940108556525697,
          6.44471317321466,
          246.857612148551,
          11.992527131863302,
          139.926077625363,
          314.316511665758,
          37.1877674738566,
          56.91961243503779,
          70.6118604379107,
          13.7426821710527,
          1.4038914724578,
          10.6585426373075,
          67.64621705639271,
          21.9488837020342,
          4.2804031086522505,
          6.64505426047384,
          15.736961259398301,
          68.4101860253386,
          31.757627915966395,
          33.2630387949389,
          125.21827912441499,
          340.246403113077,
          15.7679690139238,
          56.9306977087213,
          3.63361240503227,
          0.029147286799757997,
          10.461302338644499,
          3.65531781838499,
          144.462527371192,
          16.2365736248419,
          254.392356529532,
          18.2185116403787,
          26.037023230855798,
          356.282946493459,
          143.816759609252,
          15.4885426336481,
          27.0848682551421,
          72.7093798881353,
          2.19220155671585,
          389.64088331118995,
          2.35265116329456,
          91.16651144101641,
          46.087798494146796,
          52.6017209888429,
          15.5171007243238,
          6.19880621077478,
          6.32167442717351,
          13.204651154658599,
          0.5933798437172819,
          183.93581410489298,
          2.3557209234857996,
          6.13496124311242,
          4.8548837282803206,
          14.030620133322302,
          6.09058915198485,
          206.61187618758302,
          47.233612484895,
          17.5495658452081,
          451.954588992097,
          99.02437204464458,
          57.06595356076261,
          36.971906968050206,
          1.9617829446182702,
          58.5512712729994,
          176.884620004107,
          0.138496122858668,
          122.11651165392999,
          3.80787597491529,
          191.391395497877,
          44.8035038733667,
          102.938790668813,
          28.8256589007932,
          14.127441851529,
          0.202263565257538,
          16.8261085199755,
          8.068775182061419,
          12.989193791382101,
          13.891612381343698,
          75.2540619073912,
          489.97463620208,
          1.14034109053801,
          0.0200465115408103,
          215.06517850890597,
          4.96187597469882,
          342.108635741241,
          189.367534797136,
          187.48931783040402,
          119.812914642807,
          93.27382949119391,
          42.6625581778297,
          113.72798440031299,
          7.18189150658689,
          50.730883726962794,
          1.60072867636995,
          4.80475968850213,
          24.1928837473078,
          269.595349109265,
          3.6415038875022594,
          28.465286781251898,
          0.12089922500326701,
          4.346310070711509,
          98.7452556580536,
          0.0943410854757756,
          3.72396899346233,
          12.139348813117499,
          8.183968995095691,
          125.562527039994,
          169.480868352846,
          210.423225047976,
          0.453224809173235,
          79.5940775730813,
          33.3325581114422,
          21.272000007758802,
          101.520526986529,
          111.368930148339,
          106.27998440764699,
          118.26671322963001,
          14.4322015334469,
          87.04893017850179,
          117.399147311662,
          139.83382962249,
          13.841410813960001,
          73.3631627193717,
          52.3535502618597,
          21.8324031290158,
          17.9000465452209,
          8.260992241055929,
          9.90080620304559,
          33.1526356809823,
          3.0909612439630596,
          16.8917518974275
         ],
         "yaxis": "y"
        }
       ],
       "layout": {
        "legend": {
         "tracegroupgap": 0
        },
        "margin": {
         "t": 60
        },
        "template": {
         "data": {
          "bar": [
           {
            "error_x": {
             "color": "#2a3f5f"
            },
            "error_y": {
             "color": "#2a3f5f"
            },
            "marker": {
             "line": {
              "color": "#E5ECF6",
              "width": 0.5
             }
            },
            "type": "bar"
           }
          ],
          "barpolar": [
           {
            "marker": {
             "line": {
              "color": "#E5ECF6",
              "width": 0.5
             }
            },
            "type": "barpolar"
           }
          ],
          "carpet": [
           {
            "aaxis": {
             "endlinecolor": "#2a3f5f",
             "gridcolor": "white",
             "linecolor": "white",
             "minorgridcolor": "white",
             "startlinecolor": "#2a3f5f"
            },
            "baxis": {
             "endlinecolor": "#2a3f5f",
             "gridcolor": "white",
             "linecolor": "white",
             "minorgridcolor": "white",
             "startlinecolor": "#2a3f5f"
            },
            "type": "carpet"
           }
          ],
          "choropleth": [
           {
            "colorbar": {
             "outlinewidth": 0,
             "ticks": ""
            },
            "type": "choropleth"
           }
          ],
          "contour": [
           {
            "colorbar": {
             "outlinewidth": 0,
             "ticks": ""
            },
            "colorscale": [
             [
              0,
              "#0d0887"
             ],
             [
              0.1111111111111111,
              "#46039f"
             ],
             [
              0.2222222222222222,
              "#7201a8"
             ],
             [
              0.3333333333333333,
              "#9c179e"
             ],
             [
              0.4444444444444444,
              "#bd3786"
             ],
             [
              0.5555555555555556,
              "#d8576b"
             ],
             [
              0.6666666666666666,
              "#ed7953"
             ],
             [
              0.7777777777777778,
              "#fb9f3a"
             ],
             [
              0.8888888888888888,
              "#fdca26"
             ],
             [
              1,
              "#f0f921"
             ]
            ],
            "type": "contour"
           }
          ],
          "contourcarpet": [
           {
            "colorbar": {
             "outlinewidth": 0,
             "ticks": ""
            },
            "type": "contourcarpet"
           }
          ],
          "heatmap": [
           {
            "colorbar": {
             "outlinewidth": 0,
             "ticks": ""
            },
            "colorscale": [
             [
              0,
              "#0d0887"
             ],
             [
              0.1111111111111111,
              "#46039f"
             ],
             [
              0.2222222222222222,
              "#7201a8"
             ],
             [
              0.3333333333333333,
              "#9c179e"
             ],
             [
              0.4444444444444444,
              "#bd3786"
             ],
             [
              0.5555555555555556,
              "#d8576b"
             ],
             [
              0.6666666666666666,
              "#ed7953"
             ],
             [
              0.7777777777777778,
              "#fb9f3a"
             ],
             [
              0.8888888888888888,
              "#fdca26"
             ],
             [
              1,
              "#f0f921"
             ]
            ],
            "type": "heatmap"
           }
          ],
          "heatmapgl": [
           {
            "colorbar": {
             "outlinewidth": 0,
             "ticks": ""
            },
            "colorscale": [
             [
              0,
              "#0d0887"
             ],
             [
              0.1111111111111111,
              "#46039f"
             ],
             [
              0.2222222222222222,
              "#7201a8"
             ],
             [
              0.3333333333333333,
              "#9c179e"
             ],
             [
              0.4444444444444444,
              "#bd3786"
             ],
             [
              0.5555555555555556,
              "#d8576b"
             ],
             [
              0.6666666666666666,
              "#ed7953"
             ],
             [
              0.7777777777777778,
              "#fb9f3a"
             ],
             [
              0.8888888888888888,
              "#fdca26"
             ],
             [
              1,
              "#f0f921"
             ]
            ],
            "type": "heatmapgl"
           }
          ],
          "histogram": [
           {
            "marker": {
             "colorbar": {
              "outlinewidth": 0,
              "ticks": ""
             }
            },
            "type": "histogram"
           }
          ],
          "histogram2d": [
           {
            "colorbar": {
             "outlinewidth": 0,
             "ticks": ""
            },
            "colorscale": [
             [
              0,
              "#0d0887"
             ],
             [
              0.1111111111111111,
              "#46039f"
             ],
             [
              0.2222222222222222,
              "#7201a8"
             ],
             [
              0.3333333333333333,
              "#9c179e"
             ],
             [
              0.4444444444444444,
              "#bd3786"
             ],
             [
              0.5555555555555556,
              "#d8576b"
             ],
             [
              0.6666666666666666,
              "#ed7953"
             ],
             [
              0.7777777777777778,
              "#fb9f3a"
             ],
             [
              0.8888888888888888,
              "#fdca26"
             ],
             [
              1,
              "#f0f921"
             ]
            ],
            "type": "histogram2d"
           }
          ],
          "histogram2dcontour": [
           {
            "colorbar": {
             "outlinewidth": 0,
             "ticks": ""
            },
            "colorscale": [
             [
              0,
              "#0d0887"
             ],
             [
              0.1111111111111111,
              "#46039f"
             ],
             [
              0.2222222222222222,
              "#7201a8"
             ],
             [
              0.3333333333333333,
              "#9c179e"
             ],
             [
              0.4444444444444444,
              "#bd3786"
             ],
             [
              0.5555555555555556,
              "#d8576b"
             ],
             [
              0.6666666666666666,
              "#ed7953"
             ],
             [
              0.7777777777777778,
              "#fb9f3a"
             ],
             [
              0.8888888888888888,
              "#fdca26"
             ],
             [
              1,
              "#f0f921"
             ]
            ],
            "type": "histogram2dcontour"
           }
          ],
          "mesh3d": [
           {
            "colorbar": {
             "outlinewidth": 0,
             "ticks": ""
            },
            "type": "mesh3d"
           }
          ],
          "parcoords": [
           {
            "line": {
             "colorbar": {
              "outlinewidth": 0,
              "ticks": ""
             }
            },
            "type": "parcoords"
           }
          ],
          "pie": [
           {
            "automargin": true,
            "type": "pie"
           }
          ],
          "scatter": [
           {
            "marker": {
             "colorbar": {
              "outlinewidth": 0,
              "ticks": ""
             }
            },
            "type": "scatter"
           }
          ],
          "scatter3d": [
           {
            "line": {
             "colorbar": {
              "outlinewidth": 0,
              "ticks": ""
             }
            },
            "marker": {
             "colorbar": {
              "outlinewidth": 0,
              "ticks": ""
             }
            },
            "type": "scatter3d"
           }
          ],
          "scattercarpet": [
           {
            "marker": {
             "colorbar": {
              "outlinewidth": 0,
              "ticks": ""
             }
            },
            "type": "scattercarpet"
           }
          ],
          "scattergeo": [
           {
            "marker": {
             "colorbar": {
              "outlinewidth": 0,
              "ticks": ""
             }
            },
            "type": "scattergeo"
           }
          ],
          "scattergl": [
           {
            "marker": {
             "colorbar": {
              "outlinewidth": 0,
              "ticks": ""
             }
            },
            "type": "scattergl"
           }
          ],
          "scattermapbox": [
           {
            "marker": {
             "colorbar": {
              "outlinewidth": 0,
              "ticks": ""
             }
            },
            "type": "scattermapbox"
           }
          ],
          "scatterpolar": [
           {
            "marker": {
             "colorbar": {
              "outlinewidth": 0,
              "ticks": ""
             }
            },
            "type": "scatterpolar"
           }
          ],
          "scatterpolargl": [
           {
            "marker": {
             "colorbar": {
              "outlinewidth": 0,
              "ticks": ""
             }
            },
            "type": "scatterpolargl"
           }
          ],
          "scatterternary": [
           {
            "marker": {
             "colorbar": {
              "outlinewidth": 0,
              "ticks": ""
             }
            },
            "type": "scatterternary"
           }
          ],
          "surface": [
           {
            "colorbar": {
             "outlinewidth": 0,
             "ticks": ""
            },
            "colorscale": [
             [
              0,
              "#0d0887"
             ],
             [
              0.1111111111111111,
              "#46039f"
             ],
             [
              0.2222222222222222,
              "#7201a8"
             ],
             [
              0.3333333333333333,
              "#9c179e"
             ],
             [
              0.4444444444444444,
              "#bd3786"
             ],
             [
              0.5555555555555556,
              "#d8576b"
             ],
             [
              0.6666666666666666,
              "#ed7953"
             ],
             [
              0.7777777777777778,
              "#fb9f3a"
             ],
             [
              0.8888888888888888,
              "#fdca26"
             ],
             [
              1,
              "#f0f921"
             ]
            ],
            "type": "surface"
           }
          ],
          "table": [
           {
            "cells": {
             "fill": {
              "color": "#EBF0F8"
             },
             "line": {
              "color": "white"
             }
            },
            "header": {
             "fill": {
              "color": "#C8D4E3"
             },
             "line": {
              "color": "white"
             }
            },
            "type": "table"
           }
          ]
         },
         "layout": {
          "annotationdefaults": {
           "arrowcolor": "#2a3f5f",
           "arrowhead": 0,
           "arrowwidth": 1
          },
          "autotypenumbers": "strict",
          "coloraxis": {
           "colorbar": {
            "outlinewidth": 0,
            "ticks": ""
           }
          },
          "colorscale": {
           "diverging": [
            [
             0,
             "#8e0152"
            ],
            [
             0.1,
             "#c51b7d"
            ],
            [
             0.2,
             "#de77ae"
            ],
            [
             0.3,
             "#f1b6da"
            ],
            [
             0.4,
             "#fde0ef"
            ],
            [
             0.5,
             "#f7f7f7"
            ],
            [
             0.6,
             "#e6f5d0"
            ],
            [
             0.7,
             "#b8e186"
            ],
            [
             0.8,
             "#7fbc41"
            ],
            [
             0.9,
             "#4d9221"
            ],
            [
             1,
             "#276419"
            ]
           ],
           "sequential": [
            [
             0,
             "#0d0887"
            ],
            [
             0.1111111111111111,
             "#46039f"
            ],
            [
             0.2222222222222222,
             "#7201a8"
            ],
            [
             0.3333333333333333,
             "#9c179e"
            ],
            [
             0.4444444444444444,
             "#bd3786"
            ],
            [
             0.5555555555555556,
             "#d8576b"
            ],
            [
             0.6666666666666666,
             "#ed7953"
            ],
            [
             0.7777777777777778,
             "#fb9f3a"
            ],
            [
             0.8888888888888888,
             "#fdca26"
            ],
            [
             1,
             "#f0f921"
            ]
           ],
           "sequentialminus": [
            [
             0,
             "#0d0887"
            ],
            [
             0.1111111111111111,
             "#46039f"
            ],
            [
             0.2222222222222222,
             "#7201a8"
            ],
            [
             0.3333333333333333,
             "#9c179e"
            ],
            [
             0.4444444444444444,
             "#bd3786"
            ],
            [
             0.5555555555555556,
             "#d8576b"
            ],
            [
             0.6666666666666666,
             "#ed7953"
            ],
            [
             0.7777777777777778,
             "#fb9f3a"
            ],
            [
             0.8888888888888888,
             "#fdca26"
            ],
            [
             1,
             "#f0f921"
            ]
           ]
          },
          "colorway": [
           "#636efa",
           "#EF553B",
           "#00cc96",
           "#ab63fa",
           "#FFA15A",
           "#19d3f3",
           "#FF6692",
           "#B6E880",
           "#FF97FF",
           "#FECB52"
          ],
          "font": {
           "color": "#2a3f5f"
          },
          "geo": {
           "bgcolor": "white",
           "lakecolor": "white",
           "landcolor": "#E5ECF6",
           "showlakes": true,
           "showland": true,
           "subunitcolor": "white"
          },
          "hoverlabel": {
           "align": "left"
          },
          "hovermode": "closest",
          "mapbox": {
           "style": "light"
          },
          "paper_bgcolor": "white",
          "plot_bgcolor": "#E5ECF6",
          "polar": {
           "angularaxis": {
            "gridcolor": "white",
            "linecolor": "white",
            "ticks": ""
           },
           "bgcolor": "#E5ECF6",
           "radialaxis": {
            "gridcolor": "white",
            "linecolor": "white",
            "ticks": ""
           }
          },
          "scene": {
           "xaxis": {
            "backgroundcolor": "#E5ECF6",
            "gridcolor": "white",
            "gridwidth": 2,
            "linecolor": "white",
            "showbackground": true,
            "ticks": "",
            "zerolinecolor": "white"
           },
           "yaxis": {
            "backgroundcolor": "#E5ECF6",
            "gridcolor": "white",
            "gridwidth": 2,
            "linecolor": "white",
            "showbackground": true,
            "ticks": "",
            "zerolinecolor": "white"
           },
           "zaxis": {
            "backgroundcolor": "#E5ECF6",
            "gridcolor": "white",
            "gridwidth": 2,
            "linecolor": "white",
            "showbackground": true,
            "ticks": "",
            "zerolinecolor": "white"
           }
          },
          "shapedefaults": {
           "line": {
            "color": "#2a3f5f"
           }
          },
          "ternary": {
           "aaxis": {
            "gridcolor": "white",
            "linecolor": "white",
            "ticks": ""
           },
           "baxis": {
            "gridcolor": "white",
            "linecolor": "white",
            "ticks": ""
           },
           "bgcolor": "#E5ECF6",
           "caxis": {
            "gridcolor": "white",
            "linecolor": "white",
            "ticks": ""
           }
          },
          "title": {
           "x": 0.05
          },
          "xaxis": {
           "automargin": true,
           "gridcolor": "white",
           "linecolor": "white",
           "ticks": "",
           "title": {
            "standoff": 15
           },
           "zerolinecolor": "white",
           "zerolinewidth": 2
          },
          "yaxis": {
           "automargin": true,
           "gridcolor": "white",
           "linecolor": "white",
           "ticks": "",
           "title": {
            "standoff": 15
           },
           "zerolinecolor": "white",
           "zerolinewidth": 2
          }
         }
        },
        "title": {
         "text": "Manually Set Date Range"
        },
        "xaxis": {
         "anchor": "y",
         "domain": [
          0,
          1
         ],
         "range": [
          "2001-01-01",
          "2020-01-01"
         ],
         "title": {
          "text": "date"
         }
        },
        "yaxis": {
         "anchor": "x",
         "domain": [
          0,
          1
         ],
         "title": {
          "text": "Libertador_Gral__Bernardo_O_Higgins"
         }
        }
       }
      },
      "text/html": [
       "<div>                            <div id=\"32c610aa-2745-4301-a539-91f5763ce52b\" class=\"plotly-graph-div\" style=\"height:525px; width:100%;\"></div>            <script type=\"text/javascript\">                require([\"plotly\"], function(Plotly) {                    window.PLOTLYENV=window.PLOTLYENV || {};                                    if (document.getElementById(\"32c610aa-2745-4301-a539-91f5763ce52b\")) {                    Plotly.newPlot(                        \"32c610aa-2745-4301-a539-91f5763ce52b\",                        [{\"hovertemplate\": \"date=%{x}<br>Libertador_Gral__Bernardo_O_Higgins=%{y}<extra></extra>\", \"legendgroup\": \"\", \"line\": {\"color\": \"#636efa\", \"dash\": \"solid\"}, \"mode\": \"lines\", \"name\": \"\", \"orientation\": \"v\", \"showlegend\": false, \"type\": \"scatter\", \"x\": [\"1989-02-01\", \"1998-10-01\", \"2001-02-01\", \"2008-11-01\", \"2009-04-01\", \"2015-01-01\", \"2016-03-01\", \"2020-03-01\", \"1988-12-01\", \"2015-12-01\", \"2009-09-01\", \"2003-01-01\", \"1989-03-01\", \"2000-11-01\", \"2008-03-01\", \"2000-01-01\", \"2006-08-01\", \"1989-07-01\", \"1984-12-01\", \"2001-04-01\", \"1997-04-01\", \"1997-03-01\", \"1982-12-01\", \"1998-12-01\", \"2007-10-01\", \"1996-06-01\", \"2015-03-01\", \"1992-08-01\", \"1998-01-01\", \"2006-03-01\", \"1985-03-01\", \"2011-09-01\", \"1983-01-01\", \"2010-03-01\", \"1979-10-01\", \"2005-08-01\", \"1999-04-01\", \"1986-11-01\", \"2020-01-01\", \"2008-01-01\", \"2003-04-01\", \"2016-01-01\", \"2008-12-01\", \"2002-06-01\", \"2003-12-01\", \"1994-03-01\", \"2011-12-01\", \"2001-11-01\", \"2016-11-01\", \"1984-10-01\", \"2013-05-01\", \"2018-11-01\", \"2002-04-01\", \"1999-01-01\", \"2019-05-01\", \"1990-04-01\", \"2012-03-01\", \"1982-06-01\", \"2003-08-01\", \"1995-07-01\", \"1999-06-01\", \"1989-08-01\", \"1990-06-01\", \"2018-02-01\", \"2000-10-01\", \"2005-02-01\", \"2005-12-01\", \"1985-11-01\", \"2015-07-01\", \"2001-06-01\", \"1993-09-01\", \"2017-04-01\", \"2008-10-01\", \"2017-02-01\", \"1996-09-01\", \"2009-12-01\", \"1992-02-01\", \"2013-11-01\", \"1995-03-01\", \"2007-12-01\", \"2007-02-01\", \"1993-12-01\", \"1990-10-01\", \"1999-09-01\", \"2004-04-01\", \"2000-06-01\", \"2006-07-01\", \"1979-11-01\", \"2006-01-01\", \"2001-09-01\", \"1997-07-01\", \"2019-04-01\", \"2013-09-01\", \"2006-02-01\", \"1988-05-01\", \"2008-07-01\", \"2002-03-01\", \"2011-01-01\", \"1992-04-01\", \"2010-09-01\", \"1992-11-01\", \"1999-07-01\", \"1982-03-01\", \"2009-07-01\", \"2001-08-01\", \"2004-07-01\", \"1996-10-01\", \"2019-01-01\", \"1994-02-01\", \"1990-12-01\", \"2008-08-01\", \"2019-11-01\", \"1991-09-01\", \"2003-10-01\", \"2004-08-01\", \"2013-12-01\", \"2017-01-01\", \"2017-05-01\", \"1995-11-01\", \"1980-05-01\", \"1988-07-01\", \"2019-03-01\", \"1993-03-01\", \"2005-10-01\", \"1991-07-01\", \"2014-07-01\", \"2018-01-01\", \"1985-10-01\", \"1991-08-01\", \"1980-11-01\", \"1983-12-01\", \"1981-02-01\", \"1981-04-01\", \"1982-01-01\", \"1996-04-01\", \"1997-01-01\", \"2004-09-01\", \"2012-01-01\", \"1994-04-01\", \"2012-12-01\", \"1983-11-01\", \"1980-12-01\", \"2000-12-01\", \"1997-02-01\", \"2020-04-01\", \"2001-07-01\", \"2010-05-01\", \"2005-09-01\", \"1989-10-01\", \"2010-06-01\", \"2016-07-01\", \"1996-11-01\", \"1985-12-01\", \"1986-03-01\", \"1989-04-01\", \"2018-04-01\", \"2018-09-01\", \"2017-08-01\", \"2009-05-01\", \"2016-05-01\", \"2004-01-01\", \"2017-12-01\", \"2014-05-01\", \"2010-10-01\", \"1983-08-01\", \"1983-10-01\", \"2020-02-01\", \"2016-08-01\", \"2009-03-01\", \"1990-11-01\", \"1979-01-01\", \"2004-06-01\", \"1998-03-01\", \"1994-06-01\", \"1995-10-01\", \"1982-07-01\", \"1998-11-01\", \"2014-03-01\", \"1988-01-01\", \"1997-08-01\", \"1984-02-01\", \"2005-04-01\", \"1988-03-01\", \"2007-11-01\", \"1985-08-01\", \"1983-03-01\", \"1981-11-01\", \"1999-08-01\", \"2004-10-01\", \"1981-07-01\", \"2004-05-01\", \"2015-04-01\", \"1995-12-01\", \"1987-02-01\", \"1992-12-01\", \"1996-05-01\", \"1996-01-01\", \"1981-03-01\", \"2019-07-01\", \"2000-03-01\", \"1993-06-01\", \"2000-05-01\", \"2003-05-01\", \"1984-03-01\", \"2014-12-01\", \"1983-02-01\", \"2010-01-01\", \"2017-03-01\", \"1990-05-01\", \"2008-09-01\", \"2009-08-01\", \"1986-04-01\", \"1995-01-01\", \"1995-06-01\", \"2001-10-01\", \"2012-02-01\", \"2005-07-01\", \"1979-05-01\", \"2005-03-01\", \"2007-06-01\", \"1986-08-01\", \"1992-07-01\", \"1999-03-01\", \"1997-10-01\", \"2012-04-01\", \"2018-12-01\", \"2012-05-01\", \"2012-09-01\", \"2007-08-01\", \"1984-04-01\", \"2018-08-01\", \"1992-01-01\", \"1993-07-01\", \"2017-09-01\", \"1993-10-01\", \"1992-10-01\", \"1982-05-01\", \"2013-03-01\", \"1986-10-01\", \"1994-10-01\", \"1991-12-01\", \"1980-03-01\", \"2013-06-01\", \"1989-01-01\", \"2008-02-01\", \"2014-02-01\", \"1987-06-01\", \"1984-08-01\", \"1995-02-01\", \"1990-01-01\", \"1980-04-01\", \"2000-09-01\", \"2004-03-01\", \"2005-05-01\", \"2001-05-01\", \"2015-05-01\", \"1981-10-01\", \"1990-09-01\", \"2010-02-01\", \"2013-07-01\", \"1981-09-01\", \"2009-10-01\", \"1985-06-01\", \"1993-08-01\", \"1991-06-01\", \"2007-01-01\", \"1994-05-01\", \"1994-12-01\", \"1987-07-01\", \"2003-09-01\", \"2013-04-01\", \"1993-01-01\", \"1979-07-01\", \"1979-08-01\", \"2000-07-01\", \"1992-09-01\", \"2016-02-01\", \"1989-12-01\", \"2009-06-01\", \"2010-08-01\", \"1991-04-01\", \"2014-09-01\", \"1980-08-01\", \"1990-08-01\", \"2018-10-01\", \"1981-01-01\", \"1982-08-01\", \"1985-09-01\", \"1990-03-01\", \"1992-05-01\", \"1983-05-01\", \"1984-11-01\", \"1993-04-01\", \"2010-04-01\", \"2015-02-01\", \"1999-10-01\", \"1979-09-01\", \"2019-02-01\", \"1994-07-01\", \"2001-12-01\", \"1996-08-01\", \"1988-02-01\", \"2012-08-01\", \"2009-01-01\", \"1998-09-01\", \"1979-03-01\", \"2011-06-01\", \"1985-04-01\", \"2014-10-01\", \"2005-06-01\", \"1980-10-01\", \"2004-11-01\", \"1998-05-01\", \"1982-02-01\", \"2014-08-01\", \"2008-04-01\", \"1991-02-01\", \"2007-04-01\", \"1996-03-01\", \"1984-05-01\", \"2017-10-01\", \"1998-07-01\", \"1979-06-01\", \"1991-01-01\", \"2006-09-01\", \"2007-07-01\", \"2002-07-01\", \"2002-08-01\", \"1982-10-01\", \"1985-01-01\", \"2006-05-01\", \"1995-05-01\", \"1987-08-01\", \"1993-02-01\", \"2011-04-01\", \"2007-05-01\", \"1989-06-01\", \"2006-06-01\", \"2012-06-01\", \"1988-09-01\", \"1986-09-01\", \"1994-11-01\", \"1980-09-01\", \"1982-11-01\", \"2014-06-01\", \"2017-11-01\", \"1986-07-01\", \"1987-03-01\", \"2016-04-01\", \"1983-06-01\", \"1996-07-01\", \"2010-12-01\", \"1988-06-01\", \"1993-11-01\", \"1980-07-01\", \"1989-11-01\", \"1981-06-01\", \"2006-10-01\", \"1982-09-01\", \"2013-10-01\", \"1981-12-01\", \"1984-07-01\", \"1980-06-01\", \"1997-12-01\", \"2000-02-01\", \"2007-03-01\", \"1986-02-01\", \"2015-08-01\", \"1992-03-01\", \"1985-05-01\", \"2002-05-01\", \"1997-11-01\", \"2016-06-01\", \"2016-10-01\", \"2009-11-01\", \"1980-01-01\", \"1988-04-01\", \"1998-06-01\", \"2012-07-01\", \"2006-12-01\", \"2013-01-01\", \"2001-03-01\", \"2018-05-01\", \"2005-11-01\", \"2010-11-01\", \"2018-07-01\", \"1986-05-01\", \"1991-11-01\", \"2003-11-01\", \"2002-12-01\", \"2003-03-01\", \"1996-12-01\", \"1999-12-01\", \"1984-09-01\", \"1994-08-01\", \"1993-05-01\", \"2012-11-01\", \"1980-02-01\", \"1992-06-01\", \"2008-06-01\", \"1988-11-01\", \"2014-11-01\", \"1983-09-01\", \"2002-01-01\", \"1986-06-01\", \"1999-11-01\", \"2017-07-01\", \"1989-09-01\", \"1979-12-01\", \"2011-05-01\", \"2019-12-01\", \"1999-02-01\", \"2019-10-01\", \"1984-01-01\", \"1985-07-01\", \"1990-02-01\", \"2001-01-01\", \"1998-08-01\", \"2016-12-01\", \"1986-12-01\", \"1988-08-01\", \"1989-05-01\", \"2014-04-01\", \"1981-05-01\", \"2002-09-01\", \"1999-05-01\", \"1995-09-01\", \"1987-11-01\", \"1994-09-01\", \"1984-06-01\", \"1985-02-01\", \"1981-08-01\", \"2002-02-01\", \"1997-09-01\", \"2006-04-01\", \"1990-07-01\", \"2000-08-01\", \"2011-10-01\", \"1991-03-01\", \"1998-02-01\", \"2002-11-01\", \"1979-04-01\", \"2011-11-01\", \"1987-10-01\", \"1997-06-01\", \"1986-01-01\", \"1987-01-01\", \"1983-07-01\", \"2007-09-01\", \"2008-05-01\", \"2003-06-01\", \"1997-05-01\", \"2010-07-01\", \"2012-10-01\", \"2019-09-01\", \"1995-04-01\", \"1987-12-01\", \"2002-10-01\", \"2004-02-01\", \"2014-01-01\", \"2015-11-01\", \"1991-05-01\", \"2006-11-01\", \"2000-04-01\", \"1994-01-01\", \"1979-02-01\", \"1995-08-01\", \"2003-02-01\", \"2009-02-01\", \"2013-02-01\", \"2011-02-01\", \"1987-05-01\", \"2011-08-01\", \"2017-06-01\", \"1996-02-01\", \"2013-08-01\", \"1983-04-01\", \"1987-04-01\", \"2011-07-01\", \"2018-06-01\", \"2003-07-01\", \"2015-09-01\", \"2005-01-01\", \"1987-09-01\", \"2015-10-01\", \"2019-06-01\", \"2004-12-01\", \"1998-04-01\", \"1991-10-01\", \"2011-03-01\", \"2018-03-01\", \"1988-10-01\", \"2019-08-01\", \"2015-06-01\", \"2016-09-01\", \"1982-04-01\"], \"xaxis\": \"x\", \"y\": [0.0, 0.0, 0.0, 0.0, 0.0, 0.0, 0.0, 0.0, 1.35336434706295, 0.410341083079345, 123.31043393038999, 36.6756123661071, 4.73079069407527, 39.3993178728015, 17.0795503950858, 0.0854108526378639, 150.059844929303, 179.701565575415, 0.11134883908973599, 47.6907595996709, 64.28440311195311, 15.4206511887469, 4.2358604660012205, 4.03051162962766, 3.7863100656532, 126.425116215196, 6.081255806416499, 150.273131851078, 0.00235658921012583, 0.625457364251447, 20.0996589165325, 21.0063255647356, 6.07404651922253, 0.0530542632290559, 14.5570077502912, 321.506883913972, 16.072790698487598, 42.74995351540029, 6.1542790697674405, 0.0597209301625573, 2.83716279018757, 12.815767415734198, 0.923906977786574, 222.80900734598302, 5.91406201139786, 9.012759690610471, 0.0204186047059159, 8.00440308661886, 6.39207751479491, 52.544341047420104, 185.615612733826, 21.831472857238698, 25.9549147383187, 2.32987596557815, 91.0927131475404, 30.3546977139259, 0.0110697673734768, 615.003363841449, 21.8320464984391, 245.9079534368, 179.73452703195, 263.945876436455, 24.246310057566102, 4.835333343208299, 13.497891451430002, 0.00305426351783812, 2.2497519390181098, 15.173519406254, 203.59730254180698, 57.106263552525206, 25.212837244096697, 54.9472402971844, 8.35657363330671, 14.810279091846098, 10.3731627910434, 0.0253643409399561, 15.6117984587832, 2.22537984575412, 0.591767440233813, 2.00235658543285, 30.522372171121003, 27.2973953616712, 25.872759719966897, 194.295457541296, 104.97275951888201, 645.515751612464, 364.78607743137604, 68.4668216779251, 0.45316279203912496, 23.57817055717, 122.32141099086999, 7.04727132077827, 45.0719689420951, 7.0805271339971, 23.3588992683, 131.103333536784, 29.376992308446603, 6.43705427303852, 83.56336441927179, 22.735705441294304, 27.4005581168241, 55.1709921223249, 24.9510077587394, 75.04586062172591, 191.928759777454, 178.213178412859, 22.1232868582703, 4.79491472576073, 1.16283721051128, 13.6236279234059, 243.503612275826, 4.30713179624358, 110.55415518708901, 16.648930241710502, 93.26164327813672, 1.42378294762484, 1.12601550439474, 156.639922575248, 2.91130231997763, 274.686837957811, 132.75331771613997, 3.2850697710763597, 0.000558139557062193, 31.016883706676897, 226.575922494341, 112.247054225715, 1.59302325877975, 79.6457518703254, 26.637178316781696, 16.8508216984512, 0.68936434184858, 3.61172092481004, 61.075596875922606, 0.7574418597934091, 38.467333358942106, 3.07055812897377, 95.75697676192881, 4.68705425684362, 86.96744208520701, 88.8579379946686, 0.594403102647426, 9.52643412078998, 0.17567441820694, 3.35452712857446, 19.795751937984498, 459.34776784024496, 70.85576743192449, 48.9373022626537, 17.0383100912552, 207.66324020503998, 213.601643265125, 7.4302790905154, 0.25618604330360395, 5.415581391948139, 15.1180464717769, 24.4216589521068, 110.891984558105, 166.62404627837, 90.8710234087567, 100.714759862146, 3.8472558120539904, 6.81803100959275, 134.375286522207, 30.9545891591745, 141.555224928745, 9.62713178460912, 0.0176279069767438, 35.6973178950853, 0.13254263558129, 16.868542603559302, 1.6089922492673898, 115.460449408006, 1.6146046491960702, 157.23341085153, 31.8725270966227, 283.408837287371, 0.047596899079260006, 15.025209344819501, 0.287953486507253, 207.316340838292, 0.338139533185104, 14.900387606140301, 22.832434087206202, 8.61733334009037, 10.621100800444, 2.0028061988395303, 7.82683721757674, 179.001379926815, 39.144666688017104, 87.53744191605921, 36.537860503677294, 6.038031004819761, 1.3619379795105901, 5.129224794098111, 0.545085269463963, 31.6376123857129, 2.9279069695072995, 3.2067286870738303, 37.600418618668, 0.0493333335532699, 278.805860747108, 37.2153023461039, 126.049193697197, 24.961581378389695, 10.908620161418801, 4.520077516268509, 0.166728682512807, 11.853612389352, 61.828093033428296, 23.0118759177452, 182.32671334909801, 127.274666613202, 0.583596894500214, 246.924697627578, 10.692914726487, 8.05203099368617, 128.679798386448, 104.451550287054, 20.714015457242, 155.661162726824, 185.69327170201998, 67.9503567215084, 13.4695658824241, 152.13441855260598, 29.8259069827176, 4.59040310265309, 160.620527270413, 4.876403095544309, 93.6942169071168, 22.212248048116997, 47.779007780089906, 0.00967441852702651, 109.109550529303, 58.35031007574511, 25.816496119388297, 9.64294572333957, 269.117674645712, 1.39412403876005, 25.4003720148243, 24.066682193815197, 72.62257362779721, 0.65826356327811, 91.17088374056559, 1.13669767172993, 2.9197829437175, 7.295178298057281, 72.9969613097435, 116.855860575595, 2.24482170753759, 4.985767448413401, 312.417581578927, 247.16418616716302, 50.2859845065331, 298.822232789032, 204.77874431758, 10.4554573726284, 15.581193819711402, 106.972372105325, 0.13168992280613498, 81.7925580904465, 44.7134573781213, 39.860387482754, 101.34336425426399, 40.4695969071499, 254.162666734799, 0.6285736442940639, 118.014325654969, 16.2335969370465, 580.155519234118, 76.977906994487, 3.5774883606637204, 6.04756589345345, 301.256558251196, 200.21038749753998, 58.596186092288, 59.218465062814204, 0.00668217060120069, 9.15894574319669, 200.523876054158, 36.441162834241396, 95.74226352780359, 121.37781368521799, 41.4363100155379, 89.6844029862751, 73.20984483467521, 4.60902325076939, 199.31516259954898, 78.5953644124112, 59.1348837475444, 373.55727099041604, 121.873658906212, 21.4929146788841, 132.053224915497, 6.73609303069669, 1.28812402974265, 27.8003720963648, 156.477457280122, 0.48922480986157596, 267.445875537488, 0.564992248157198, 149.087240293044, 0.556170544377709, 108.01037216777901, 1.36365891185611, 57.6328526371209, 0.0554883720338807, 143.22719363427, 29.1007442001224, 10.7474883784619, 418.606635373138, 3.5501550443181698, 60.66764334449471, 88.8923874374508, 2.45446511761163, 113.3990234375, 56.9524650810301, 2.62747286674819, 18.476542670932396, 3.3399534955101, 283.928325564362, 62.832868147266, 0.0129767440548239, 7.37855816338529, 6.114511642232539, 53.40099232843679, 173.646480578046, 162.913255925142, 346.471612312258, 89.45860468250841, 7.46209301361742, 97.82624786140379, 28.1420000407585, 334.114124836293, 3.48857364147439, 85.7662946242695, 39.3210542161335, 91.17899219010229, 248.16336458191398, 271.111008033457, 36.2806356208269, 26.1767131365547, 2.17564340312352, 94.13085283382921, 5.897829446404481, 186.488790822584, 30.157860447639603, 36.319922484908, 20.848558137583197, 257.698635556716, 212.603783138778, 64.13336424125261, 8.05702326514924, 90.296697681634, 20.2715813710708, 217.40021708880298, 4.33407751589782, 72.5399688898131, 92.6875968873963, 301.841751749201, 12.7633333244065, 0.44150387982065403, 491.21671336565805, 176.57474397171399, 6.549131808863129, 37.463519295980795, 23.940108556525697, 6.44471317321466, 246.857612148551, 11.992527131863302, 139.926077625363, 314.316511665758, 37.1877674738566, 56.91961243503779, 70.6118604379107, 13.7426821710527, 1.4038914724578, 10.6585426373075, 67.64621705639271, 21.9488837020342, 4.2804031086522505, 6.64505426047384, 15.736961259398301, 68.4101860253386, 31.757627915966395, 33.2630387949389, 125.21827912441499, 340.246403113077, 15.7679690139238, 56.9306977087213, 3.63361240503227, 0.029147286799757997, 10.461302338644499, 3.65531781838499, 144.462527371192, 16.2365736248419, 254.392356529532, 18.2185116403787, 26.037023230855798, 356.282946493459, 143.816759609252, 15.4885426336481, 27.0848682551421, 72.7093798881353, 2.19220155671585, 389.64088331118995, 2.35265116329456, 91.16651144101641, 46.087798494146796, 52.6017209888429, 15.5171007243238, 6.19880621077478, 6.32167442717351, 13.204651154658599, 0.5933798437172819, 183.93581410489298, 2.3557209234857996, 6.13496124311242, 4.8548837282803206, 14.030620133322302, 6.09058915198485, 206.61187618758302, 47.233612484895, 17.5495658452081, 451.954588992097, 99.02437204464458, 57.06595356076261, 36.971906968050206, 1.9617829446182702, 58.5512712729994, 176.884620004107, 0.138496122858668, 122.11651165392999, 3.80787597491529, 191.391395497877, 44.8035038733667, 102.938790668813, 28.8256589007932, 14.127441851529, 0.202263565257538, 16.8261085199755, 8.068775182061419, 12.989193791382101, 13.891612381343698, 75.2540619073912, 489.97463620208, 1.14034109053801, 0.0200465115408103, 215.06517850890597, 4.96187597469882, 342.108635741241, 189.367534797136, 187.48931783040402, 119.812914642807, 93.27382949119391, 42.6625581778297, 113.72798440031299, 7.18189150658689, 50.730883726962794, 1.60072867636995, 4.80475968850213, 24.1928837473078, 269.595349109265, 3.6415038875022594, 28.465286781251898, 0.12089922500326701, 4.346310070711509, 98.7452556580536, 0.0943410854757756, 3.72396899346233, 12.139348813117499, 8.183968995095691, 125.562527039994, 169.480868352846, 210.423225047976, 0.453224809173235, 79.5940775730813, 33.3325581114422, 21.272000007758802, 101.520526986529, 111.368930148339, 106.27998440764699, 118.26671322963001, 14.4322015334469, 87.04893017850179, 117.399147311662, 139.83382962249, 13.841410813960001, 73.3631627193717, 52.3535502618597, 21.8324031290158, 17.9000465452209, 8.260992241055929, 9.90080620304559, 33.1526356809823, 3.0909612439630596, 16.8917518974275], \"yaxis\": \"y\"}],                        {\"legend\": {\"tracegroupgap\": 0}, \"margin\": {\"t\": 60}, \"template\": {\"data\": {\"bar\": [{\"error_x\": {\"color\": \"#2a3f5f\"}, \"error_y\": {\"color\": \"#2a3f5f\"}, \"marker\": {\"line\": {\"color\": \"#E5ECF6\", \"width\": 0.5}}, \"type\": \"bar\"}], \"barpolar\": [{\"marker\": {\"line\": {\"color\": \"#E5ECF6\", \"width\": 0.5}}, \"type\": \"barpolar\"}], \"carpet\": [{\"aaxis\": {\"endlinecolor\": \"#2a3f5f\", \"gridcolor\": \"white\", \"linecolor\": \"white\", \"minorgridcolor\": \"white\", \"startlinecolor\": \"#2a3f5f\"}, \"baxis\": {\"endlinecolor\": \"#2a3f5f\", \"gridcolor\": \"white\", \"linecolor\": \"white\", \"minorgridcolor\": \"white\", \"startlinecolor\": \"#2a3f5f\"}, \"type\": \"carpet\"}], \"choropleth\": [{\"colorbar\": {\"outlinewidth\": 0, \"ticks\": \"\"}, \"type\": \"choropleth\"}], \"contour\": [{\"colorbar\": {\"outlinewidth\": 0, \"ticks\": \"\"}, \"colorscale\": [[0.0, \"#0d0887\"], [0.1111111111111111, \"#46039f\"], [0.2222222222222222, \"#7201a8\"], [0.3333333333333333, \"#9c179e\"], [0.4444444444444444, \"#bd3786\"], [0.5555555555555556, \"#d8576b\"], [0.6666666666666666, \"#ed7953\"], [0.7777777777777778, \"#fb9f3a\"], [0.8888888888888888, \"#fdca26\"], [1.0, \"#f0f921\"]], \"type\": \"contour\"}], \"contourcarpet\": [{\"colorbar\": {\"outlinewidth\": 0, \"ticks\": \"\"}, \"type\": \"contourcarpet\"}], \"heatmap\": [{\"colorbar\": {\"outlinewidth\": 0, \"ticks\": \"\"}, \"colorscale\": [[0.0, \"#0d0887\"], [0.1111111111111111, \"#46039f\"], [0.2222222222222222, \"#7201a8\"], [0.3333333333333333, \"#9c179e\"], [0.4444444444444444, \"#bd3786\"], [0.5555555555555556, \"#d8576b\"], [0.6666666666666666, \"#ed7953\"], [0.7777777777777778, \"#fb9f3a\"], [0.8888888888888888, \"#fdca26\"], [1.0, \"#f0f921\"]], \"type\": \"heatmap\"}], \"heatmapgl\": [{\"colorbar\": {\"outlinewidth\": 0, \"ticks\": \"\"}, \"colorscale\": [[0.0, \"#0d0887\"], [0.1111111111111111, \"#46039f\"], [0.2222222222222222, \"#7201a8\"], [0.3333333333333333, \"#9c179e\"], [0.4444444444444444, \"#bd3786\"], [0.5555555555555556, \"#d8576b\"], [0.6666666666666666, \"#ed7953\"], [0.7777777777777778, \"#fb9f3a\"], [0.8888888888888888, \"#fdca26\"], [1.0, \"#f0f921\"]], \"type\": \"heatmapgl\"}], \"histogram\": [{\"marker\": {\"colorbar\": {\"outlinewidth\": 0, \"ticks\": \"\"}}, \"type\": \"histogram\"}], \"histogram2d\": [{\"colorbar\": {\"outlinewidth\": 0, \"ticks\": \"\"}, \"colorscale\": [[0.0, \"#0d0887\"], [0.1111111111111111, \"#46039f\"], [0.2222222222222222, \"#7201a8\"], [0.3333333333333333, \"#9c179e\"], [0.4444444444444444, \"#bd3786\"], [0.5555555555555556, \"#d8576b\"], [0.6666666666666666, \"#ed7953\"], [0.7777777777777778, \"#fb9f3a\"], [0.8888888888888888, \"#fdca26\"], [1.0, \"#f0f921\"]], \"type\": \"histogram2d\"}], \"histogram2dcontour\": [{\"colorbar\": {\"outlinewidth\": 0, \"ticks\": \"\"}, \"colorscale\": [[0.0, \"#0d0887\"], [0.1111111111111111, \"#46039f\"], [0.2222222222222222, \"#7201a8\"], [0.3333333333333333, \"#9c179e\"], [0.4444444444444444, \"#bd3786\"], [0.5555555555555556, \"#d8576b\"], [0.6666666666666666, \"#ed7953\"], [0.7777777777777778, \"#fb9f3a\"], [0.8888888888888888, \"#fdca26\"], [1.0, \"#f0f921\"]], \"type\": \"histogram2dcontour\"}], \"mesh3d\": [{\"colorbar\": {\"outlinewidth\": 0, \"ticks\": \"\"}, \"type\": \"mesh3d\"}], \"parcoords\": [{\"line\": {\"colorbar\": {\"outlinewidth\": 0, \"ticks\": \"\"}}, \"type\": \"parcoords\"}], \"pie\": [{\"automargin\": true, \"type\": \"pie\"}], \"scatter\": [{\"marker\": {\"colorbar\": {\"outlinewidth\": 0, \"ticks\": \"\"}}, \"type\": \"scatter\"}], \"scatter3d\": [{\"line\": {\"colorbar\": {\"outlinewidth\": 0, \"ticks\": \"\"}}, \"marker\": {\"colorbar\": {\"outlinewidth\": 0, \"ticks\": \"\"}}, \"type\": \"scatter3d\"}], \"scattercarpet\": [{\"marker\": {\"colorbar\": {\"outlinewidth\": 0, \"ticks\": \"\"}}, \"type\": \"scattercarpet\"}], \"scattergeo\": [{\"marker\": {\"colorbar\": {\"outlinewidth\": 0, \"ticks\": \"\"}}, \"type\": \"scattergeo\"}], \"scattergl\": [{\"marker\": {\"colorbar\": {\"outlinewidth\": 0, \"ticks\": \"\"}}, \"type\": \"scattergl\"}], \"scattermapbox\": [{\"marker\": {\"colorbar\": {\"outlinewidth\": 0, \"ticks\": \"\"}}, \"type\": \"scattermapbox\"}], \"scatterpolar\": [{\"marker\": {\"colorbar\": {\"outlinewidth\": 0, \"ticks\": \"\"}}, \"type\": \"scatterpolar\"}], \"scatterpolargl\": [{\"marker\": {\"colorbar\": {\"outlinewidth\": 0, \"ticks\": \"\"}}, \"type\": \"scatterpolargl\"}], \"scatterternary\": [{\"marker\": {\"colorbar\": {\"outlinewidth\": 0, \"ticks\": \"\"}}, \"type\": \"scatterternary\"}], \"surface\": [{\"colorbar\": {\"outlinewidth\": 0, \"ticks\": \"\"}, \"colorscale\": [[0.0, \"#0d0887\"], [0.1111111111111111, \"#46039f\"], [0.2222222222222222, \"#7201a8\"], [0.3333333333333333, \"#9c179e\"], [0.4444444444444444, \"#bd3786\"], [0.5555555555555556, \"#d8576b\"], [0.6666666666666666, \"#ed7953\"], [0.7777777777777778, \"#fb9f3a\"], [0.8888888888888888, \"#fdca26\"], [1.0, \"#f0f921\"]], \"type\": \"surface\"}], \"table\": [{\"cells\": {\"fill\": {\"color\": \"#EBF0F8\"}, \"line\": {\"color\": \"white\"}}, \"header\": {\"fill\": {\"color\": \"#C8D4E3\"}, \"line\": {\"color\": \"white\"}}, \"type\": \"table\"}]}, \"layout\": {\"annotationdefaults\": {\"arrowcolor\": \"#2a3f5f\", \"arrowhead\": 0, \"arrowwidth\": 1}, \"autotypenumbers\": \"strict\", \"coloraxis\": {\"colorbar\": {\"outlinewidth\": 0, \"ticks\": \"\"}}, \"colorscale\": {\"diverging\": [[0, \"#8e0152\"], [0.1, \"#c51b7d\"], [0.2, \"#de77ae\"], [0.3, \"#f1b6da\"], [0.4, \"#fde0ef\"], [0.5, \"#f7f7f7\"], [0.6, \"#e6f5d0\"], [0.7, \"#b8e186\"], [0.8, \"#7fbc41\"], [0.9, \"#4d9221\"], [1, \"#276419\"]], \"sequential\": [[0.0, \"#0d0887\"], [0.1111111111111111, \"#46039f\"], [0.2222222222222222, \"#7201a8\"], [0.3333333333333333, \"#9c179e\"], [0.4444444444444444, \"#bd3786\"], [0.5555555555555556, \"#d8576b\"], [0.6666666666666666, \"#ed7953\"], [0.7777777777777778, \"#fb9f3a\"], [0.8888888888888888, \"#fdca26\"], [1.0, \"#f0f921\"]], \"sequentialminus\": [[0.0, \"#0d0887\"], [0.1111111111111111, \"#46039f\"], [0.2222222222222222, \"#7201a8\"], [0.3333333333333333, \"#9c179e\"], [0.4444444444444444, \"#bd3786\"], [0.5555555555555556, \"#d8576b\"], [0.6666666666666666, \"#ed7953\"], [0.7777777777777778, \"#fb9f3a\"], [0.8888888888888888, \"#fdca26\"], [1.0, \"#f0f921\"]]}, \"colorway\": [\"#636efa\", \"#EF553B\", \"#00cc96\", \"#ab63fa\", \"#FFA15A\", \"#19d3f3\", \"#FF6692\", \"#B6E880\", \"#FF97FF\", \"#FECB52\"], \"font\": {\"color\": \"#2a3f5f\"}, \"geo\": {\"bgcolor\": \"white\", \"lakecolor\": \"white\", \"landcolor\": \"#E5ECF6\", \"showlakes\": true, \"showland\": true, \"subunitcolor\": \"white\"}, \"hoverlabel\": {\"align\": \"left\"}, \"hovermode\": \"closest\", \"mapbox\": {\"style\": \"light\"}, \"paper_bgcolor\": \"white\", \"plot_bgcolor\": \"#E5ECF6\", \"polar\": {\"angularaxis\": {\"gridcolor\": \"white\", \"linecolor\": \"white\", \"ticks\": \"\"}, \"bgcolor\": \"#E5ECF6\", \"radialaxis\": {\"gridcolor\": \"white\", \"linecolor\": \"white\", \"ticks\": \"\"}}, \"scene\": {\"xaxis\": {\"backgroundcolor\": \"#E5ECF6\", \"gridcolor\": \"white\", \"gridwidth\": 2, \"linecolor\": \"white\", \"showbackground\": true, \"ticks\": \"\", \"zerolinecolor\": \"white\"}, \"yaxis\": {\"backgroundcolor\": \"#E5ECF6\", \"gridcolor\": \"white\", \"gridwidth\": 2, \"linecolor\": \"white\", \"showbackground\": true, \"ticks\": \"\", \"zerolinecolor\": \"white\"}, \"zaxis\": {\"backgroundcolor\": \"#E5ECF6\", \"gridcolor\": \"white\", \"gridwidth\": 2, \"linecolor\": \"white\", \"showbackground\": true, \"ticks\": \"\", \"zerolinecolor\": \"white\"}}, \"shapedefaults\": {\"line\": {\"color\": \"#2a3f5f\"}}, \"ternary\": {\"aaxis\": {\"gridcolor\": \"white\", \"linecolor\": \"white\", \"ticks\": \"\"}, \"baxis\": {\"gridcolor\": \"white\", \"linecolor\": \"white\", \"ticks\": \"\"}, \"bgcolor\": \"#E5ECF6\", \"caxis\": {\"gridcolor\": \"white\", \"linecolor\": \"white\", \"ticks\": \"\"}}, \"title\": {\"x\": 0.05}, \"xaxis\": {\"automargin\": true, \"gridcolor\": \"white\", \"linecolor\": \"white\", \"ticks\": \"\", \"title\": {\"standoff\": 15}, \"zerolinecolor\": \"white\", \"zerolinewidth\": 2}, \"yaxis\": {\"automargin\": true, \"gridcolor\": \"white\", \"linecolor\": \"white\", \"ticks\": \"\", \"title\": {\"standoff\": 15}, \"zerolinecolor\": \"white\", \"zerolinewidth\": 2}}}, \"title\": {\"text\": \"Manually Set Date Range\"}, \"xaxis\": {\"anchor\": \"y\", \"domain\": [0.0, 1.0], \"range\": [\"2001-01-01\", \"2020-01-01\"], \"title\": {\"text\": \"date\"}}, \"yaxis\": {\"anchor\": \"x\", \"domain\": [0.0, 1.0], \"title\": {\"text\": \"Libertador_Gral__Bernardo_O_Higgins\"}}},                        {\"responsive\": true}                    ).then(function(){\n",
       "                            \n",
       "var gd = document.getElementById('32c610aa-2745-4301-a539-91f5763ce52b');\n",
       "var x = new MutationObserver(function (mutations, observer) {{\n",
       "        var display = window.getComputedStyle(gd).display;\n",
       "        if (!display || display === 'none') {{\n",
       "            console.log([gd, 'removed!']);\n",
       "            Plotly.purge(gd);\n",
       "            observer.disconnect();\n",
       "        }}\n",
       "}});\n",
       "\n",
       "// Listen for the removal of the full notebook cells\n",
       "var notebookContainer = gd.closest('#notebook-container');\n",
       "if (notebookContainer) {{\n",
       "    x.observe(notebookContainer, {childList: true});\n",
       "}}\n",
       "\n",
       "// Listen for the clearing of the current output cell\n",
       "var outputEl = gd.closest('.output');\n",
       "if (outputEl) {{\n",
       "    x.observe(outputEl, {childList: true});\n",
       "}}\n",
       "\n",
       "                        })                };                });            </script>        </div>"
      ]
     },
     "metadata": {},
     "output_type": "display_data"
    }
   ],
   "source": [
    "import plotly.express as px\n",
    "df = df_precipitaciones\n",
    "# fig = px.line(df, x='date', y='Libertador_Gral__Bernardo_O_Higgins', range_x=['01-01-2001','01-01-2020'])\n",
    "# fig.show()\n",
    "\n",
    "fig = px.line(df, x='date', y='Libertador_Gral__Bernardo_O_Higgins')\n",
    "\n",
    "# Use date string to set xaxis range\n",
    "fig.update_layout(xaxis_range=['2001-01-01','2020-01-01'],\n",
    "                  title_text=\"Manually Set Date Range\")\n",
    "fig.show()\n"
   ]
  },
  {
   "cell_type": "code",
   "execution_count": 57,
   "metadata": {},
   "outputs": [
    {
     "data": {
      "image/png": "[encoded data removed]",
      "text/plain": [
       "<Figure size 1080x432 with 1 Axes>"
      ]
     },
     "metadata": {
      "needs_background": "light"
     },
     "output_type": "display_data"
    }
   ],
   "source": [
    "# Plotting a multi-variate time-series plot\n",
    "plt.figure(figsize=(15, 6))\n",
    "plt.xticks(rotation=65)\n",
    "plt.plot(df_precipitaciones.loc['2001-01-01':'2020-01-01', 'Libertador_Gral__Bernardo_O_Higgins'])\n",
    "plt.legend(['Region Libertador_Gral__Bernardo_O_Higgins'])\n",
    "plt.show()"
   ]
  },
  {
   "cell_type": "code",
   "execution_count": 58,
   "metadata": {},
   "outputs": [
    {
     "data": {
      "image/png": "[encoded data removed]",
      "text/plain": [
       "<Figure size 1080x432 with 1 Axes>"
      ]
     },
     "metadata": {
      "needs_background": "light"
     },
     "output_type": "display_data"
    }
   ],
   "source": [
    "# Plotting a multi-variate time-series plot\n",
    "plt.figure(figsize=(15, 6))\n",
    "plt.xticks(rotation=65)\n",
    "plt.plot(df_precipitaciones.loc['2001-01-01':'2020-01-01', 'Metropolitana_de_Santiago'])\n",
    "plt.legend(['Region Metropolitana_de_Santiago'])\n",
    "plt.show()"
   ]
  },
  {
   "cell_type": "code",
   "execution_count": 79,
   "metadata": {},
   "outputs": [
    {
     "data": {
      "application/vnd.plotly.v1+json": {
       "config": {
        "plotlyServerURL": "https://plot.ly"
       },
       "data": [
        {
         "hovertemplate": "date=%{x}<br>Metropolitana_de_Santiago=%{y}<extra></extra>",
         "legendgroup": "",
         "line": {
          "color": "#636efa",
          "dash": "solid"
         },
         "mode": "lines",
         "name": "",
         "orientation": "v",
         "showlegend": false,
         "type": "scatter",
         "x": [
          "1989-02-01",
          "1998-10-01",
          "2001-02-01",
          "2008-11-01",
          "2009-04-01",
          "2015-01-01",
          "2016-03-01",
          "2020-03-01",
          "1988-12-01",
          "2015-12-01",
          "2009-09-01",
          "2003-01-01",
          "1989-03-01",
          "2000-11-01",
          "2008-03-01",
          "2000-01-01",
          "2006-08-01",
          "1989-07-01",
          "1984-12-01",
          "2001-04-01",
          "1997-04-01",
          "1997-03-01",
          "1982-12-01",
          "1998-12-01",
          "2007-10-01",
          "1996-06-01",
          "2015-03-01",
          "1992-08-01",
          "1998-01-01",
          "2006-03-01",
          "1985-03-01",
          "2011-09-01",
          "1983-01-01",
          "2010-03-01",
          "1979-10-01",
          "2005-08-01",
          "1999-04-01",
          "1986-11-01",
          "2020-01-01",
          "2008-01-01",
          "2003-04-01",
          "2016-01-01",
          "2008-12-01",
          "2002-06-01",
          "2003-12-01",
          "1994-03-01",
          "2011-12-01",
          "2001-11-01",
          "2016-11-01",
          "1984-10-01",
          "2013-05-01",
          "2018-11-01",
          "2002-04-01",
          "1999-01-01",
          "2019-05-01",
          "1990-04-01",
          "2012-03-01",
          "1982-06-01",
          "2003-08-01",
          "1995-07-01",
          "1999-06-01",
          "1989-08-01",
          "1990-06-01",
          "2018-02-01",
          "2000-10-01",
          "2005-02-01",
          "2005-12-01",
          "1985-11-01",
          "2015-07-01",
          "2001-06-01",
          "1993-09-01",
          "2017-04-01",
          "2008-10-01",
          "2017-02-01",
          "1996-09-01",
          "2009-12-01",
          "1992-02-01",
          "2013-11-01",
          "1995-03-01",
          "2007-12-01",
          "2007-02-01",
          "1993-12-01",
          "1990-10-01",
          "1999-09-01",
          "2004-04-01",
          "2000-06-01",
          "2006-07-01",
          "1979-11-01",
          "2006-01-01",
          "2001-09-01",
          "1997-07-01",
          "2019-04-01",
          "2013-09-01",
          "2006-02-01",
          "1988-05-01",
          "2008-07-01",
          "2002-03-01",
          "2011-01-01",
          "1992-04-01",
          "2010-09-01",
          "1992-11-01",
          "1999-07-01",
          "1982-03-01",
          "2009-07-01",
          "2001-08-01",
          "2004-07-01",
          "1996-10-01",
          "2019-01-01",
          "1994-02-01",
          "1990-12-01",
          "2008-08-01",
          "2019-11-01",
          "1991-09-01",
          "2003-10-01",
          "2004-08-01",
          "2013-12-01",
          "2017-01-01",
          "2017-05-01",
          "1995-11-01",
          "1980-05-01",
          "1988-07-01",
          "2019-03-01",
          "1993-03-01",
          "2005-10-01",
          "1991-07-01",
          "2014-07-01",
          "2018-01-01",
          "1985-10-01",
          "1991-08-01",
          "1980-11-01",
          "1983-12-01",
          "1981-02-01",
          "1981-04-01",
          "1982-01-01",
          "1996-04-01",
          "1997-01-01",
          "2004-09-01",
          "2012-01-01",
          "1994-04-01",
          "2012-12-01",
          "1983-11-01",
          "1980-12-01",
          "2000-12-01",
          "1997-02-01",
          "2020-04-01",
          "2001-07-01",
          "2010-05-01",
          "2005-09-01",
          "1989-10-01",
          "2010-06-01",
          "2016-07-01",
          "1996-11-01",
          "1985-12-01",
          "1986-03-01",
          "1989-04-01",
          "2018-04-01",
          "2018-09-01",
          "2017-08-01",
          "2009-05-01",
          "2016-05-01",
          "2004-01-01",
          "2017-12-01",
          "2014-05-01",
          "2010-10-01",
          "1983-08-01",
          "1983-10-01",
          "2020-02-01",
          "2016-08-01",
          "2009-03-01",
          "1990-11-01",
          "1979-01-01",
          "2004-06-01",
          "1998-03-01",
          "1994-06-01",
          "1995-10-01",
          "1982-07-01",
          "1998-11-01",
          "2014-03-01",
          "1988-01-01",
          "1997-08-01",
          "1984-02-01",
          "2005-04-01",
          "1988-03-01",
          "2007-11-01",
          "1985-08-01",
          "1983-03-01",
          "1981-11-01",
          "1999-08-01",
          "2004-10-01",
          "1981-07-01",
          "2004-05-01",
          "2015-04-01",
          "1995-12-01",
          "1987-02-01",
          "1992-12-01",
          "1996-05-01",
          "1996-01-01",
          "1981-03-01",
          "2019-07-01",
          "2000-03-01",
          "1993-06-01",
          "2000-05-01",
          "2003-05-01",
          "1984-03-01",
          "2014-12-01",
          "1983-02-01",
          "2010-01-01",
          "2017-03-01",
          "1990-05-01",
          "2008-09-01",
          "2009-08-01",
          "1986-04-01",
          "1995-01-01",
          "1995-06-01",
          "2001-10-01",
          "2012-02-01",
          "2005-07-01",
          "1979-05-01",
          "2005-03-01",
          "2007-06-01",
          "1986-08-01",
          "1992-07-01",
          "1999-03-01",
          "1997-10-01",
          "2012-04-01",
          "2018-12-01",
          "2012-05-01",
          "2012-09-01",
          "2007-08-01",
          "1984-04-01",
          "2018-08-01",
          "1992-01-01",
          "1993-07-01",
          "2017-09-01",
          "1993-10-01",
          "1992-10-01",
          "1982-05-01",
          "2013-03-01",
          "1986-10-01",
          "1994-10-01",
          "1991-12-01",
          "1980-03-01",
          "2013-06-01",
          "1989-01-01",
          "2008-02-01",
          "2014-02-01",
          "1987-06-01",
          "1984-08-01",
          "1995-02-01",
          "1990-01-01",
          "1980-04-01",
          "2000-09-01",
          "2004-03-01",
          "2005-05-01",
          "2001-05-01",
          "2015-05-01",
          "1981-10-01",
          "1990-09-01",
          "2010-02-01",
          "2013-07-01",
          "1981-09-01",
          "2009-10-01",
          "1985-06-01",
          "1993-08-01",
          "1991-06-01",
          "2007-01-01",
          "1994-05-01",
          "1994-12-01",
          "1987-07-01",
          "2003-09-01",
          "2013-04-01",
          "1993-01-01",
          "1979-07-01",
          "1979-08-01",
          "2000-07-01",
          "1992-09-01",
          "2016-02-01",
          "1989-12-01",
          "2009-06-01",
          "2010-08-01",
          "1991-04-01",
          "2014-09-01",
          "1980-08-01",
          "1990-08-01",
          "2018-10-01",
          "1981-01-01",
          "1982-08-01",
          "1985-09-01",
          "1990-03-01",
          "1992-05-01",
          "1983-05-01",
          "1984-11-01",
          "1993-04-01",
          "2010-04-01",
          "2015-02-01",
          "1999-10-01",
          "1979-09-01",
          "2019-02-01",
          "1994-07-01",
          "2001-12-01",
          "1996-08-01",
          "1988-02-01",
          "2012-08-01",
          "2009-01-01",
          "1998-09-01",
          "1979-03-01",
          "2011-06-01",
          "1985-04-01",
          "2014-10-01",
          "2005-06-01",
          "1980-10-01",
          "2004-11-01",
          "1998-05-01",
          "1982-02-01",
          "2014-08-01",
          "2008-04-01",
          "1991-02-01",
          "2007-04-01",
          "1996-03-01",
          "1984-05-01",
          "2017-10-01",
          "1998-07-01",
          "1979-06-01",
          "1991-01-01",
          "2006-09-01",
          "2007-07-01",
          "2002-07-01",
          "2002-08-01",
          "1982-10-01",
          "1985-01-01",
          "2006-05-01",
          "1995-05-01",
          "1987-08-01",
          "1993-02-01",
          "2011-04-01",
          "2007-05-01",
          "1989-06-01",
          "2006-06-01",
          "2012-06-01",
          "1988-09-01",
          "1986-09-01",
          "1994-11-01",
          "1980-09-01",
          "1982-11-01",
          "2014-06-01",
          "2017-11-01",
          "1986-07-01",
          "1987-03-01",
          "2016-04-01",
          "1983-06-01",
          "1996-07-01",
          "2010-12-01",
          "1988-06-01",
          "1993-11-01",
          "1980-07-01",
          "1989-11-01",
          "1981-06-01",
          "2006-10-01",
          "1982-09-01",
          "2013-10-01",
          "1981-12-01",
          "1984-07-01",
          "1980-06-01",
          "1997-12-01",
          "2000-02-01",
          "2007-03-01",
          "1986-02-01",
          "2015-08-01",
          "1992-03-01",
          "1985-05-01",
          "2002-05-01",
          "1997-11-01",
          "2016-06-01",
          "2016-10-01",
          "2009-11-01",
          "1980-01-01",
          "1988-04-01",
          "1998-06-01",
          "2012-07-01",
          "2006-12-01",
          "2013-01-01",
          "2001-03-01",
          "2018-05-01",
          "2005-11-01",
          "2010-11-01",
          "2018-07-01",
          "1986-05-01",
          "1991-11-01",
          "2003-11-01",
          "2002-12-01",
          "2003-03-01",
          "1996-12-01",
          "1999-12-01",
          "1984-09-01",
          "1994-08-01",
          "1993-05-01",
          "2012-11-01",
          "1980-02-01",
          "1992-06-01",
          "2008-06-01",
          "1988-11-01",
          "2014-11-01",
          "1983-09-01",
          "2002-01-01",
          "1986-06-01",
          "1999-11-01",
          "2017-07-01",
          "1989-09-01",
          "1979-12-01",
          "2011-05-01",
          "2019-12-01",
          "1999-02-01",
          "2019-10-01",
          "1984-01-01",
          "1985-07-01",
          "1990-02-01",
          "2001-01-01",
          "1998-08-01",
          "2016-12-01",
          "1986-12-01",
          "1988-08-01",
          "1989-05-01",
          "2014-04-01",
          "1981-05-01",
          "2002-09-01",
          "1999-05-01",
          "1995-09-01",
          "1987-11-01",
          "1994-09-01",
          "1984-06-01",
          "1985-02-01",
          "1981-08-01",
          "2002-02-01",
          "1997-09-01",
          "2006-04-01",
          "1990-07-01",
          "2000-08-01",
          "2011-10-01",
          "1991-03-01",
          "1998-02-01",
          "2002-11-01",
          "1979-04-01",
          "2011-11-01",
          "1987-10-01",
          "1997-06-01",
          "1986-01-01",
          "1987-01-01",
          "1983-07-01",
          "2007-09-01",
          "2008-05-01",
          "2003-06-01",
          "1997-05-01",
          "2010-07-01",
          "2012-10-01",
          "2019-09-01",
          "1995-04-01",
          "1987-12-01",
          "2002-10-01",
          "2004-02-01",
          "2014-01-01",
          "2015-11-01",
          "1991-05-01",
          "2006-11-01",
          "2000-04-01",
          "1994-01-01",
          "1979-02-01",
          "1995-08-01",
          "2003-02-01",
          "2009-02-01",
          "2013-02-01",
          "2011-02-01",
          "1987-05-01",
          "2011-08-01",
          "2017-06-01",
          "1996-02-01",
          "2013-08-01",
          "1983-04-01",
          "1987-04-01",
          "2011-07-01",
          "2018-06-01",
          "2003-07-01",
          "2015-09-01",
          "2005-01-01",
          "1987-09-01",
          "2015-10-01",
          "2019-06-01",
          "2004-12-01",
          "1998-04-01",
          "1991-10-01",
          "2011-03-01",
          "2018-03-01",
          "1988-10-01",
          "2019-08-01",
          "2015-06-01",
          "2016-09-01",
          "1982-04-01"
         ],
         "xaxis": "x",
         "y": [
          0.0282718120705361,
          0.011493288230576,
          0.00263422820092048,
          0.0158724833979903,
          0.00939597324436943,
          0.365453019178779,
          0.0568959731764891,
          0,
          5.764244970034231,
          0.6887919481081151,
          124.17848972986201,
          25.9863087770923,
          0.6805369142605451,
          38.4891443600591,
          20.02199665332,
          0.136979865610299,
          84.05989928853592,
          142.731594348114,
          0.453523490271662,
          31.536241572975303,
          16.543439591691,
          11.761291940134,
          4.41241610126457,
          5.1491946401012,
          2.67850670188465,
          57.9478524403284,
          6.855453008992111,
          100.688422737506,
          0.0101845638713981,
          0.19901006821943,
          15.922449706384802,
          10.8890268616785,
          14.897164413192899,
          0.0118624160828806,
          10.871275198239601,
          262.204278037052,
          18.5064094248634,
          13.9668456340496,
          6.9371476510067,
          1.7410906001725501,
          2.2804194637855497,
          10.9158221399224,
          0.9645637584843941,
          222.308859421903,
          4.46406038969305,
          6.86181208570081,
          0.504077181970113,
          5.421375830932799,
          5.973624159300691,
          31.8904529617937,
          134.130436340434,
          10.849798643236499,
          16.2870469883384,
          8.21802011254125,
          45.925805287073096,
          22.804932890153605,
          0.656241613046435,
          524.592667138017,
          9.522298653022501,
          125.730050354196,
          89.81214764934259,
          199.11040285609698,
          25.4016443006944,
          2.20317114333641,
          15.5102516620751,
          0.5004530214117029,
          2.08409395883947,
          10.020587246789999,
          125.567953109741,
          21.7002684490243,
          25.891342293096102,
          38.1025334945411,
          4.51624163047679,
          14.673758399916599,
          9.406191274433098,
          0.278825502986426,
          11.1814932976693,
          3.60021812083112,
          0.127516778601621,
          6.32704698284088,
          21.877567115246002,
          11.748506686231401,
          21.6215939321774,
          139.83189607146602,
          62.8623658290645,
          481.12971509382993,
          329.392834989817,
          41.7979866687408,
          5.73295300882685,
          15.046224815077199,
          70.2705367955585,
          6.953859051786389,
          37.912785225366605,
          7.28966443442846,
          10.868926170688301,
          75.9452853946878,
          12.5202852378431,
          7.69102350217384,
          84.9381543965948,
          19.1739429356312,
          23.058993273133396,
          32.542818838417894,
          24.802986600654997,
          30.533422819720002,
          129.439748373608,
          99.273993216905,
          14.971325513250502,
          3.04612416347439,
          2.65815435969677,
          14.2936745300708,
          182.500369014356,
          1.8106711383021399,
          102.680637551634,
          5.64171141210393,
          68.1222146805501,
          2.16135905626474,
          1.06052014064169,
          118.52947998686899,
          1.8386073805166798,
          167.818255264487,
          85.3569296766448,
          3.3578523517236296,
          0,
          23.3562416103512,
          192.35790297488998,
          65.903741786944,
          6.00555370139246,
          51.7084899574718,
          15.239697974140801,
          8.70317111104952,
          0.0211409398623361,
          9.32167783462061,
          26.9392449765547,
          0.56768456279869,
          32.5661913116506,
          4.27223155470002,
          66.994312055959,
          11.168422844864098,
          59.672214773677304,
          48.02406041574161,
          0.22921140985750899,
          7.300453027122769,
          0.43931207959946506,
          2.7741442992033196,
          16.033775167785198,
          344.106543547355,
          56.3011409596309,
          43.1961745099733,
          6.86929530822891,
          132.875067064426,
          137.98837226509198,
          0.9716610725775309,
          0.582483221861165,
          0.7358724812933258,
          17.3406879174829,
          13.148741609398199,
          79.45661076283301,
          80.2882885044853,
          35.3385906299489,
          76.9460066948961,
          4.26102349059281,
          1.79453020246899,
          59.9841441204084,
          20.2373993244747,
          99.9135234947973,
          7.69825502700054,
          0.0320637583892613,
          19.5474329087508,
          2.4982382566136803,
          6.47441275121219,
          2.44711409372609,
          65.7376340571666,
          7.268104030731941,
          72.28609077722429,
          12.6575335923664,
          219.510403063473,
          0.269882550363073,
          5.403087250900849,
          0.298909395686257,
          170.86296980173,
          0.139261744682046,
          13.9877181481195,
          9.85392616412309,
          7.09196307965173,
          4.759832211063809,
          1.8367449709108001,
          4.5581208123894195,
          129.266107572005,
          28.076476483337,
          51.4744966542161,
          19.8078355591169,
          0.378087247471831,
          5.53766778276471,
          8.502466462458791,
          0.58488255084161,
          11.668724842969599,
          4.19085570308536,
          2.2390771820084905,
          21.203070496327697,
          0.10941275185436598,
          122.354664444123,
          31.136124163666,
          95.7572650781414,
          23.029899327146897,
          7.1950671211566295,
          6.632751676860269,
          1.06949664721415,
          3.02855704406326,
          37.5189932992794,
          13.258456357404699,
          139.102046864145,
          65.0215940107435,
          5.99006710653412,
          144.127148007386,
          8.94756707364081,
          2.03914429083617,
          62.4620469775076,
          50.1871476317412,
          29.502952991715997,
          139.11145978326,
          126.373791861054,
          36.7116611495914,
          14.2479362505794,
          92.2340266144516,
          27.3419966029641,
          9.46812079817169,
          108.912701478741,
          3.7992114094054705,
          47.6346979549267,
          20.4193791738093,
          34.2410066751826,
          0.216409394555044,
          77.3481207950003,
          37.6084396375106,
          18.2151006859877,
          6.32441275263668,
          180.885537230728,
          3.5009228156054504,
          21.611610707820702,
          19.0012416363563,
          50.6703355296346,
          0.00620805364627166,
          54.5056544918342,
          5.06401006807417,
          7.04036912482057,
          17.803070451948603,
          56.43137587316879,
          69.16800335309651,
          5.5996811982969295,
          5.03325502563193,
          227.8520129287,
          144.087231629647,
          29.7673322630409,
          149.67058730285402,
          131.38149329319901,
          3.6548993205026603,
          8.44854027355065,
          82.47615794367441,
          0.446526842829365,
          26.1286241936204,
          31.7891275330678,
          20.891308747282,
          47.11043619352,
          29.952432880465604,
          172.21263423382,
          1.27746644338605,
          73.6307046877458,
          9.46614096026193,
          475.46333927436206,
          51.6557214812144,
          6.72354025601241,
          8.69407719928746,
          170.614261672001,
          130.50362406481,
          45.1591945958618,
          43.260604045535096,
          0.13214765029690598,
          4.69060402578555,
          142.681862415083,
          17.3164765067749,
          62.870620703537206,
          76.0147483812883,
          27.054479882271103,
          73.72739932361071,
          38.336711323051205,
          2.6880369109051605,
          151.82177876466102,
          57.89796979955379,
          34.0683054179953,
          204.049462632045,
          80.1205872561308,
          21.8191107229498,
          96.3107550384214,
          5.7036074005042305,
          6.43716442514986,
          30.9557383220468,
          77.7051006603561,
          2.50436241219395,
          178.95709738635398,
          2.20494967349961,
          102.75734890227301,
          1.15270134119392,
          59.09583896598561,
          4.640604025828059,
          39.7265771123387,
          0,
          97.66125817266891,
          12.621191258242199,
          9.39196308573158,
          296.626091221035,
          8.883372491875651,
          57.99662757399901,
          47.9389931896401,
          0.757583889063298,
          57.1055704107221,
          30.8506879212472,
          1.0199328912172,
          17.1097315426966,
          0.158557047211134,
          164.805905770935,
          43.9033892906752,
          0.20149328934978797,
          1.3971644308724298,
          3.2861744929542596,
          31.24966445844,
          124.632315130042,
          121.60597340372601,
          192.094849080847,
          54.863003465153206,
          11.0764429466736,
          38.871191313752796,
          13.2949496612372,
          288.917717927254,
          5.83907718969284,
          27.6678187981773,
          25.662231592523998,
          51.4698658333529,
          126.272416370827,
          162.316577252126,
          25.7074160947396,
          19.893103981478102,
          2.9757550326269704,
          68.4107045807294,
          5.54184564075514,
          116.84404357167699,
          12.5101342002874,
          11.1259731495153,
          19.239412758774396,
          243.600235266973,
          147.340872329353,
          29.106895977149897,
          9.74327181979714,
          24.853003323109398,
          10.6191275395522,
          150.760352237113,
          2.12825502982776,
          35.9472986709752,
          86.55503355576691,
          196.663154282026,
          5.759848985608491,
          1.11104027324375,
          437.633406107858,
          122.420755040726,
          11.001627501500302,
          21.5291442537068,
          23.0162751490638,
          11.216543602063402,
          183.43013428041598,
          10.785503363018,
          60.0731039975314,
          230.794143894375,
          20.613557038866198,
          76.1176174279027,
          58.7169296597474,
          10.8416610956755,
          4.23708053932982,
          6.4660067090877105,
          43.4822483226757,
          15.877617448368301,
          2.46062080039886,
          9.72288590112088,
          20.694194598385998,
          43.6559731400253,
          18.7718120841372,
          37.7329195041784,
          93.56958061576691,
          246.067332222958,
          10.3092449906613,
          37.1389932856464,
          8.88984899614131,
          1.80543624644712,
          9.725369107203198,
          3.6922147649734103,
          105.82802026223801,
          13.4260235062782,
          182.707902601101,
          9.505402685908741,
          22.6049328738411,
          227.50384196339002,
          108.225687795037,
          13.809312069175999,
          15.546157724505301,
          50.929345587956,
          4.42268455718588,
          306.336610768465,
          0.8923154381360079,
          52.4967281810389,
          56.921476432941105,
          49.835100658788,
          6.3923657733522,
          3.6014429502120398,
          1.0319798652007701,
          12.197718141113,
          4.34848994130719,
          112.00577168176599,
          3.49654363433287,
          2.41488254931912,
          1.79963086989252,
          26.0644463085688,
          3.4811409401719904,
          122.95681178969801,
          34.824865821223895,
          11.6125000191496,
          259.639160770698,
          51.1104194221881,
          32.0455369229285,
          33.451862364807404,
          1.66010067590056,
          39.0680200885606,
          110.59859048600201,
          0.252080536885,
          87.3718960157177,
          0.203892617336406,
          158.196845765082,
          17.777651061047603,
          57.0133556479576,
          25.858355748810897,
          11.3228523639225,
          0.17684563786891502,
          24.2767281834311,
          4.81248320489434,
          13.722349017383499,
          6.52964764328411,
          54.1413925734142,
          417.069379256076,
          0.857651006674157,
          0.6434228191708511,
          184.82847326393903,
          0.9660067111722521,
          262.620620561126,
          110.00593957965,
          151.63283572741,
          55.012500034882706,
          54.8314596278555,
          17.457919447579698,
          56.329647552247,
          6.29392616606424,
          25.202936246291102,
          5.80394295123312,
          7.27827181044541,
          20.3234899478071,
          169.42003365331,
          3.7100335458831095,
          23.446895971394202,
          0.29812080415603304,
          3.9978523445972,
          68.7465100160381,
          0.633640940332373,
          7.4334228361312995,
          10.5723154322063,
          11.290083907347698,
          98.91278522926692,
          96.086745018927,
          116.962030103543,
          0.11256711370930499,
          59.3566778074175,
          23.560805397445698,
          15.903137550033,
          65.56174504196879,
          68.406946207853,
          76.3919127483496,
          80.2461073510599,
          18.4659899266424,
          51.6779027577215,
          91.4798993424281,
          82.64095624181249,
          5.346996646524481,
          67.6895639400354,
          36.332550332050204,
          9.45006713681173,
          3.83914430114447,
          4.62171140160637,
          4.50974832303297,
          4.88870805442558,
          1.06697986523102,
          6.84860741857114
         ],
         "yaxis": "y"
        }
       ],
       "layout": {
        "legend": {
         "tracegroupgap": 0
        },
        "margin": {
         "t": 60
        },
        "template": {
         "data": {
          "bar": [
           {
            "error_x": {
             "color": "#2a3f5f"
            },
            "error_y": {
             "color": "#2a3f5f"
            },
            "marker": {
             "line": {
              "color": "#E5ECF6",
              "width": 0.5
             }
            },
            "type": "bar"
           }
          ],
          "barpolar": [
           {
            "marker": {
             "line": {
              "color": "#E5ECF6",
              "width": 0.5
             }
            },
            "type": "barpolar"
           }
          ],
          "carpet": [
           {
            "aaxis": {
             "endlinecolor": "#2a3f5f",
             "gridcolor": "white",
             "linecolor": "white",
             "minorgridcolor": "white",
             "startlinecolor": "#2a3f5f"
            },
            "baxis": {
             "endlinecolor": "#2a3f5f",
             "gridcolor": "white",
             "linecolor": "white",
             "minorgridcolor": "white",
             "startlinecolor": "#2a3f5f"
            },
            "type": "carpet"
           }
          ],
          "choropleth": [
           {
            "colorbar": {
             "outlinewidth": 0,
             "ticks": ""
            },
            "type": "choropleth"
           }
          ],
          "contour": [
           {
            "colorbar": {
             "outlinewidth": 0,
             "ticks": ""
            },
            "colorscale": [
             [
              0,
              "#0d0887"
             ],
             [
              0.1111111111111111,
              "#46039f"
             ],
             [
              0.2222222222222222,
              "#7201a8"
             ],
             [
              0.3333333333333333,
              "#9c179e"
             ],
             [
              0.4444444444444444,
              "#bd3786"
             ],
             [
              0.5555555555555556,
              "#d8576b"
             ],
             [
              0.6666666666666666,
              "#ed7953"
             ],
             [
              0.7777777777777778,
              "#fb9f3a"
             ],
             [
              0.8888888888888888,
              "#fdca26"
             ],
             [
              1,
              "#f0f921"
             ]
            ],
            "type": "contour"
           }
          ],
          "contourcarpet": [
           {
            "colorbar": {
             "outlinewidth": 0,
             "ticks": ""
            },
            "type": "contourcarpet"
           }
          ],
          "heatmap": [
           {
            "colorbar": {
             "outlinewidth": 0,
             "ticks": ""
            },
            "colorscale": [
             [
              0,
              "#0d0887"
             ],
             [
              0.1111111111111111,
              "#46039f"
             ],
             [
              0.2222222222222222,
              "#7201a8"
             ],
             [
              0.3333333333333333,
              "#9c179e"
             ],
             [
              0.4444444444444444,
              "#bd3786"
             ],
             [
              0.5555555555555556,
              "#d8576b"
             ],
             [
              0.6666666666666666,
              "#ed7953"
             ],
             [
              0.7777777777777778,
              "#fb9f3a"
             ],
             [
              0.8888888888888888,
              "#fdca26"
             ],
             [
              1,
              "#f0f921"
             ]
            ],
            "type": "heatmap"
           }
          ],
          "heatmapgl": [
           {
            "colorbar": {
             "outlinewidth": 0,
             "ticks": ""
            },
            "colorscale": [
             [
              0,
              "#0d0887"
             ],
             [
              0.1111111111111111,
              "#46039f"
             ],
             [
              0.2222222222222222,
              "#7201a8"
             ],
             [
              0.3333333333333333,
              "#9c179e"
             ],
             [
              0.4444444444444444,
              "#bd3786"
             ],
             [
              0.5555555555555556,
              "#d8576b"
             ],
             [
              0.6666666666666666,
              "#ed7953"
             ],
             [
              0.7777777777777778,
              "#fb9f3a"
             ],
             [
              0.8888888888888888,
              "#fdca26"
             ],
             [
              1,
              "#f0f921"
             ]
            ],
            "type": "heatmapgl"
           }
          ],
          "histogram": [
           {
            "marker": {
             "colorbar": {
              "outlinewidth": 0,
              "ticks": ""
             }
            },
            "type": "histogram"
           }
          ],
          "histogram2d": [
           {
            "colorbar": {
             "outlinewidth": 0,
             "ticks": ""
            },
            "colorscale": [
             [
              0,
              "#0d0887"
             ],
             [
              0.1111111111111111,
              "#46039f"
             ],
             [
              0.2222222222222222,
              "#7201a8"
             ],
             [
              0.3333333333333333,
              "#9c179e"
             ],
             [
              0.4444444444444444,
              "#bd3786"
             ],
             [
              0.5555555555555556,
              "#d8576b"
             ],
             [
              0.6666666666666666,
              "#ed7953"
             ],
             [
              0.7777777777777778,
              "#fb9f3a"
             ],
             [
              0.8888888888888888,
              "#fdca26"
             ],
             [
              1,
              "#f0f921"
             ]
            ],
            "type": "histogram2d"
           }
          ],
          "histogram2dcontour": [
           {
            "colorbar": {
             "outlinewidth": 0,
             "ticks": ""
            },
            "colorscale": [
             [
              0,
              "#0d0887"
             ],
             [
              0.1111111111111111,
              "#46039f"
             ],
             [
              0.2222222222222222,
              "#7201a8"
             ],
             [
              0.3333333333333333,
              "#9c179e"
             ],
             [
              0.4444444444444444,
              "#bd3786"
             ],
             [
              0.5555555555555556,
              "#d8576b"
             ],
             [
              0.6666666666666666,
              "#ed7953"
             ],
             [
              0.7777777777777778,
              "#fb9f3a"
             ],
             [
              0.8888888888888888,
              "#fdca26"
             ],
             [
              1,
              "#f0f921"
             ]
            ],
            "type": "histogram2dcontour"
           }
          ],
          "mesh3d": [
           {
            "colorbar": {
             "outlinewidth": 0,
             "ticks": ""
            },
            "type": "mesh3d"
           }
          ],
          "parcoords": [
           {
            "line": {
             "colorbar": {
              "outlinewidth": 0,
              "ticks": ""
             }
            },
            "type": "parcoords"
           }
          ],
          "pie": [
           {
            "automargin": true,
            "type": "pie"
           }
          ],
          "scatter": [
           {
            "marker": {
             "colorbar": {
              "outlinewidth": 0,
              "ticks": ""
             }
            },
            "type": "scatter"
           }
          ],
          "scatter3d": [
           {
            "line": {
             "colorbar": {
              "outlinewidth": 0,
              "ticks": ""
             }
            },
            "marker": {
             "colorbar": {
              "outlinewidth": 0,
              "ticks": ""
             }
            },
            "type": "scatter3d"
           }
          ],
          "scattercarpet": [
           {
            "marker": {
             "colorbar": {
              "outlinewidth": 0,
              "ticks": ""
             }
            },
            "type": "scattercarpet"
           }
          ],
          "scattergeo": [
           {
            "marker": {
             "colorbar": {
              "outlinewidth": 0,
              "ticks": ""
             }
            },
            "type": "scattergeo"
           }
          ],
          "scattergl": [
           {
            "marker": {
             "colorbar": {
              "outlinewidth": 0,
              "ticks": ""
             }
            },
            "type": "scattergl"
           }
          ],
          "scattermapbox": [
           {
            "marker": {
             "colorbar": {
              "outlinewidth": 0,
              "ticks": ""
             }
            },
            "type": "scattermapbox"
           }
          ],
          "scatterpolar": [
           {
            "marker": {
             "colorbar": {
              "outlinewidth": 0,
              "ticks": ""
             }
            },
            "type": "scatterpolar"
           }
          ],
          "scatterpolargl": [
           {
            "marker": {
             "colorbar": {
              "outlinewidth": 0,
              "ticks": ""
             }
            },
            "type": "scatterpolargl"
           }
          ],
          "scatterternary": [
           {
            "marker": {
             "colorbar": {
              "outlinewidth": 0,
              "ticks": ""
             }
            },
            "type": "scatterternary"
           }
          ],
          "surface": [
           {
            "colorbar": {
             "outlinewidth": 0,
             "ticks": ""
            },
            "colorscale": [
             [
              0,
              "#0d0887"
             ],
             [
              0.1111111111111111,
              "#46039f"
             ],
             [
              0.2222222222222222,
              "#7201a8"
             ],
             [
              0.3333333333333333,
              "#9c179e"
             ],
             [
              0.4444444444444444,
              "#bd3786"
             ],
             [
              0.5555555555555556,
              "#d8576b"
             ],
             [
              0.6666666666666666,
              "#ed7953"
             ],
             [
              0.7777777777777778,
              "#fb9f3a"
             ],
             [
              0.8888888888888888,
              "#fdca26"
             ],
             [
              1,
              "#f0f921"
             ]
            ],
            "type": "surface"
           }
          ],
          "table": [
           {
            "cells": {
             "fill": {
              "color": "#EBF0F8"
             },
             "line": {
              "color": "white"
             }
            },
            "header": {
             "fill": {
              "color": "#C8D4E3"
             },
             "line": {
              "color": "white"
             }
            },
            "type": "table"
           }
          ]
         },
         "layout": {
          "annotationdefaults": {
           "arrowcolor": "#2a3f5f",
           "arrowhead": 0,
           "arrowwidth": 1
          },
          "autotypenumbers": "strict",
          "coloraxis": {
           "colorbar": {
            "outlinewidth": 0,
            "ticks": ""
           }
          },
          "colorscale": {
           "diverging": [
            [
             0,
             "#8e0152"
            ],
            [
             0.1,
             "#c51b7d"
            ],
            [
             0.2,
             "#de77ae"
            ],
            [
             0.3,
             "#f1b6da"
            ],
            [
             0.4,
             "#fde0ef"
            ],
            [
             0.5,
             "#f7f7f7"
            ],
            [
             0.6,
             "#e6f5d0"
            ],
            [
             0.7,
             "#b8e186"
            ],
            [
             0.8,
             "#7fbc41"
            ],
            [
             0.9,
             "#4d9221"
            ],
            [
             1,
             "#276419"
            ]
           ],
           "sequential": [
            [
             0,
             "#0d0887"
            ],
            [
             0.1111111111111111,
             "#46039f"
            ],
            [
             0.2222222222222222,
             "#7201a8"
            ],
            [
             0.3333333333333333,
             "#9c179e"
            ],
            [
             0.4444444444444444,
             "#bd3786"
            ],
            [
             0.5555555555555556,
             "#d8576b"
            ],
            [
             0.6666666666666666,
             "#ed7953"
            ],
            [
             0.7777777777777778,
             "#fb9f3a"
            ],
            [
             0.8888888888888888,
             "#fdca26"
            ],
            [
             1,
             "#f0f921"
            ]
           ],
           "sequentialminus": [
            [
             0,
             "#0d0887"
            ],
            [
             0.1111111111111111,
             "#46039f"
            ],
            [
             0.2222222222222222,
             "#7201a8"
            ],
            [
             0.3333333333333333,
             "#9c179e"
            ],
            [
             0.4444444444444444,
             "#bd3786"
            ],
            [
             0.5555555555555556,
             "#d8576b"
            ],
            [
             0.6666666666666666,
             "#ed7953"
            ],
            [
             0.7777777777777778,
             "#fb9f3a"
            ],
            [
             0.8888888888888888,
             "#fdca26"
            ],
            [
             1,
             "#f0f921"
            ]
           ]
          },
          "colorway": [
           "#636efa",
           "#EF553B",
           "#00cc96",
           "#ab63fa",
           "#FFA15A",
           "#19d3f3",
           "#FF6692",
           "#B6E880",
           "#FF97FF",
           "#FECB52"
          ],
          "font": {
           "color": "#2a3f5f"
          },
          "geo": {
           "bgcolor": "white",
           "lakecolor": "white",
           "landcolor": "#E5ECF6",
           "showlakes": true,
           "showland": true,
           "subunitcolor": "white"
          },
          "hoverlabel": {
           "align": "left"
          },
          "hovermode": "closest",
          "mapbox": {
           "style": "light"
          },
          "paper_bgcolor": "white",
          "plot_bgcolor": "#E5ECF6",
          "polar": {
           "angularaxis": {
            "gridcolor": "white",
            "linecolor": "white",
            "ticks": ""
           },
           "bgcolor": "#E5ECF6",
           "radialaxis": {
            "gridcolor": "white",
            "linecolor": "white",
            "ticks": ""
           }
          },
          "scene": {
           "xaxis": {
            "backgroundcolor": "#E5ECF6",
            "gridcolor": "white",
            "gridwidth": 2,
            "linecolor": "white",
            "showbackground": true,
            "ticks": "",
            "zerolinecolor": "white"
           },
           "yaxis": {
            "backgroundcolor": "#E5ECF6",
            "gridcolor": "white",
            "gridwidth": 2,
            "linecolor": "white",
            "showbackground": true,
            "ticks": "",
            "zerolinecolor": "white"
           },
           "zaxis": {
            "backgroundcolor": "#E5ECF6",
            "gridcolor": "white",
            "gridwidth": 2,
            "linecolor": "white",
            "showbackground": true,
            "ticks": "",
            "zerolinecolor": "white"
           }
          },
          "shapedefaults": {
           "line": {
            "color": "#2a3f5f"
           }
          },
          "ternary": {
           "aaxis": {
            "gridcolor": "white",
            "linecolor": "white",
            "ticks": ""
           },
           "baxis": {
            "gridcolor": "white",
            "linecolor": "white",
            "ticks": ""
           },
           "bgcolor": "#E5ECF6",
           "caxis": {
            "gridcolor": "white",
            "linecolor": "white",
            "ticks": ""
           }
          },
          "title": {
           "x": 0.05
          },
          "xaxis": {
           "automargin": true,
           "gridcolor": "white",
           "linecolor": "white",
           "ticks": "",
           "title": {
            "standoff": 15
           },
           "zerolinecolor": "white",
           "zerolinewidth": 2
          },
          "yaxis": {
           "automargin": true,
           "gridcolor": "white",
           "linecolor": "white",
           "ticks": "",
           "title": {
            "standoff": 15
           },
           "zerolinecolor": "white",
           "zerolinewidth": 2
          }
         }
        },
        "title": {
         "text": "Manually Set Date Range"
        },
        "xaxis": {
         "anchor": "y",
         "domain": [
          0,
          1
         ],
         "range": [
          "2001-01-01",
          "2020-01-01"
         ],
         "title": {
          "text": "date"
         }
        },
        "yaxis": {
         "anchor": "x",
         "domain": [
          0,
          1
         ],
         "title": {
          "text": "Metropolitana_de_Santiago"
         }
        }
       }
      },
      "text/html": [
       "<div>                            <div id=\"7002ec1c-7da3-4065-bf2e-1e832c2d65e5\" class=\"plotly-graph-div\" style=\"height:525px; width:100%;\"></div>            <script type=\"text/javascript\">                require([\"plotly\"], function(Plotly) {                    window.PLOTLYENV=window.PLOTLYENV || {};                                    if (document.getElementById(\"7002ec1c-7da3-4065-bf2e-1e832c2d65e5\")) {                    Plotly.newPlot(                        \"7002ec1c-7da3-4065-bf2e-1e832c2d65e5\",                        [{\"hovertemplate\": \"date=%{x}<br>Metropolitana_de_Santiago=%{y}<extra></extra>\", \"legendgroup\": \"\", \"line\": {\"color\": \"#636efa\", \"dash\": \"solid\"}, \"mode\": \"lines\", \"name\": \"\", \"orientation\": \"v\", \"showlegend\": false, \"type\": \"scatter\", \"x\": [\"1989-02-01\", \"1998-10-01\", \"2001-02-01\", \"2008-11-01\", \"2009-04-01\", \"2015-01-01\", \"2016-03-01\", \"2020-03-01\", \"1988-12-01\", \"2015-12-01\", \"2009-09-01\", \"2003-01-01\", \"1989-03-01\", \"2000-11-01\", \"2008-03-01\", \"2000-01-01\", \"2006-08-01\", \"1989-07-01\", \"1984-12-01\", \"2001-04-01\", \"1997-04-01\", \"1997-03-01\", \"1982-12-01\", \"1998-12-01\", \"2007-10-01\", \"1996-06-01\", \"2015-03-01\", \"1992-08-01\", \"1998-01-01\", \"2006-03-01\", \"1985-03-01\", \"2011-09-01\", \"1983-01-01\", \"2010-03-01\", \"1979-10-01\", \"2005-08-01\", \"1999-04-01\", \"1986-11-01\", \"2020-01-01\", \"2008-01-01\", \"2003-04-01\", \"2016-01-01\", \"2008-12-01\", \"2002-06-01\", \"2003-12-01\", \"1994-03-01\", \"2011-12-01\", \"2001-11-01\", \"2016-11-01\", \"1984-10-01\", \"2013-05-01\", \"2018-11-01\", \"2002-04-01\", \"1999-01-01\", \"2019-05-01\", \"1990-04-01\", \"2012-03-01\", \"1982-06-01\", \"2003-08-01\", \"1995-07-01\", \"1999-06-01\", \"1989-08-01\", \"1990-06-01\", \"2018-02-01\", \"2000-10-01\", \"2005-02-01\", \"2005-12-01\", \"1985-11-01\", \"2015-07-01\", \"2001-06-01\", \"1993-09-01\", \"2017-04-01\", \"2008-10-01\", \"2017-02-01\", \"1996-09-01\", \"2009-12-01\", \"1992-02-01\", \"2013-11-01\", \"1995-03-01\", \"2007-12-01\", \"2007-02-01\", \"1993-12-01\", \"1990-10-01\", \"1999-09-01\", \"2004-04-01\", \"2000-06-01\", \"2006-07-01\", \"1979-11-01\", \"2006-01-01\", \"2001-09-01\", \"1997-07-01\", \"2019-04-01\", \"2013-09-01\", \"2006-02-01\", \"1988-05-01\", \"2008-07-01\", \"2002-03-01\", \"2011-01-01\", \"1992-04-01\", \"2010-09-01\", \"1992-11-01\", \"1999-07-01\", \"1982-03-01\", \"2009-07-01\", \"2001-08-01\", \"2004-07-01\", \"1996-10-01\", \"2019-01-01\", \"1994-02-01\", \"1990-12-01\", \"2008-08-01\", \"2019-11-01\", \"1991-09-01\", \"2003-10-01\", \"2004-08-01\", \"2013-12-01\", \"2017-01-01\", \"2017-05-01\", \"1995-11-01\", \"1980-05-01\", \"1988-07-01\", \"2019-03-01\", \"1993-03-01\", \"2005-10-01\", \"1991-07-01\", \"2014-07-01\", \"2018-01-01\", \"1985-10-01\", \"1991-08-01\", \"1980-11-01\", \"1983-12-01\", \"1981-02-01\", \"1981-04-01\", \"1982-01-01\", \"1996-04-01\", \"1997-01-01\", \"2004-09-01\", \"2012-01-01\", \"1994-04-01\", \"2012-12-01\", \"1983-11-01\", \"1980-12-01\", \"2000-12-01\", \"1997-02-01\", \"2020-04-01\", \"2001-07-01\", \"2010-05-01\", \"2005-09-01\", \"1989-10-01\", \"2010-06-01\", \"2016-07-01\", \"1996-11-01\", \"1985-12-01\", \"1986-03-01\", \"1989-04-01\", \"2018-04-01\", \"2018-09-01\", \"2017-08-01\", \"2009-05-01\", \"2016-05-01\", \"2004-01-01\", \"2017-12-01\", \"2014-05-01\", \"2010-10-01\", \"1983-08-01\", \"1983-10-01\", \"2020-02-01\", \"2016-08-01\", \"2009-03-01\", \"1990-11-01\", \"1979-01-01\", \"2004-06-01\", \"1998-03-01\", \"1994-06-01\", \"1995-10-01\", \"1982-07-01\", \"1998-11-01\", \"2014-03-01\", \"1988-01-01\", \"1997-08-01\", \"1984-02-01\", \"2005-04-01\", \"1988-03-01\", \"2007-11-01\", \"1985-08-01\", \"1983-03-01\", \"1981-11-01\", \"1999-08-01\", \"2004-10-01\", \"1981-07-01\", \"2004-05-01\", \"2015-04-01\", \"1995-12-01\", \"1987-02-01\", \"1992-12-01\", \"1996-05-01\", \"1996-01-01\", \"1981-03-01\", \"2019-07-01\", \"2000-03-01\", \"1993-06-01\", \"2000-05-01\", \"2003-05-01\", \"1984-03-01\", \"2014-12-01\", \"1983-02-01\", \"2010-01-01\", \"2017-03-01\", \"1990-05-01\", \"2008-09-01\", \"2009-08-01\", \"1986-04-01\", \"1995-01-01\", \"1995-06-01\", \"2001-10-01\", \"2012-02-01\", \"2005-07-01\", \"1979-05-01\", \"2005-03-01\", \"2007-06-01\", \"1986-08-01\", \"1992-07-01\", \"1999-03-01\", \"1997-10-01\", \"2012-04-01\", \"2018-12-01\", \"2012-05-01\", \"2012-09-01\", \"2007-08-01\", \"1984-04-01\", \"2018-08-01\", \"1992-01-01\", \"1993-07-01\", \"2017-09-01\", \"1993-10-01\", \"1992-10-01\", \"1982-05-01\", \"2013-03-01\", \"1986-10-01\", \"1994-10-01\", \"1991-12-01\", \"1980-03-01\", \"2013-06-01\", \"1989-01-01\", \"2008-02-01\", \"2014-02-01\", \"1987-06-01\", \"1984-08-01\", \"1995-02-01\", \"1990-01-01\", \"1980-04-01\", \"2000-09-01\", \"2004-03-01\", \"2005-05-01\", \"2001-05-01\", \"2015-05-01\", \"1981-10-01\", \"1990-09-01\", \"2010-02-01\", \"2013-07-01\", \"1981-09-01\", \"2009-10-01\", \"1985-06-01\", \"1993-08-01\", \"1991-06-01\", \"2007-01-01\", \"1994-05-01\", \"1994-12-01\", \"1987-07-01\", \"2003-09-01\", \"2013-04-01\", \"1993-01-01\", \"1979-07-01\", \"1979-08-01\", \"2000-07-01\", \"1992-09-01\", \"2016-02-01\", \"1989-12-01\", \"2009-06-01\", \"2010-08-01\", \"1991-04-01\", \"2014-09-01\", \"1980-08-01\", \"1990-08-01\", \"2018-10-01\", \"1981-01-01\", \"1982-08-01\", \"1985-09-01\", \"1990-03-01\", \"1992-05-01\", \"1983-05-01\", \"1984-11-01\", \"1993-04-01\", \"2010-04-01\", \"2015-02-01\", \"1999-10-01\", \"1979-09-01\", \"2019-02-01\", \"1994-07-01\", \"2001-12-01\", \"1996-08-01\", \"1988-02-01\", \"2012-08-01\", \"2009-01-01\", \"1998-09-01\", \"1979-03-01\", \"2011-06-01\", \"1985-04-01\", \"2014-10-01\", \"2005-06-01\", \"1980-10-01\", \"2004-11-01\", \"1998-05-01\", \"1982-02-01\", \"2014-08-01\", \"2008-04-01\", \"1991-02-01\", \"2007-04-01\", \"1996-03-01\", \"1984-05-01\", \"2017-10-01\", \"1998-07-01\", \"1979-06-01\", \"1991-01-01\", \"2006-09-01\", \"2007-07-01\", \"2002-07-01\", \"2002-08-01\", \"1982-10-01\", \"1985-01-01\", \"2006-05-01\", \"1995-05-01\", \"1987-08-01\", \"1993-02-01\", \"2011-04-01\", \"2007-05-01\", \"1989-06-01\", \"2006-06-01\", \"2012-06-01\", \"1988-09-01\", \"1986-09-01\", \"1994-11-01\", \"1980-09-01\", \"1982-11-01\", \"2014-06-01\", \"2017-11-01\", \"1986-07-01\", \"1987-03-01\", \"2016-04-01\", \"1983-06-01\", \"1996-07-01\", \"2010-12-01\", \"1988-06-01\", \"1993-11-01\", \"1980-07-01\", \"1989-11-01\", \"1981-06-01\", \"2006-10-01\", \"1982-09-01\", \"2013-10-01\", \"1981-12-01\", \"1984-07-01\", \"1980-06-01\", \"1997-12-01\", \"2000-02-01\", \"2007-03-01\", \"1986-02-01\", \"2015-08-01\", \"1992-03-01\", \"1985-05-01\", \"2002-05-01\", \"1997-11-01\", \"2016-06-01\", \"2016-10-01\", \"2009-11-01\", \"1980-01-01\", \"1988-04-01\", \"1998-06-01\", \"2012-07-01\", \"2006-12-01\", \"2013-01-01\", \"2001-03-01\", \"2018-05-01\", \"2005-11-01\", \"2010-11-01\", \"2018-07-01\", \"1986-05-01\", \"1991-11-01\", \"2003-11-01\", \"2002-12-01\", \"2003-03-01\", \"1996-12-01\", \"1999-12-01\", \"1984-09-01\", \"1994-08-01\", \"1993-05-01\", \"2012-11-01\", \"1980-02-01\", \"1992-06-01\", \"2008-06-01\", \"1988-11-01\", \"2014-11-01\", \"1983-09-01\", \"2002-01-01\", \"1986-06-01\", \"1999-11-01\", \"2017-07-01\", \"1989-09-01\", \"1979-12-01\", \"2011-05-01\", \"2019-12-01\", \"1999-02-01\", \"2019-10-01\", \"1984-01-01\", \"1985-07-01\", \"1990-02-01\", \"2001-01-01\", \"1998-08-01\", \"2016-12-01\", \"1986-12-01\", \"1988-08-01\", \"1989-05-01\", \"2014-04-01\", \"1981-05-01\", \"2002-09-01\", \"1999-05-01\", \"1995-09-01\", \"1987-11-01\", \"1994-09-01\", \"1984-06-01\", \"1985-02-01\", \"1981-08-01\", \"2002-02-01\", \"1997-09-01\", \"2006-04-01\", \"1990-07-01\", \"2000-08-01\", \"2011-10-01\", \"1991-03-01\", \"1998-02-01\", \"2002-11-01\", \"1979-04-01\", \"2011-11-01\", \"1987-10-01\", \"1997-06-01\", \"1986-01-01\", \"1987-01-01\", \"1983-07-01\", \"2007-09-01\", \"2008-05-01\", \"2003-06-01\", \"1997-05-01\", \"2010-07-01\", \"2012-10-01\", \"2019-09-01\", \"1995-04-01\", \"1987-12-01\", \"2002-10-01\", \"2004-02-01\", \"2014-01-01\", \"2015-11-01\", \"1991-05-01\", \"2006-11-01\", \"2000-04-01\", \"1994-01-01\", \"1979-02-01\", \"1995-08-01\", \"2003-02-01\", \"2009-02-01\", \"2013-02-01\", \"2011-02-01\", \"1987-05-01\", \"2011-08-01\", \"2017-06-01\", \"1996-02-01\", \"2013-08-01\", \"1983-04-01\", \"1987-04-01\", \"2011-07-01\", \"2018-06-01\", \"2003-07-01\", \"2015-09-01\", \"2005-01-01\", \"1987-09-01\", \"2015-10-01\", \"2019-06-01\", \"2004-12-01\", \"1998-04-01\", \"1991-10-01\", \"2011-03-01\", \"2018-03-01\", \"1988-10-01\", \"2019-08-01\", \"2015-06-01\", \"2016-09-01\", \"1982-04-01\"], \"xaxis\": \"x\", \"y\": [0.0282718120705361, 0.011493288230576, 0.00263422820092048, 0.0158724833979903, 0.00939597324436943, 0.365453019178779, 0.0568959731764891, 0.0, 5.764244970034231, 0.6887919481081151, 124.17848972986201, 25.9863087770923, 0.6805369142605451, 38.4891443600591, 20.02199665332, 0.136979865610299, 84.05989928853592, 142.731594348114, 0.453523490271662, 31.536241572975303, 16.543439591691, 11.761291940134, 4.41241610126457, 5.1491946401012, 2.67850670188465, 57.9478524403284, 6.855453008992111, 100.688422737506, 0.0101845638713981, 0.19901006821943, 15.922449706384802, 10.8890268616785, 14.897164413192899, 0.0118624160828806, 10.871275198239601, 262.204278037052, 18.5064094248634, 13.9668456340496, 6.9371476510067, 1.7410906001725501, 2.2804194637855497, 10.9158221399224, 0.9645637584843941, 222.308859421903, 4.46406038969305, 6.86181208570081, 0.504077181970113, 5.421375830932799, 5.973624159300691, 31.8904529617937, 134.130436340434, 10.849798643236499, 16.2870469883384, 8.21802011254125, 45.925805287073096, 22.804932890153605, 0.656241613046435, 524.592667138017, 9.522298653022501, 125.730050354196, 89.81214764934259, 199.11040285609698, 25.4016443006944, 2.20317114333641, 15.5102516620751, 0.5004530214117029, 2.08409395883947, 10.020587246789999, 125.567953109741, 21.7002684490243, 25.891342293096102, 38.1025334945411, 4.51624163047679, 14.673758399916599, 9.406191274433098, 0.278825502986426, 11.1814932976693, 3.60021812083112, 0.127516778601621, 6.32704698284088, 21.877567115246002, 11.748506686231401, 21.6215939321774, 139.83189607146602, 62.8623658290645, 481.12971509382993, 329.392834989817, 41.7979866687408, 5.73295300882685, 15.046224815077199, 70.2705367955585, 6.953859051786389, 37.912785225366605, 7.28966443442846, 10.868926170688301, 75.9452853946878, 12.5202852378431, 7.69102350217384, 84.9381543965948, 19.1739429356312, 23.058993273133396, 32.542818838417894, 24.802986600654997, 30.533422819720002, 129.439748373608, 99.273993216905, 14.971325513250502, 3.04612416347439, 2.65815435969677, 14.2936745300708, 182.500369014356, 1.8106711383021399, 102.680637551634, 5.64171141210393, 68.1222146805501, 2.16135905626474, 1.06052014064169, 118.52947998686899, 1.8386073805166798, 167.818255264487, 85.3569296766448, 3.3578523517236296, 0.0, 23.3562416103512, 192.35790297488998, 65.903741786944, 6.00555370139246, 51.7084899574718, 15.239697974140801, 8.70317111104952, 0.0211409398623361, 9.32167783462061, 26.9392449765547, 0.56768456279869, 32.5661913116506, 4.27223155470002, 66.994312055959, 11.168422844864098, 59.672214773677304, 48.02406041574161, 0.22921140985750899, 7.300453027122769, 0.43931207959946506, 2.7741442992033196, 16.033775167785198, 344.106543547355, 56.3011409596309, 43.1961745099733, 6.86929530822891, 132.875067064426, 137.98837226509198, 0.9716610725775309, 0.582483221861165, 0.7358724812933258, 17.3406879174829, 13.148741609398199, 79.45661076283301, 80.2882885044853, 35.3385906299489, 76.9460066948961, 4.26102349059281, 1.79453020246899, 59.9841441204084, 20.2373993244747, 99.9135234947973, 7.69825502700054, 0.0320637583892613, 19.5474329087508, 2.4982382566136803, 6.47441275121219, 2.44711409372609, 65.7376340571666, 7.268104030731941, 72.28609077722429, 12.6575335923664, 219.510403063473, 0.269882550363073, 5.403087250900849, 0.298909395686257, 170.86296980173, 0.139261744682046, 13.9877181481195, 9.85392616412309, 7.09196307965173, 4.759832211063809, 1.8367449709108001, 4.5581208123894195, 129.266107572005, 28.076476483337, 51.4744966542161, 19.8078355591169, 0.378087247471831, 5.53766778276471, 8.502466462458791, 0.58488255084161, 11.668724842969599, 4.19085570308536, 2.2390771820084905, 21.203070496327697, 0.10941275185436598, 122.354664444123, 31.136124163666, 95.7572650781414, 23.029899327146897, 7.1950671211566295, 6.632751676860269, 1.06949664721415, 3.02855704406326, 37.5189932992794, 13.258456357404699, 139.102046864145, 65.0215940107435, 5.99006710653412, 144.127148007386, 8.94756707364081, 2.03914429083617, 62.4620469775076, 50.1871476317412, 29.502952991715997, 139.11145978326, 126.373791861054, 36.7116611495914, 14.2479362505794, 92.2340266144516, 27.3419966029641, 9.46812079817169, 108.912701478741, 3.7992114094054705, 47.6346979549267, 20.4193791738093, 34.2410066751826, 0.216409394555044, 77.3481207950003, 37.6084396375106, 18.2151006859877, 6.32441275263668, 180.885537230728, 3.5009228156054504, 21.611610707820702, 19.0012416363563, 50.6703355296346, 0.00620805364627166, 54.5056544918342, 5.06401006807417, 7.04036912482057, 17.803070451948603, 56.43137587316879, 69.16800335309651, 5.5996811982969295, 5.03325502563193, 227.8520129287, 144.087231629647, 29.7673322630409, 149.67058730285402, 131.38149329319901, 3.6548993205026603, 8.44854027355065, 82.47615794367441, 0.446526842829365, 26.1286241936204, 31.7891275330678, 20.891308747282, 47.11043619352, 29.952432880465604, 172.21263423382, 1.27746644338605, 73.6307046877458, 9.46614096026193, 475.46333927436206, 51.6557214812144, 6.72354025601241, 8.69407719928746, 170.614261672001, 130.50362406481, 45.1591945958618, 43.260604045535096, 0.13214765029690598, 4.69060402578555, 142.681862415083, 17.3164765067749, 62.870620703537206, 76.0147483812883, 27.054479882271103, 73.72739932361071, 38.336711323051205, 2.6880369109051605, 151.82177876466102, 57.89796979955379, 34.0683054179953, 204.049462632045, 80.1205872561308, 21.8191107229498, 96.3107550384214, 5.7036074005042305, 6.43716442514986, 30.9557383220468, 77.7051006603561, 2.50436241219395, 178.95709738635398, 2.20494967349961, 102.75734890227301, 1.15270134119392, 59.09583896598561, 4.640604025828059, 39.7265771123387, 0.0, 97.66125817266891, 12.621191258242199, 9.39196308573158, 296.626091221035, 8.883372491875651, 57.99662757399901, 47.9389931896401, 0.757583889063298, 57.1055704107221, 30.8506879212472, 1.0199328912172, 17.1097315426966, 0.158557047211134, 164.805905770935, 43.9033892906752, 0.20149328934978797, 1.3971644308724298, 3.2861744929542596, 31.24966445844, 124.632315130042, 121.60597340372601, 192.094849080847, 54.863003465153206, 11.0764429466736, 38.871191313752796, 13.2949496612372, 288.917717927254, 5.83907718969284, 27.6678187981773, 25.662231592523998, 51.4698658333529, 126.272416370827, 162.316577252126, 25.7074160947396, 19.893103981478102, 2.9757550326269704, 68.4107045807294, 5.54184564075514, 116.84404357167699, 12.5101342002874, 11.1259731495153, 19.239412758774396, 243.600235266973, 147.340872329353, 29.106895977149897, 9.74327181979714, 24.853003323109398, 10.6191275395522, 150.760352237113, 2.12825502982776, 35.9472986709752, 86.55503355576691, 196.663154282026, 5.759848985608491, 1.11104027324375, 437.633406107858, 122.420755040726, 11.001627501500302, 21.5291442537068, 23.0162751490638, 11.216543602063402, 183.43013428041598, 10.785503363018, 60.0731039975314, 230.794143894375, 20.613557038866198, 76.1176174279027, 58.7169296597474, 10.8416610956755, 4.23708053932982, 6.4660067090877105, 43.4822483226757, 15.877617448368301, 2.46062080039886, 9.72288590112088, 20.694194598385998, 43.6559731400253, 18.7718120841372, 37.7329195041784, 93.56958061576691, 246.067332222958, 10.3092449906613, 37.1389932856464, 8.88984899614131, 1.80543624644712, 9.725369107203198, 3.6922147649734103, 105.82802026223801, 13.4260235062782, 182.707902601101, 9.505402685908741, 22.6049328738411, 227.50384196339002, 108.225687795037, 13.809312069175999, 15.546157724505301, 50.929345587956, 4.42268455718588, 306.336610768465, 0.8923154381360079, 52.4967281810389, 56.921476432941105, 49.835100658788, 6.3923657733522, 3.6014429502120398, 1.0319798652007701, 12.197718141113, 4.34848994130719, 112.00577168176599, 3.49654363433287, 2.41488254931912, 1.79963086989252, 26.0644463085688, 3.4811409401719904, 122.95681178969801, 34.824865821223895, 11.6125000191496, 259.639160770698, 51.1104194221881, 32.0455369229285, 33.451862364807404, 1.66010067590056, 39.0680200885606, 110.59859048600201, 0.252080536885, 87.3718960157177, 0.203892617336406, 158.196845765082, 17.777651061047603, 57.0133556479576, 25.858355748810897, 11.3228523639225, 0.17684563786891502, 24.2767281834311, 4.81248320489434, 13.722349017383499, 6.52964764328411, 54.1413925734142, 417.069379256076, 0.857651006674157, 0.6434228191708511, 184.82847326393903, 0.9660067111722521, 262.620620561126, 110.00593957965, 151.63283572741, 55.012500034882706, 54.8314596278555, 17.457919447579698, 56.329647552247, 6.29392616606424, 25.202936246291102, 5.80394295123312, 7.27827181044541, 20.3234899478071, 169.42003365331, 3.7100335458831095, 23.446895971394202, 0.29812080415603304, 3.9978523445972, 68.7465100160381, 0.633640940332373, 7.4334228361312995, 10.5723154322063, 11.290083907347698, 98.91278522926692, 96.086745018927, 116.962030103543, 0.11256711370930499, 59.3566778074175, 23.560805397445698, 15.903137550033, 65.56174504196879, 68.406946207853, 76.3919127483496, 80.2461073510599, 18.4659899266424, 51.6779027577215, 91.4798993424281, 82.64095624181249, 5.346996646524481, 67.6895639400354, 36.332550332050204, 9.45006713681173, 3.83914430114447, 4.62171140160637, 4.50974832303297, 4.88870805442558, 1.06697986523102, 6.84860741857114], \"yaxis\": \"y\"}],                        {\"legend\": {\"tracegroupgap\": 0}, \"margin\": {\"t\": 60}, \"template\": {\"data\": {\"bar\": [{\"error_x\": {\"color\": \"#2a3f5f\"}, \"error_y\": {\"color\": \"#2a3f5f\"}, \"marker\": {\"line\": {\"color\": \"#E5ECF6\", \"width\": 0.5}}, \"type\": \"bar\"}], \"barpolar\": [{\"marker\": {\"line\": {\"color\": \"#E5ECF6\", \"width\": 0.5}}, \"type\": \"barpolar\"}], \"carpet\": [{\"aaxis\": {\"endlinecolor\": \"#2a3f5f\", \"gridcolor\": \"white\", \"linecolor\": \"white\", \"minorgridcolor\": \"white\", \"startlinecolor\": \"#2a3f5f\"}, \"baxis\": {\"endlinecolor\": \"#2a3f5f\", \"gridcolor\": \"white\", \"linecolor\": \"white\", \"minorgridcolor\": \"white\", \"startlinecolor\": \"#2a3f5f\"}, \"type\": \"carpet\"}], \"choropleth\": [{\"colorbar\": {\"outlinewidth\": 0, \"ticks\": \"\"}, \"type\": \"choropleth\"}], \"contour\": [{\"colorbar\": {\"outlinewidth\": 0, \"ticks\": \"\"}, \"colorscale\": [[0.0, \"#0d0887\"], [0.1111111111111111, \"#46039f\"], [0.2222222222222222, \"#7201a8\"], [0.3333333333333333, \"#9c179e\"], [0.4444444444444444, \"#bd3786\"], [0.5555555555555556, \"#d8576b\"], [0.6666666666666666, \"#ed7953\"], [0.7777777777777778, \"#fb9f3a\"], [0.8888888888888888, \"#fdca26\"], [1.0, \"#f0f921\"]], \"type\": \"contour\"}], \"contourcarpet\": [{\"colorbar\": {\"outlinewidth\": 0, \"ticks\": \"\"}, \"type\": \"contourcarpet\"}], \"heatmap\": [{\"colorbar\": {\"outlinewidth\": 0, \"ticks\": \"\"}, \"colorscale\": [[0.0, \"#0d0887\"], [0.1111111111111111, \"#46039f\"], [0.2222222222222222, \"#7201a8\"], [0.3333333333333333, \"#9c179e\"], [0.4444444444444444, \"#bd3786\"], [0.5555555555555556, \"#d8576b\"], [0.6666666666666666, \"#ed7953\"], [0.7777777777777778, \"#fb9f3a\"], [0.8888888888888888, \"#fdca26\"], [1.0, \"#f0f921\"]], \"type\": \"heatmap\"}], \"heatmapgl\": [{\"colorbar\": {\"outlinewidth\": 0, \"ticks\": \"\"}, \"colorscale\": [[0.0, \"#0d0887\"], [0.1111111111111111, \"#46039f\"], [0.2222222222222222, \"#7201a8\"], [0.3333333333333333, \"#9c179e\"], [0.4444444444444444, \"#bd3786\"], [0.5555555555555556, \"#d8576b\"], [0.6666666666666666, \"#ed7953\"], [0.7777777777777778, \"#fb9f3a\"], [0.8888888888888888, \"#fdca26\"], [1.0, \"#f0f921\"]], \"type\": \"heatmapgl\"}], \"histogram\": [{\"marker\": {\"colorbar\": {\"outlinewidth\": 0, \"ticks\": \"\"}}, \"type\": \"histogram\"}], \"histogram2d\": [{\"colorbar\": {\"outlinewidth\": 0, \"ticks\": \"\"}, \"colorscale\": [[0.0, \"#0d0887\"], [0.1111111111111111, \"#46039f\"], [0.2222222222222222, \"#7201a8\"], [0.3333333333333333, \"#9c179e\"], [0.4444444444444444, \"#bd3786\"], [0.5555555555555556, \"#d8576b\"], [0.6666666666666666, \"#ed7953\"], [0.7777777777777778, \"#fb9f3a\"], [0.8888888888888888, \"#fdca26\"], [1.0, \"#f0f921\"]], \"type\": \"histogram2d\"}], \"histogram2dcontour\": [{\"colorbar\": {\"outlinewidth\": 0, \"ticks\": \"\"}, \"colorscale\": [[0.0, \"#0d0887\"], [0.1111111111111111, \"#46039f\"], [0.2222222222222222, \"#7201a8\"], [0.3333333333333333, \"#9c179e\"], [0.4444444444444444, \"#bd3786\"], [0.5555555555555556, \"#d8576b\"], [0.6666666666666666, \"#ed7953\"], [0.7777777777777778, \"#fb9f3a\"], [0.8888888888888888, \"#fdca26\"], [1.0, \"#f0f921\"]], \"type\": \"histogram2dcontour\"}], \"mesh3d\": [{\"colorbar\": {\"outlinewidth\": 0, \"ticks\": \"\"}, \"type\": \"mesh3d\"}], \"parcoords\": [{\"line\": {\"colorbar\": {\"outlinewidth\": 0, \"ticks\": \"\"}}, \"type\": \"parcoords\"}], \"pie\": [{\"automargin\": true, \"type\": \"pie\"}], \"scatter\": [{\"marker\": {\"colorbar\": {\"outlinewidth\": 0, \"ticks\": \"\"}}, \"type\": \"scatter\"}], \"scatter3d\": [{\"line\": {\"colorbar\": {\"outlinewidth\": 0, \"ticks\": \"\"}}, \"marker\": {\"colorbar\": {\"outlinewidth\": 0, \"ticks\": \"\"}}, \"type\": \"scatter3d\"}], \"scattercarpet\": [{\"marker\": {\"colorbar\": {\"outlinewidth\": 0, \"ticks\": \"\"}}, \"type\": \"scattercarpet\"}], \"scattergeo\": [{\"marker\": {\"colorbar\": {\"outlinewidth\": 0, \"ticks\": \"\"}}, \"type\": \"scattergeo\"}], \"scattergl\": [{\"marker\": {\"colorbar\": {\"outlinewidth\": 0, \"ticks\": \"\"}}, \"type\": \"scattergl\"}], \"scattermapbox\": [{\"marker\": {\"colorbar\": {\"outlinewidth\": 0, \"ticks\": \"\"}}, \"type\": \"scattermapbox\"}], \"scatterpolar\": [{\"marker\": {\"colorbar\": {\"outlinewidth\": 0, \"ticks\": \"\"}}, \"type\": \"scatterpolar\"}], \"scatterpolargl\": [{\"marker\": {\"colorbar\": {\"outlinewidth\": 0, \"ticks\": \"\"}}, \"type\": \"scatterpolargl\"}], \"scatterternary\": [{\"marker\": {\"colorbar\": {\"outlinewidth\": 0, \"ticks\": \"\"}}, \"type\": \"scatterternary\"}], \"surface\": [{\"colorbar\": {\"outlinewidth\": 0, \"ticks\": \"\"}, \"colorscale\": [[0.0, \"#0d0887\"], [0.1111111111111111, \"#46039f\"], [0.2222222222222222, \"#7201a8\"], [0.3333333333333333, \"#9c179e\"], [0.4444444444444444, \"#bd3786\"], [0.5555555555555556, \"#d8576b\"], [0.6666666666666666, \"#ed7953\"], [0.7777777777777778, \"#fb9f3a\"], [0.8888888888888888, \"#fdca26\"], [1.0, \"#f0f921\"]], \"type\": \"surface\"}], \"table\": [{\"cells\": {\"fill\": {\"color\": \"#EBF0F8\"}, \"line\": {\"color\": \"white\"}}, \"header\": {\"fill\": {\"color\": \"#C8D4E3\"}, \"line\": {\"color\": \"white\"}}, \"type\": \"table\"}]}, \"layout\": {\"annotationdefaults\": {\"arrowcolor\": \"#2a3f5f\", \"arrowhead\": 0, \"arrowwidth\": 1}, \"autotypenumbers\": \"strict\", \"coloraxis\": {\"colorbar\": {\"outlinewidth\": 0, \"ticks\": \"\"}}, \"colorscale\": {\"diverging\": [[0, \"#8e0152\"], [0.1, \"#c51b7d\"], [0.2, \"#de77ae\"], [0.3, \"#f1b6da\"], [0.4, \"#fde0ef\"], [0.5, \"#f7f7f7\"], [0.6, \"#e6f5d0\"], [0.7, \"#b8e186\"], [0.8, \"#7fbc41\"], [0.9, \"#4d9221\"], [1, \"#276419\"]], \"sequential\": [[0.0, \"#0d0887\"], [0.1111111111111111, \"#46039f\"], [0.2222222222222222, \"#7201a8\"], [0.3333333333333333, \"#9c179e\"], [0.4444444444444444, \"#bd3786\"], [0.5555555555555556, \"#d8576b\"], [0.6666666666666666, \"#ed7953\"], [0.7777777777777778, \"#fb9f3a\"], [0.8888888888888888, \"#fdca26\"], [1.0, \"#f0f921\"]], \"sequentialminus\": [[0.0, \"#0d0887\"], [0.1111111111111111, \"#46039f\"], [0.2222222222222222, \"#7201a8\"], [0.3333333333333333, \"#9c179e\"], [0.4444444444444444, \"#bd3786\"], [0.5555555555555556, \"#d8576b\"], [0.6666666666666666, \"#ed7953\"], [0.7777777777777778, \"#fb9f3a\"], [0.8888888888888888, \"#fdca26\"], [1.0, \"#f0f921\"]]}, \"colorway\": [\"#636efa\", \"#EF553B\", \"#00cc96\", \"#ab63fa\", \"#FFA15A\", \"#19d3f3\", \"#FF6692\", \"#B6E880\", \"#FF97FF\", \"#FECB52\"], \"font\": {\"color\": \"#2a3f5f\"}, \"geo\": {\"bgcolor\": \"white\", \"lakecolor\": \"white\", \"landcolor\": \"#E5ECF6\", \"showlakes\": true, \"showland\": true, \"subunitcolor\": \"white\"}, \"hoverlabel\": {\"align\": \"left\"}, \"hovermode\": \"closest\", \"mapbox\": {\"style\": \"light\"}, \"paper_bgcolor\": \"white\", \"plot_bgcolor\": \"#E5ECF6\", \"polar\": {\"angularaxis\": {\"gridcolor\": \"white\", \"linecolor\": \"white\", \"ticks\": \"\"}, \"bgcolor\": \"#E5ECF6\", \"radialaxis\": {\"gridcolor\": \"white\", \"linecolor\": \"white\", \"ticks\": \"\"}}, \"scene\": {\"xaxis\": {\"backgroundcolor\": \"#E5ECF6\", \"gridcolor\": \"white\", \"gridwidth\": 2, \"linecolor\": \"white\", \"showbackground\": true, \"ticks\": \"\", \"zerolinecolor\": \"white\"}, \"yaxis\": {\"backgroundcolor\": \"#E5ECF6\", \"gridcolor\": \"white\", \"gridwidth\": 2, \"linecolor\": \"white\", \"showbackground\": true, \"ticks\": \"\", \"zerolinecolor\": \"white\"}, \"zaxis\": {\"backgroundcolor\": \"#E5ECF6\", \"gridcolor\": \"white\", \"gridwidth\": 2, \"linecolor\": \"white\", \"showbackground\": true, \"ticks\": \"\", \"zerolinecolor\": \"white\"}}, \"shapedefaults\": {\"line\": {\"color\": \"#2a3f5f\"}}, \"ternary\": {\"aaxis\": {\"gridcolor\": \"white\", \"linecolor\": \"white\", \"ticks\": \"\"}, \"baxis\": {\"gridcolor\": \"white\", \"linecolor\": \"white\", \"ticks\": \"\"}, \"bgcolor\": \"#E5ECF6\", \"caxis\": {\"gridcolor\": \"white\", \"linecolor\": \"white\", \"ticks\": \"\"}}, \"title\": {\"x\": 0.05}, \"xaxis\": {\"automargin\": true, \"gridcolor\": \"white\", \"linecolor\": \"white\", \"ticks\": \"\", \"title\": {\"standoff\": 15}, \"zerolinecolor\": \"white\", \"zerolinewidth\": 2}, \"yaxis\": {\"automargin\": true, \"gridcolor\": \"white\", \"linecolor\": \"white\", \"ticks\": \"\", \"title\": {\"standoff\": 15}, \"zerolinecolor\": \"white\", \"zerolinewidth\": 2}}}, \"title\": {\"text\": \"Manually Set Date Range\"}, \"xaxis\": {\"anchor\": \"y\", \"domain\": [0.0, 1.0], \"range\": [\"2001-01-01\", \"2020-01-01\"], \"title\": {\"text\": \"date\"}}, \"yaxis\": {\"anchor\": \"x\", \"domain\": [0.0, 1.0], \"title\": {\"text\": \"Metropolitana_de_Santiago\"}}},                        {\"responsive\": true}                    ).then(function(){\n",
       "                            \n",
       "var gd = document.getElementById('7002ec1c-7da3-4065-bf2e-1e832c2d65e5');\n",
       "var x = new MutationObserver(function (mutations, observer) {{\n",
       "        var display = window.getComputedStyle(gd).display;\n",
       "        if (!display || display === 'none') {{\n",
       "            console.log([gd, 'removed!']);\n",
       "            Plotly.purge(gd);\n",
       "            observer.disconnect();\n",
       "        }}\n",
       "}});\n",
       "\n",
       "// Listen for the removal of the full notebook cells\n",
       "var notebookContainer = gd.closest('#notebook-container');\n",
       "if (notebookContainer) {{\n",
       "    x.observe(notebookContainer, {childList: true});\n",
       "}}\n",
       "\n",
       "// Listen for the clearing of the current output cell\n",
       "var outputEl = gd.closest('.output');\n",
       "if (outputEl) {{\n",
       "    x.observe(outputEl, {childList: true});\n",
       "}}\n",
       "\n",
       "                        })                };                });            </script>        </div>"
      ]
     },
     "metadata": {},
     "output_type": "display_data"
    }
   ],
   "source": [
    "fig = px.line(df, x='date', y='Metropolitana_de_Santiago')\n",
    "\n",
    "# Use date string to set xaxis range\n",
    "fig.update_layout(xaxis_range=['2001-01-01','2020-01-01'],\n",
    "                  title_text=\"Manually Set Date Range\")\n",
    "fig.show()"
   ]
  },
  {
   "cell_type": "code",
   "execution_count": 28,
   "metadata": {},
   "outputs": [],
   "source": [
    "#Funcion para graficar \n",
    "def time_plot_precipitaciones(region,fecha_inicial,fecha_final,mostrar_grafica_dinamica=True):\n",
    "    fig = go.Figure()\n",
    "    df_time = df_precipitaciones.loc[\n",
    "        (df_precipitaciones.Metropolitana_de_Santiago == region) &\n",
    "        ((df_precipitaciones.date >= datetime.strptime(fecha_inicial,'%Y-%m-%d'))&\n",
    "         (df_precipitaciones.date <=  datetime.strptime(fecha_final,'%Y-%m-%d'))),\n",
    "        ['region','date']\n",
    "    ].sort_values(by = ['fecha'])\n",
    "    \n",
    "    fig.add_trace(go.Scatter(x =df_time.fecha,y = df_time.Metropolitana_de_Santiago, mode='lines', name='Region'))\n",
    "    fig.update_layout(title = 'Precipitaciones')\n",
    "    \n",
    "    if mostrar_grafica_dinamica: fig.show()\n",
    "    fig.show(\"png\")#Se construyó en png para que no haya problemas al exportar a github\n",
    "    #fig.show()\n",
    "    return df_time"
   ]
  },
  {
   "cell_type": "code",
   "execution_count": null,
   "metadata": {},
   "outputs": [],
   "source": [
    "time = time_plot_precipitaciones('Metropolitana_de_Santiago','2001-01-01','2020-01-01',mostrar_grafica_dinamica=False)\n",
    "\n"
   ]
  },
  {
   "cell_type": "code",
   "execution_count": null,
   "metadata": {},
   "outputs": [],
   "source": []
  }
 ],
 "metadata": {
  "kernelspec": {
   "display_name": "Python 3",
   "language": "python",
   "name": "python3"
  },
  "language_info": {
   "codemirror_mode": {
    "name": "ipython",
    "version": 3
   },
   "file_extension": ".py",
   "mimetype": "text/x-python",
   "name": "python",
   "nbconvert_exporter": "python",
   "pygments_lexer": "ipython3",
   "version": "3.7.6"
  }
 },
 "nbformat": 4,
 "nbformat_minor": 4
}
